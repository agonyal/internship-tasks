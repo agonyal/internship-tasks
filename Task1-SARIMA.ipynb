{
 "cells": [
  {
   "cell_type": "code",
   "execution_count": 3,
   "metadata": {},
   "outputs": [],
   "source": [
    "import warnings\n",
    "warnings.filterwarnings('ignore')\n",
    "from tqdm import tqdm\n",
    "\n",
    "import pandas as pd\n",
    "import numpy as np\n",
    "from sklearn.metrics import mean_squared_error\n",
    "\n",
    "import scipy.stats as scs\n",
    "\n",
    "from statsmodels.graphics.tsaplots import plot_acf\n",
    "from statsmodels.graphics.tsaplots import plot_pacf\n",
    "from statsmodels.tsa.statespace.sarimax import SARIMAX\n",
    "from statsmodels.stats.diagnostic import acorr_ljungbox\n",
    "import statsmodels.tsa.api as smt\n",
    "import statsmodels.api as sm\n",
    "\n",
    "import matplotlib.pyplot as plt\n",
    "%matplotlib inline\n",
    "\n",
    "\n",
    "\n",
    "import plotly.express as px\n",
    "from plotly.subplots import make_subplots"
   ]
  },
  {
   "cell_type": "code",
   "execution_count": 4,
   "metadata": {},
   "outputs": [],
   "source": [
    "data = pd.read_csv('task1.csv', index_col='data')"
   ]
  },
  {
   "cell_type": "code",
   "execution_count": 5,
   "metadata": {},
   "outputs": [
    {
     "data": {
      "text/html": [
       "<div>\n",
       "<style scoped>\n",
       "    .dataframe tbody tr th:only-of-type {\n",
       "        vertical-align: middle;\n",
       "    }\n",
       "\n",
       "    .dataframe tbody tr th {\n",
       "        vertical-align: top;\n",
       "    }\n",
       "\n",
       "    .dataframe thead th {\n",
       "        text-align: right;\n",
       "    }\n",
       "</style>\n",
       "<table border=\"1\" class=\"dataframe\">\n",
       "  <thead>\n",
       "    <tr style=\"text-align: right;\">\n",
       "      <th></th>\n",
       "      <th>value</th>\n",
       "    </tr>\n",
       "    <tr>\n",
       "      <th>data</th>\n",
       "      <th></th>\n",
       "    </tr>\n",
       "  </thead>\n",
       "  <tbody>\n",
       "    <tr>\n",
       "      <th>01.01.2019</th>\n",
       "      <td>14.77</td>\n",
       "    </tr>\n",
       "    <tr>\n",
       "      <th>02.01.2019</th>\n",
       "      <td>14.83</td>\n",
       "    </tr>\n",
       "    <tr>\n",
       "      <th>03.01.2019</th>\n",
       "      <td>16.20</td>\n",
       "    </tr>\n",
       "    <tr>\n",
       "      <th>05.01.2019</th>\n",
       "      <td>15.50</td>\n",
       "    </tr>\n",
       "    <tr>\n",
       "      <th>06.01.2019</th>\n",
       "      <td>15.16</td>\n",
       "    </tr>\n",
       "  </tbody>\n",
       "</table>\n",
       "</div>"
      ],
      "text/plain": [
       "            value\n",
       "data             \n",
       "01.01.2019  14.77\n",
       "02.01.2019  14.83\n",
       "03.01.2019  16.20\n",
       "05.01.2019  15.50\n",
       "06.01.2019  15.16"
      ]
     },
     "execution_count": 5,
     "metadata": {},
     "output_type": "execute_result"
    }
   ],
   "source": [
    "data.head()"
   ]
  },
  {
   "cell_type": "code",
   "execution_count": 6,
   "metadata": {},
   "outputs": [
    {
     "name": "stdout",
     "output_type": "stream",
     "text": [
      "<class 'pandas.core.frame.DataFrame'>\n",
      "Index: 140 entries, 01.01.2019 to 03.06.2019\n",
      "Data columns (total 1 columns):\n",
      " #   Column  Non-Null Count  Dtype  \n",
      "---  ------  --------------  -----  \n",
      " 0   value   140 non-null    float64\n",
      "dtypes: float64(1)\n",
      "memory usage: 1.6+ KB\n"
     ]
    }
   ],
   "source": [
    "data.info()"
   ]
  },
  {
   "cell_type": "code",
   "execution_count": 8,
   "metadata": {},
   "outputs": [
    {
     "data": {
      "application/vnd.plotly.v1+json": {
       "config": {
        "plotlyServerURL": "https://plot.ly"
       },
       "data": [
        {
         "hovertemplate": "variable=value<br>data=%{x}<br>_value=%{y}<extra></extra>",
         "legendgroup": "value",
         "line": {
          "color": "#636efa",
          "dash": "solid"
         },
         "mode": "lines",
         "name": "value",
         "orientation": "v",
         "showlegend": true,
         "type": "scatter",
         "x": [
          "01.01.2019",
          "02.01.2019",
          "03.01.2019",
          "05.01.2019",
          "06.01.2019",
          "07.01.2019",
          "08.01.2019",
          "09.01.2019",
          "10.01.2019",
          "11.01.2019",
          "12.01.2019",
          "13.01.2019",
          "14.01.2019",
          "17.01.2019",
          "18.01.2019",
          "19.01.2019",
          "20.01.2019",
          "21.01.2019",
          "22.01.2019",
          "23.01.2019",
          "25.01.2019",
          "26.01.2019",
          "27.01.2019",
          "28.01.2019",
          "29.01.2019",
          "30.01.2019",
          "31.01.2019",
          "01.02.2019",
          "02.02.2019",
          "03.02.2019",
          "04.02.2019",
          "05.02.2019",
          "06.02.2019",
          "08.02.2019",
          "10.02.2019",
          "12.02.2019",
          "13.02.2019",
          "15.02.2019",
          "16.02.2019",
          "18.02.2019",
          "19.02.2019",
          "20.02.2019",
          "21.02.2019",
          "22.02.2019",
          "23.02.2019",
          "25.02.2019",
          "26.02.2019",
          "28.02.2019",
          "02.03.2019",
          "03.03.2019",
          "04.03.2019",
          "05.03.2019",
          "06.03.2019",
          "07.03.2019",
          "08.03.2019",
          "10.03.2019",
          "12.03.2019",
          "13.03.2019",
          "14.03.2019",
          "15.03.2019",
          "16.03.2019",
          "17.03.2019",
          "18.03.2019",
          "19.03.2019",
          "20.03.2019",
          "21.03.2019",
          "22.03.2019",
          "23.03.2019",
          "24.03.2019",
          "25.03.2019",
          "26.03.2019",
          "27.03.2019",
          "28.03.2019",
          "29.03.2019",
          "30.03.2019",
          "31.03.2019",
          "01.04.2019",
          "02.04.2019",
          "03.04.2019",
          "04.04.2019",
          "05.04.2019",
          "06.04.2019",
          "07.04.2019",
          "08.04.2019",
          "09.04.2019",
          "10.04.2019",
          "11.04.2019",
          "12.04.2019",
          "13.04.2019",
          "14.04.2019",
          "15.04.2019",
          "16.04.2019",
          "17.04.2019",
          "18.04.2019",
          "19.04.2019",
          "20.04.2019",
          "21.04.2019",
          "22.04.2019",
          "23.04.2019",
          "24.04.2019",
          "25.04.2019",
          "26.04.2019",
          "27.04.2019",
          "28.04.2019",
          "29.04.2019",
          "30.04.2019",
          "01.05.2019",
          "02.05.2019",
          "03.05.2019",
          "04.05.2019",
          "05.05.2019",
          "06.05.2019",
          "07.05.2019",
          "08.05.2019",
          "09.05.2019",
          "10.05.2019",
          "11.05.2019",
          "12.05.2019",
          "13.05.2019",
          "14.05.2019",
          "15.05.2019",
          "16.05.2019",
          "17.05.2019",
          "18.05.2019",
          "19.05.2019",
          "20.05.2019",
          "21.05.2019",
          "22.05.2019",
          "23.05.2019",
          "24.05.2019",
          "25.05.2019",
          "26.05.2019",
          "27.05.2019",
          "28.05.2019",
          "29.05.2019",
          "30.05.2019",
          "31.05.2019",
          "01.06.2019",
          "02.06.2019",
          "03.06.2019"
         ],
         "xaxis": "x",
         "y": [
          14.77,
          14.83,
          16.2,
          15.5,
          15.16,
          16.17,
          15.43,
          16.18,
          16.51,
          15.01,
          16.14,
          16.64,
          16.71,
          15.98,
          15.69,
          8.13,
          8.8,
          9.95,
          9.8,
          10.57,
          10.36,
          11.34,
          11.65,
          12.08,
          12.2,
          11.83,
          12.32,
          12.37,
          12.4,
          13.02,
          11.84,
          13.13,
          12.37,
          12.75,
          14.28,
          14.04,
          14.67,
          15.52,
          14.49,
          14.74,
          15.99,
          14.47,
          15.93,
          15.2,
          16.11,
          16.19,
          15.89,
          16.09,
          14.78,
          15.64,
          8.12,
          9.53,
          10.72,
          10.98,
          11.13,
          10.53,
          12.35,
          12.24,
          12.44,
          12.96,
          13.09,
          12.8,
          13.13,
          13.29,
          13.01,
          11.13,
          10.96,
          10.76,
          11.52,
          11.21,
          14.58,
          14.77,
          16.49,
          15.52,
          15.89,
          16.84,
          15.84,
          16.78,
          16.01,
          16.26,
          17.12,
          16.39,
          17.2,
          15.57,
          15.97,
          8.55,
          9.16,
          10.45,
          10.95,
          11.74,
          10.47,
          12.59,
          12.13,
          12.51,
          12.63,
          12.76,
          13.26,
          13.46,
          13.29,
          13.52,
          11.49,
          12.83,
          11.69,
          12.46,
          13.33,
          14.96,
          15.12,
          16.68,
          15.23,
          15.48,
          16.5,
          15.82,
          16.52,
          16.6,
          16.67,
          17.14,
          16.39,
          17.09,
          15.51,
          16.31,
          8.84,
          9.59,
          10.51,
          11.13,
          11.15,
          11.32,
          12.74,
          12.77,
          13.02,
          12.83,
          12.72,
          13.26,
          13.76,
          13.54,
          13.95,
          12,
          13.13,
          12.01,
          12.68,
          13.6
         ],
         "yaxis": "y"
        }
       ],
       "layout": {
        "legend": {
         "title": {
          "text": "variable"
         },
         "tracegroupgap": 0
        },
        "template": {
         "data": {
          "bar": [
           {
            "error_x": {
             "color": "#2a3f5f"
            },
            "error_y": {
             "color": "#2a3f5f"
            },
            "marker": {
             "line": {
              "color": "#E5ECF6",
              "width": 0.5
             }
            },
            "type": "bar"
           }
          ],
          "barpolar": [
           {
            "marker": {
             "line": {
              "color": "#E5ECF6",
              "width": 0.5
             }
            },
            "type": "barpolar"
           }
          ],
          "carpet": [
           {
            "aaxis": {
             "endlinecolor": "#2a3f5f",
             "gridcolor": "white",
             "linecolor": "white",
             "minorgridcolor": "white",
             "startlinecolor": "#2a3f5f"
            },
            "baxis": {
             "endlinecolor": "#2a3f5f",
             "gridcolor": "white",
             "linecolor": "white",
             "minorgridcolor": "white",
             "startlinecolor": "#2a3f5f"
            },
            "type": "carpet"
           }
          ],
          "choropleth": [
           {
            "colorbar": {
             "outlinewidth": 0,
             "ticks": ""
            },
            "type": "choropleth"
           }
          ],
          "contour": [
           {
            "colorbar": {
             "outlinewidth": 0,
             "ticks": ""
            },
            "colorscale": [
             [
              0,
              "#0d0887"
             ],
             [
              0.1111111111111111,
              "#46039f"
             ],
             [
              0.2222222222222222,
              "#7201a8"
             ],
             [
              0.3333333333333333,
              "#9c179e"
             ],
             [
              0.4444444444444444,
              "#bd3786"
             ],
             [
              0.5555555555555556,
              "#d8576b"
             ],
             [
              0.6666666666666666,
              "#ed7953"
             ],
             [
              0.7777777777777778,
              "#fb9f3a"
             ],
             [
              0.8888888888888888,
              "#fdca26"
             ],
             [
              1,
              "#f0f921"
             ]
            ],
            "type": "contour"
           }
          ],
          "contourcarpet": [
           {
            "colorbar": {
             "outlinewidth": 0,
             "ticks": ""
            },
            "type": "contourcarpet"
           }
          ],
          "heatmap": [
           {
            "colorbar": {
             "outlinewidth": 0,
             "ticks": ""
            },
            "colorscale": [
             [
              0,
              "#0d0887"
             ],
             [
              0.1111111111111111,
              "#46039f"
             ],
             [
              0.2222222222222222,
              "#7201a8"
             ],
             [
              0.3333333333333333,
              "#9c179e"
             ],
             [
              0.4444444444444444,
              "#bd3786"
             ],
             [
              0.5555555555555556,
              "#d8576b"
             ],
             [
              0.6666666666666666,
              "#ed7953"
             ],
             [
              0.7777777777777778,
              "#fb9f3a"
             ],
             [
              0.8888888888888888,
              "#fdca26"
             ],
             [
              1,
              "#f0f921"
             ]
            ],
            "type": "heatmap"
           }
          ],
          "heatmapgl": [
           {
            "colorbar": {
             "outlinewidth": 0,
             "ticks": ""
            },
            "colorscale": [
             [
              0,
              "#0d0887"
             ],
             [
              0.1111111111111111,
              "#46039f"
             ],
             [
              0.2222222222222222,
              "#7201a8"
             ],
             [
              0.3333333333333333,
              "#9c179e"
             ],
             [
              0.4444444444444444,
              "#bd3786"
             ],
             [
              0.5555555555555556,
              "#d8576b"
             ],
             [
              0.6666666666666666,
              "#ed7953"
             ],
             [
              0.7777777777777778,
              "#fb9f3a"
             ],
             [
              0.8888888888888888,
              "#fdca26"
             ],
             [
              1,
              "#f0f921"
             ]
            ],
            "type": "heatmapgl"
           }
          ],
          "histogram": [
           {
            "marker": {
             "colorbar": {
              "outlinewidth": 0,
              "ticks": ""
             }
            },
            "type": "histogram"
           }
          ],
          "histogram2d": [
           {
            "colorbar": {
             "outlinewidth": 0,
             "ticks": ""
            },
            "colorscale": [
             [
              0,
              "#0d0887"
             ],
             [
              0.1111111111111111,
              "#46039f"
             ],
             [
              0.2222222222222222,
              "#7201a8"
             ],
             [
              0.3333333333333333,
              "#9c179e"
             ],
             [
              0.4444444444444444,
              "#bd3786"
             ],
             [
              0.5555555555555556,
              "#d8576b"
             ],
             [
              0.6666666666666666,
              "#ed7953"
             ],
             [
              0.7777777777777778,
              "#fb9f3a"
             ],
             [
              0.8888888888888888,
              "#fdca26"
             ],
             [
              1,
              "#f0f921"
             ]
            ],
            "type": "histogram2d"
           }
          ],
          "histogram2dcontour": [
           {
            "colorbar": {
             "outlinewidth": 0,
             "ticks": ""
            },
            "colorscale": [
             [
              0,
              "#0d0887"
             ],
             [
              0.1111111111111111,
              "#46039f"
             ],
             [
              0.2222222222222222,
              "#7201a8"
             ],
             [
              0.3333333333333333,
              "#9c179e"
             ],
             [
              0.4444444444444444,
              "#bd3786"
             ],
             [
              0.5555555555555556,
              "#d8576b"
             ],
             [
              0.6666666666666666,
              "#ed7953"
             ],
             [
              0.7777777777777778,
              "#fb9f3a"
             ],
             [
              0.8888888888888888,
              "#fdca26"
             ],
             [
              1,
              "#f0f921"
             ]
            ],
            "type": "histogram2dcontour"
           }
          ],
          "mesh3d": [
           {
            "colorbar": {
             "outlinewidth": 0,
             "ticks": ""
            },
            "type": "mesh3d"
           }
          ],
          "parcoords": [
           {
            "line": {
             "colorbar": {
              "outlinewidth": 0,
              "ticks": ""
             }
            },
            "type": "parcoords"
           }
          ],
          "pie": [
           {
            "automargin": true,
            "type": "pie"
           }
          ],
          "scatter": [
           {
            "marker": {
             "colorbar": {
              "outlinewidth": 0,
              "ticks": ""
             }
            },
            "type": "scatter"
           }
          ],
          "scatter3d": [
           {
            "line": {
             "colorbar": {
              "outlinewidth": 0,
              "ticks": ""
             }
            },
            "marker": {
             "colorbar": {
              "outlinewidth": 0,
              "ticks": ""
             }
            },
            "type": "scatter3d"
           }
          ],
          "scattercarpet": [
           {
            "marker": {
             "colorbar": {
              "outlinewidth": 0,
              "ticks": ""
             }
            },
            "type": "scattercarpet"
           }
          ],
          "scattergeo": [
           {
            "marker": {
             "colorbar": {
              "outlinewidth": 0,
              "ticks": ""
             }
            },
            "type": "scattergeo"
           }
          ],
          "scattergl": [
           {
            "marker": {
             "colorbar": {
              "outlinewidth": 0,
              "ticks": ""
             }
            },
            "type": "scattergl"
           }
          ],
          "scattermapbox": [
           {
            "marker": {
             "colorbar": {
              "outlinewidth": 0,
              "ticks": ""
             }
            },
            "type": "scattermapbox"
           }
          ],
          "scatterpolar": [
           {
            "marker": {
             "colorbar": {
              "outlinewidth": 0,
              "ticks": ""
             }
            },
            "type": "scatterpolar"
           }
          ],
          "scatterpolargl": [
           {
            "marker": {
             "colorbar": {
              "outlinewidth": 0,
              "ticks": ""
             }
            },
            "type": "scatterpolargl"
           }
          ],
          "scatterternary": [
           {
            "marker": {
             "colorbar": {
              "outlinewidth": 0,
              "ticks": ""
             }
            },
            "type": "scatterternary"
           }
          ],
          "surface": [
           {
            "colorbar": {
             "outlinewidth": 0,
             "ticks": ""
            },
            "colorscale": [
             [
              0,
              "#0d0887"
             ],
             [
              0.1111111111111111,
              "#46039f"
             ],
             [
              0.2222222222222222,
              "#7201a8"
             ],
             [
              0.3333333333333333,
              "#9c179e"
             ],
             [
              0.4444444444444444,
              "#bd3786"
             ],
             [
              0.5555555555555556,
              "#d8576b"
             ],
             [
              0.6666666666666666,
              "#ed7953"
             ],
             [
              0.7777777777777778,
              "#fb9f3a"
             ],
             [
              0.8888888888888888,
              "#fdca26"
             ],
             [
              1,
              "#f0f921"
             ]
            ],
            "type": "surface"
           }
          ],
          "table": [
           {
            "cells": {
             "fill": {
              "color": "#EBF0F8"
             },
             "line": {
              "color": "white"
             }
            },
            "header": {
             "fill": {
              "color": "#C8D4E3"
             },
             "line": {
              "color": "white"
             }
            },
            "type": "table"
           }
          ]
         },
         "layout": {
          "annotationdefaults": {
           "arrowcolor": "#2a3f5f",
           "arrowhead": 0,
           "arrowwidth": 1
          },
          "coloraxis": {
           "colorbar": {
            "outlinewidth": 0,
            "ticks": ""
           }
          },
          "colorscale": {
           "diverging": [
            [
             0,
             "#8e0152"
            ],
            [
             0.1,
             "#c51b7d"
            ],
            [
             0.2,
             "#de77ae"
            ],
            [
             0.3,
             "#f1b6da"
            ],
            [
             0.4,
             "#fde0ef"
            ],
            [
             0.5,
             "#f7f7f7"
            ],
            [
             0.6,
             "#e6f5d0"
            ],
            [
             0.7,
             "#b8e186"
            ],
            [
             0.8,
             "#7fbc41"
            ],
            [
             0.9,
             "#4d9221"
            ],
            [
             1,
             "#276419"
            ]
           ],
           "sequential": [
            [
             0,
             "#0d0887"
            ],
            [
             0.1111111111111111,
             "#46039f"
            ],
            [
             0.2222222222222222,
             "#7201a8"
            ],
            [
             0.3333333333333333,
             "#9c179e"
            ],
            [
             0.4444444444444444,
             "#bd3786"
            ],
            [
             0.5555555555555556,
             "#d8576b"
            ],
            [
             0.6666666666666666,
             "#ed7953"
            ],
            [
             0.7777777777777778,
             "#fb9f3a"
            ],
            [
             0.8888888888888888,
             "#fdca26"
            ],
            [
             1,
             "#f0f921"
            ]
           ],
           "sequentialminus": [
            [
             0,
             "#0d0887"
            ],
            [
             0.1111111111111111,
             "#46039f"
            ],
            [
             0.2222222222222222,
             "#7201a8"
            ],
            [
             0.3333333333333333,
             "#9c179e"
            ],
            [
             0.4444444444444444,
             "#bd3786"
            ],
            [
             0.5555555555555556,
             "#d8576b"
            ],
            [
             0.6666666666666666,
             "#ed7953"
            ],
            [
             0.7777777777777778,
             "#fb9f3a"
            ],
            [
             0.8888888888888888,
             "#fdca26"
            ],
            [
             1,
             "#f0f921"
            ]
           ]
          },
          "colorway": [
           "#636efa",
           "#EF553B",
           "#00cc96",
           "#ab63fa",
           "#FFA15A",
           "#19d3f3",
           "#FF6692",
           "#B6E880",
           "#FF97FF",
           "#FECB52"
          ],
          "font": {
           "color": "#2a3f5f"
          },
          "geo": {
           "bgcolor": "white",
           "lakecolor": "white",
           "landcolor": "#E5ECF6",
           "showlakes": true,
           "showland": true,
           "subunitcolor": "white"
          },
          "hoverlabel": {
           "align": "left"
          },
          "hovermode": "closest",
          "mapbox": {
           "style": "light"
          },
          "paper_bgcolor": "white",
          "plot_bgcolor": "#E5ECF6",
          "polar": {
           "angularaxis": {
            "gridcolor": "white",
            "linecolor": "white",
            "ticks": ""
           },
           "bgcolor": "#E5ECF6",
           "radialaxis": {
            "gridcolor": "white",
            "linecolor": "white",
            "ticks": ""
           }
          },
          "scene": {
           "xaxis": {
            "backgroundcolor": "#E5ECF6",
            "gridcolor": "white",
            "gridwidth": 2,
            "linecolor": "white",
            "showbackground": true,
            "ticks": "",
            "zerolinecolor": "white"
           },
           "yaxis": {
            "backgroundcolor": "#E5ECF6",
            "gridcolor": "white",
            "gridwidth": 2,
            "linecolor": "white",
            "showbackground": true,
            "ticks": "",
            "zerolinecolor": "white"
           },
           "zaxis": {
            "backgroundcolor": "#E5ECF6",
            "gridcolor": "white",
            "gridwidth": 2,
            "linecolor": "white",
            "showbackground": true,
            "ticks": "",
            "zerolinecolor": "white"
           }
          },
          "shapedefaults": {
           "line": {
            "color": "#2a3f5f"
           }
          },
          "ternary": {
           "aaxis": {
            "gridcolor": "white",
            "linecolor": "white",
            "ticks": ""
           },
           "baxis": {
            "gridcolor": "white",
            "linecolor": "white",
            "ticks": ""
           },
           "bgcolor": "#E5ECF6",
           "caxis": {
            "gridcolor": "white",
            "linecolor": "white",
            "ticks": ""
           }
          },
          "title": {
           "x": 0.05
          },
          "xaxis": {
           "automargin": true,
           "gridcolor": "white",
           "linecolor": "white",
           "ticks": "",
           "title": {
            "standoff": 15
           },
           "zerolinecolor": "white",
           "zerolinewidth": 2
          },
          "yaxis": {
           "automargin": true,
           "gridcolor": "white",
           "linecolor": "white",
           "ticks": "",
           "title": {
            "standoff": 15
           },
           "zerolinecolor": "white",
           "zerolinewidth": 2
          }
         }
        },
        "title": {
         "text": "Value-time dependancy"
        },
        "xaxis": {
         "anchor": "y",
         "domain": [
          0,
          1
         ],
         "rangeslider": {
          "visible": true
         },
         "title": {
          "text": "data"
         }
        },
        "yaxis": {
         "anchor": "x",
         "domain": [
          0,
          1
         ],
         "title": {
          "text": "_value"
         }
        }
       }
      },
      "text/html": [
       "<div>\n",
       "        \n",
       "        \n",
       "            <div id=\"b726f96e-ef0e-4f96-bf0a-5fb310e3bea3\" class=\"plotly-graph-div\" style=\"height:525px; width:100%;\"></div>\n",
       "            <script type=\"text/javascript\">\n",
       "                require([\"plotly\"], function(Plotly) {\n",
       "                    window.PLOTLYENV=window.PLOTLYENV || {};\n",
       "                    \n",
       "                if (document.getElementById(\"b726f96e-ef0e-4f96-bf0a-5fb310e3bea3\")) {\n",
       "                    Plotly.newPlot(\n",
       "                        'b726f96e-ef0e-4f96-bf0a-5fb310e3bea3',\n",
       "                        [{\"hovertemplate\": \"variable=value<br>data=%{x}<br>_value=%{y}<extra></extra>\", \"legendgroup\": \"value\", \"line\": {\"color\": \"#636efa\", \"dash\": \"solid\"}, \"mode\": \"lines\", \"name\": \"value\", \"orientation\": \"v\", \"showlegend\": true, \"type\": \"scatter\", \"x\": [\"01.01.2019\", \"02.01.2019\", \"03.01.2019\", \"05.01.2019\", \"06.01.2019\", \"07.01.2019\", \"08.01.2019\", \"09.01.2019\", \"10.01.2019\", \"11.01.2019\", \"12.01.2019\", \"13.01.2019\", \"14.01.2019\", \"17.01.2019\", \"18.01.2019\", \"19.01.2019\", \"20.01.2019\", \"21.01.2019\", \"22.01.2019\", \"23.01.2019\", \"25.01.2019\", \"26.01.2019\", \"27.01.2019\", \"28.01.2019\", \"29.01.2019\", \"30.01.2019\", \"31.01.2019\", \"01.02.2019\", \"02.02.2019\", \"03.02.2019\", \"04.02.2019\", \"05.02.2019\", \"06.02.2019\", \"08.02.2019\", \"10.02.2019\", \"12.02.2019\", \"13.02.2019\", \"15.02.2019\", \"16.02.2019\", \"18.02.2019\", \"19.02.2019\", \"20.02.2019\", \"21.02.2019\", \"22.02.2019\", \"23.02.2019\", \"25.02.2019\", \"26.02.2019\", \"28.02.2019\", \"02.03.2019\", \"03.03.2019\", \"04.03.2019\", \"05.03.2019\", \"06.03.2019\", \"07.03.2019\", \"08.03.2019\", \"10.03.2019\", \"12.03.2019\", \"13.03.2019\", \"14.03.2019\", \"15.03.2019\", \"16.03.2019\", \"17.03.2019\", \"18.03.2019\", \"19.03.2019\", \"20.03.2019\", \"21.03.2019\", \"22.03.2019\", \"23.03.2019\", \"24.03.2019\", \"25.03.2019\", \"26.03.2019\", \"27.03.2019\", \"28.03.2019\", \"29.03.2019\", \"30.03.2019\", \"31.03.2019\", \"01.04.2019\", \"02.04.2019\", \"03.04.2019\", \"04.04.2019\", \"05.04.2019\", \"06.04.2019\", \"07.04.2019\", \"08.04.2019\", \"09.04.2019\", \"10.04.2019\", \"11.04.2019\", \"12.04.2019\", \"13.04.2019\", \"14.04.2019\", \"15.04.2019\", \"16.04.2019\", \"17.04.2019\", \"18.04.2019\", \"19.04.2019\", \"20.04.2019\", \"21.04.2019\", \"22.04.2019\", \"23.04.2019\", \"24.04.2019\", \"25.04.2019\", \"26.04.2019\", \"27.04.2019\", \"28.04.2019\", \"29.04.2019\", \"30.04.2019\", \"01.05.2019\", \"02.05.2019\", \"03.05.2019\", \"04.05.2019\", \"05.05.2019\", \"06.05.2019\", \"07.05.2019\", \"08.05.2019\", \"09.05.2019\", \"10.05.2019\", \"11.05.2019\", \"12.05.2019\", \"13.05.2019\", \"14.05.2019\", \"15.05.2019\", \"16.05.2019\", \"17.05.2019\", \"18.05.2019\", \"19.05.2019\", \"20.05.2019\", \"21.05.2019\", \"22.05.2019\", \"23.05.2019\", \"24.05.2019\", \"25.05.2019\", \"26.05.2019\", \"27.05.2019\", \"28.05.2019\", \"29.05.2019\", \"30.05.2019\", \"31.05.2019\", \"01.06.2019\", \"02.06.2019\", \"03.06.2019\"], \"xaxis\": \"x\", \"y\": [14.77, 14.83, 16.2, 15.5, 15.16, 16.17, 15.43, 16.18, 16.51, 15.01, 16.14, 16.64, 16.71, 15.98, 15.69, 8.13, 8.8, 9.95, 9.8, 10.57, 10.36, 11.34, 11.65, 12.08, 12.2, 11.83, 12.32, 12.37, 12.4, 13.02, 11.84, 13.13, 12.37, 12.75, 14.28, 14.04, 14.67, 15.52, 14.49, 14.74, 15.99, 14.47, 15.93, 15.2, 16.11, 16.19, 15.89, 16.09, 14.78, 15.64, 8.12, 9.53, 10.72, 10.98, 11.13, 10.53, 12.35, 12.24, 12.44, 12.96, 13.09, 12.8, 13.13, 13.29, 13.01, 11.13, 10.96, 10.76, 11.52, 11.21, 14.58, 14.77, 16.49, 15.52, 15.89, 16.84, 15.84, 16.78, 16.01, 16.26, 17.12, 16.39, 17.2, 15.57, 15.97, 8.55, 9.16, 10.45, 10.95, 11.74, 10.47, 12.59, 12.13, 12.51, 12.63, 12.76, 13.26, 13.46, 13.29, 13.52, 11.49, 12.83, 11.69, 12.46, 13.33, 14.96, 15.12, 16.68, 15.23, 15.48, 16.5, 15.82, 16.52, 16.6, 16.67, 17.14, 16.39, 17.09, 15.51, 16.31, 8.84, 9.59, 10.51, 11.13, 11.15, 11.32, 12.74, 12.77, 13.02, 12.83, 12.72, 13.26, 13.76, 13.54, 13.95, 12.0, 13.13, 12.01, 12.68, 13.6], \"yaxis\": \"y\"}],\n",
       "                        {\"legend\": {\"title\": {\"text\": \"variable\"}, \"tracegroupgap\": 0}, \"template\": {\"data\": {\"bar\": [{\"error_x\": {\"color\": \"#2a3f5f\"}, \"error_y\": {\"color\": \"#2a3f5f\"}, \"marker\": {\"line\": {\"color\": \"#E5ECF6\", \"width\": 0.5}}, \"type\": \"bar\"}], \"barpolar\": [{\"marker\": {\"line\": {\"color\": \"#E5ECF6\", \"width\": 0.5}}, \"type\": \"barpolar\"}], \"carpet\": [{\"aaxis\": {\"endlinecolor\": \"#2a3f5f\", \"gridcolor\": \"white\", \"linecolor\": \"white\", \"minorgridcolor\": \"white\", \"startlinecolor\": \"#2a3f5f\"}, \"baxis\": {\"endlinecolor\": \"#2a3f5f\", \"gridcolor\": \"white\", \"linecolor\": \"white\", \"minorgridcolor\": \"white\", \"startlinecolor\": \"#2a3f5f\"}, \"type\": \"carpet\"}], \"choropleth\": [{\"colorbar\": {\"outlinewidth\": 0, \"ticks\": \"\"}, \"type\": \"choropleth\"}], \"contour\": [{\"colorbar\": {\"outlinewidth\": 0, \"ticks\": \"\"}, \"colorscale\": [[0.0, \"#0d0887\"], [0.1111111111111111, \"#46039f\"], [0.2222222222222222, \"#7201a8\"], [0.3333333333333333, \"#9c179e\"], [0.4444444444444444, \"#bd3786\"], [0.5555555555555556, \"#d8576b\"], [0.6666666666666666, \"#ed7953\"], [0.7777777777777778, \"#fb9f3a\"], [0.8888888888888888, \"#fdca26\"], [1.0, \"#f0f921\"]], \"type\": \"contour\"}], \"contourcarpet\": [{\"colorbar\": {\"outlinewidth\": 0, \"ticks\": \"\"}, \"type\": \"contourcarpet\"}], \"heatmap\": [{\"colorbar\": {\"outlinewidth\": 0, \"ticks\": \"\"}, \"colorscale\": [[0.0, \"#0d0887\"], [0.1111111111111111, \"#46039f\"], [0.2222222222222222, \"#7201a8\"], [0.3333333333333333, \"#9c179e\"], [0.4444444444444444, \"#bd3786\"], [0.5555555555555556, \"#d8576b\"], [0.6666666666666666, \"#ed7953\"], [0.7777777777777778, \"#fb9f3a\"], [0.8888888888888888, \"#fdca26\"], [1.0, \"#f0f921\"]], \"type\": \"heatmap\"}], \"heatmapgl\": [{\"colorbar\": {\"outlinewidth\": 0, \"ticks\": \"\"}, \"colorscale\": [[0.0, \"#0d0887\"], [0.1111111111111111, \"#46039f\"], [0.2222222222222222, \"#7201a8\"], [0.3333333333333333, \"#9c179e\"], [0.4444444444444444, \"#bd3786\"], [0.5555555555555556, \"#d8576b\"], [0.6666666666666666, \"#ed7953\"], [0.7777777777777778, \"#fb9f3a\"], [0.8888888888888888, \"#fdca26\"], [1.0, \"#f0f921\"]], \"type\": \"heatmapgl\"}], \"histogram\": [{\"marker\": {\"colorbar\": {\"outlinewidth\": 0, \"ticks\": \"\"}}, \"type\": \"histogram\"}], \"histogram2d\": [{\"colorbar\": {\"outlinewidth\": 0, \"ticks\": \"\"}, \"colorscale\": [[0.0, \"#0d0887\"], [0.1111111111111111, \"#46039f\"], [0.2222222222222222, \"#7201a8\"], [0.3333333333333333, \"#9c179e\"], [0.4444444444444444, \"#bd3786\"], [0.5555555555555556, \"#d8576b\"], [0.6666666666666666, \"#ed7953\"], [0.7777777777777778, \"#fb9f3a\"], [0.8888888888888888, \"#fdca26\"], [1.0, \"#f0f921\"]], \"type\": \"histogram2d\"}], \"histogram2dcontour\": [{\"colorbar\": {\"outlinewidth\": 0, \"ticks\": \"\"}, \"colorscale\": [[0.0, \"#0d0887\"], [0.1111111111111111, \"#46039f\"], [0.2222222222222222, \"#7201a8\"], [0.3333333333333333, \"#9c179e\"], [0.4444444444444444, \"#bd3786\"], [0.5555555555555556, \"#d8576b\"], [0.6666666666666666, \"#ed7953\"], [0.7777777777777778, \"#fb9f3a\"], [0.8888888888888888, \"#fdca26\"], [1.0, \"#f0f921\"]], \"type\": \"histogram2dcontour\"}], \"mesh3d\": [{\"colorbar\": {\"outlinewidth\": 0, \"ticks\": \"\"}, \"type\": \"mesh3d\"}], \"parcoords\": [{\"line\": {\"colorbar\": {\"outlinewidth\": 0, \"ticks\": \"\"}}, \"type\": \"parcoords\"}], \"pie\": [{\"automargin\": true, \"type\": \"pie\"}], \"scatter\": [{\"marker\": {\"colorbar\": {\"outlinewidth\": 0, \"ticks\": \"\"}}, \"type\": \"scatter\"}], \"scatter3d\": [{\"line\": {\"colorbar\": {\"outlinewidth\": 0, \"ticks\": \"\"}}, \"marker\": {\"colorbar\": {\"outlinewidth\": 0, \"ticks\": \"\"}}, \"type\": \"scatter3d\"}], \"scattercarpet\": [{\"marker\": {\"colorbar\": {\"outlinewidth\": 0, \"ticks\": \"\"}}, \"type\": \"scattercarpet\"}], \"scattergeo\": [{\"marker\": {\"colorbar\": {\"outlinewidth\": 0, \"ticks\": \"\"}}, \"type\": \"scattergeo\"}], \"scattergl\": [{\"marker\": {\"colorbar\": {\"outlinewidth\": 0, \"ticks\": \"\"}}, \"type\": \"scattergl\"}], \"scattermapbox\": [{\"marker\": {\"colorbar\": {\"outlinewidth\": 0, \"ticks\": \"\"}}, \"type\": \"scattermapbox\"}], \"scatterpolar\": [{\"marker\": {\"colorbar\": {\"outlinewidth\": 0, \"ticks\": \"\"}}, \"type\": \"scatterpolar\"}], \"scatterpolargl\": [{\"marker\": {\"colorbar\": {\"outlinewidth\": 0, \"ticks\": \"\"}}, \"type\": \"scatterpolargl\"}], \"scatterternary\": [{\"marker\": {\"colorbar\": {\"outlinewidth\": 0, \"ticks\": \"\"}}, \"type\": \"scatterternary\"}], \"surface\": [{\"colorbar\": {\"outlinewidth\": 0, \"ticks\": \"\"}, \"colorscale\": [[0.0, \"#0d0887\"], [0.1111111111111111, \"#46039f\"], [0.2222222222222222, \"#7201a8\"], [0.3333333333333333, \"#9c179e\"], [0.4444444444444444, \"#bd3786\"], [0.5555555555555556, \"#d8576b\"], [0.6666666666666666, \"#ed7953\"], [0.7777777777777778, \"#fb9f3a\"], [0.8888888888888888, \"#fdca26\"], [1.0, \"#f0f921\"]], \"type\": \"surface\"}], \"table\": [{\"cells\": {\"fill\": {\"color\": \"#EBF0F8\"}, \"line\": {\"color\": \"white\"}}, \"header\": {\"fill\": {\"color\": \"#C8D4E3\"}, \"line\": {\"color\": \"white\"}}, \"type\": \"table\"}]}, \"layout\": {\"annotationdefaults\": {\"arrowcolor\": \"#2a3f5f\", \"arrowhead\": 0, \"arrowwidth\": 1}, \"coloraxis\": {\"colorbar\": {\"outlinewidth\": 0, \"ticks\": \"\"}}, \"colorscale\": {\"diverging\": [[0, \"#8e0152\"], [0.1, \"#c51b7d\"], [0.2, \"#de77ae\"], [0.3, \"#f1b6da\"], [0.4, \"#fde0ef\"], [0.5, \"#f7f7f7\"], [0.6, \"#e6f5d0\"], [0.7, \"#b8e186\"], [0.8, \"#7fbc41\"], [0.9, \"#4d9221\"], [1, \"#276419\"]], \"sequential\": [[0.0, \"#0d0887\"], [0.1111111111111111, \"#46039f\"], [0.2222222222222222, \"#7201a8\"], [0.3333333333333333, \"#9c179e\"], [0.4444444444444444, \"#bd3786\"], [0.5555555555555556, \"#d8576b\"], [0.6666666666666666, \"#ed7953\"], [0.7777777777777778, \"#fb9f3a\"], [0.8888888888888888, \"#fdca26\"], [1.0, \"#f0f921\"]], \"sequentialminus\": [[0.0, \"#0d0887\"], [0.1111111111111111, \"#46039f\"], [0.2222222222222222, \"#7201a8\"], [0.3333333333333333, \"#9c179e\"], [0.4444444444444444, \"#bd3786\"], [0.5555555555555556, \"#d8576b\"], [0.6666666666666666, \"#ed7953\"], [0.7777777777777778, \"#fb9f3a\"], [0.8888888888888888, \"#fdca26\"], [1.0, \"#f0f921\"]]}, \"colorway\": [\"#636efa\", \"#EF553B\", \"#00cc96\", \"#ab63fa\", \"#FFA15A\", \"#19d3f3\", \"#FF6692\", \"#B6E880\", \"#FF97FF\", \"#FECB52\"], \"font\": {\"color\": \"#2a3f5f\"}, \"geo\": {\"bgcolor\": \"white\", \"lakecolor\": \"white\", \"landcolor\": \"#E5ECF6\", \"showlakes\": true, \"showland\": true, \"subunitcolor\": \"white\"}, \"hoverlabel\": {\"align\": \"left\"}, \"hovermode\": \"closest\", \"mapbox\": {\"style\": \"light\"}, \"paper_bgcolor\": \"white\", \"plot_bgcolor\": \"#E5ECF6\", \"polar\": {\"angularaxis\": {\"gridcolor\": \"white\", \"linecolor\": \"white\", \"ticks\": \"\"}, \"bgcolor\": \"#E5ECF6\", \"radialaxis\": {\"gridcolor\": \"white\", \"linecolor\": \"white\", \"ticks\": \"\"}}, \"scene\": {\"xaxis\": {\"backgroundcolor\": \"#E5ECF6\", \"gridcolor\": \"white\", \"gridwidth\": 2, \"linecolor\": \"white\", \"showbackground\": true, \"ticks\": \"\", \"zerolinecolor\": \"white\"}, \"yaxis\": {\"backgroundcolor\": \"#E5ECF6\", \"gridcolor\": \"white\", \"gridwidth\": 2, \"linecolor\": \"white\", \"showbackground\": true, \"ticks\": \"\", \"zerolinecolor\": \"white\"}, \"zaxis\": {\"backgroundcolor\": \"#E5ECF6\", \"gridcolor\": \"white\", \"gridwidth\": 2, \"linecolor\": \"white\", \"showbackground\": true, \"ticks\": \"\", \"zerolinecolor\": \"white\"}}, \"shapedefaults\": {\"line\": {\"color\": \"#2a3f5f\"}}, \"ternary\": {\"aaxis\": {\"gridcolor\": \"white\", \"linecolor\": \"white\", \"ticks\": \"\"}, \"baxis\": {\"gridcolor\": \"white\", \"linecolor\": \"white\", \"ticks\": \"\"}, \"bgcolor\": \"#E5ECF6\", \"caxis\": {\"gridcolor\": \"white\", \"linecolor\": \"white\", \"ticks\": \"\"}}, \"title\": {\"x\": 0.05}, \"xaxis\": {\"automargin\": true, \"gridcolor\": \"white\", \"linecolor\": \"white\", \"ticks\": \"\", \"title\": {\"standoff\": 15}, \"zerolinecolor\": \"white\", \"zerolinewidth\": 2}, \"yaxis\": {\"automargin\": true, \"gridcolor\": \"white\", \"linecolor\": \"white\", \"ticks\": \"\", \"title\": {\"standoff\": 15}, \"zerolinecolor\": \"white\", \"zerolinewidth\": 2}}}, \"title\": {\"text\": \"Value-time dependancy\"}, \"xaxis\": {\"anchor\": \"y\", \"domain\": [0.0, 1.0], \"rangeslider\": {\"visible\": true}, \"title\": {\"text\": \"data\"}}, \"yaxis\": {\"anchor\": \"x\", \"domain\": [0.0, 1.0], \"title\": {\"text\": \"_value\"}}},\n",
       "                        {\"responsive\": true}\n",
       "                    ).then(function(){\n",
       "                            \n",
       "var gd = document.getElementById('b726f96e-ef0e-4f96-bf0a-5fb310e3bea3');\n",
       "var x = new MutationObserver(function (mutations, observer) {{\n",
       "        var display = window.getComputedStyle(gd).display;\n",
       "        if (!display || display === 'none') {{\n",
       "            console.log([gd, 'removed!']);\n",
       "            Plotly.purge(gd);\n",
       "            observer.disconnect();\n",
       "        }}\n",
       "}});\n",
       "\n",
       "// Listen for the removal of the full notebook cells\n",
       "var notebookContainer = gd.closest('#notebook-container');\n",
       "if (notebookContainer) {{\n",
       "    x.observe(notebookContainer, {childList: true});\n",
       "}}\n",
       "\n",
       "// Listen for the clearing of the current output cell\n",
       "var outputEl = gd.closest('.output');\n",
       "if (outputEl) {{\n",
       "    x.observe(outputEl, {childList: true});\n",
       "}}\n",
       "\n",
       "                        })\n",
       "                };\n",
       "                });\n",
       "            </script>\n",
       "        </div>"
      ]
     },
     "metadata": {},
     "output_type": "display_data"
    }
   ],
   "source": [
    "# Построим временной ряд\n",
    "\n",
    "fig = px.line(data, title=\"Value-time dependancy\")\n",
    "fig.update_xaxes(rangeslider_visible=True)\n",
    "fig.show()"
   ]
  },
  {
   "cell_type": "code",
   "execution_count": 9,
   "metadata": {},
   "outputs": [
    {
     "data": {
      "application/vnd.plotly.v1+json": {
       "config": {
        "plotlyServerURL": "https://plot.ly"
       },
       "data": [
        {
         "hovertemplate": "variable=value<br>data=%{x}<br>_value=%{y}<extra></extra>",
         "legendgroup": "value",
         "line": {
          "color": "#636efa",
          "dash": "solid"
         },
         "mode": "lines",
         "name": "value",
         "orientation": "v",
         "showlegend": true,
         "type": "scatter",
         "x": [
          "04.02.2019",
          "05.02.2019",
          "06.02.2019",
          "08.02.2019",
          "10.02.2019",
          "12.02.2019",
          "13.02.2019",
          "15.02.2019",
          "16.02.2019",
          "18.02.2019",
          "19.02.2019",
          "20.02.2019",
          "21.02.2019",
          "22.02.2019",
          "23.02.2019",
          "25.02.2019",
          "26.02.2019",
          "28.02.2019",
          "02.03.2019",
          "03.03.2019",
          "04.03.2019",
          "05.03.2019",
          "06.03.2019",
          "07.03.2019",
          "08.03.2019",
          "10.03.2019",
          "12.03.2019",
          "13.03.2019",
          "14.03.2019",
          "15.03.2019",
          "16.03.2019",
          "17.03.2019",
          "18.03.2019",
          "19.03.2019",
          "20.03.2019",
          "21.03.2019",
          "22.03.2019",
          "23.03.2019",
          "24.03.2019",
          "25.03.2019",
          "26.03.2019",
          "27.03.2019",
          "28.03.2019",
          "29.03.2019",
          "30.03.2019",
          "31.03.2019",
          "01.04.2019",
          "02.04.2019",
          "03.04.2019",
          "04.04.2019",
          "05.04.2019",
          "06.04.2019",
          "07.04.2019",
          "08.04.2019",
          "09.04.2019",
          "10.04.2019",
          "11.04.2019",
          "12.04.2019",
          "13.04.2019",
          "14.04.2019",
          "15.04.2019",
          "16.04.2019",
          "17.04.2019",
          "18.04.2019",
          "19.04.2019",
          "20.04.2019",
          "21.04.2019",
          "22.04.2019",
          "23.04.2019",
          "24.04.2019",
          "25.04.2019",
          "26.04.2019",
          "27.04.2019",
          "28.04.2019",
          "29.04.2019",
          "30.04.2019",
          "01.05.2019",
          "02.05.2019",
          "03.05.2019",
          "04.05.2019",
          "05.05.2019",
          "06.05.2019",
          "07.05.2019",
          "08.05.2019",
          "09.05.2019",
          "10.05.2019",
          "11.05.2019",
          "12.05.2019",
          "13.05.2019",
          "14.05.2019",
          "15.05.2019",
          "16.05.2019",
          "17.05.2019",
          "18.05.2019",
          "19.05.2019",
          "20.05.2019",
          "21.05.2019",
          "22.05.2019",
          "23.05.2019",
          "24.05.2019",
          "25.05.2019",
          "26.05.2019",
          "27.05.2019",
          "28.05.2019",
          "29.05.2019",
          "30.05.2019",
          "31.05.2019",
          "01.06.2019",
          "02.06.2019",
          "03.06.2019"
         ],
         "xaxis": "x",
         "y": [
          13.360333333333328,
          13.303666666666661,
          13.175999999999995,
          13.084333333333328,
          13.054999999999994,
          12.983999999999993,
          12.95866666666666,
          12.93666666666666,
          12.869333333333326,
          12.860333333333328,
          12.855333333333329,
          12.782999999999996,
          12.756999999999998,
          12.730999999999996,
          12.744999999999997,
          13.013666666666664,
          13.249999999999996,
          13.454666666666663,
          13.620666666666661,
          13.78966666666666,
          13.714999999999995,
          13.65466666666666,
          13.623666666666661,
          13.586999999999996,
          13.55133333333333,
          13.507999999999997,
          13.508999999999997,
          13.504666666666663,
          13.505999999999998,
          13.503999999999998,
          13.545666666666666,
          13.534666666666665,
          13.559999999999999,
          13.578,
          13.535666666666666,
          13.438666666666666,
          13.314999999999998,
          13.15633333333333,
          13.05733333333333,
          12.939666666666662,
          12.892666666666662,
          12.90266666666666,
          12.921333333333328,
          12.931999999999993,
          12.92466666666666,
          12.946333333333325,
          12.944666666666658,
          12.967666666666661,
          13.008666666666661,
          13.029333333333328,
          13.329333333333327,
          13.557999999999995,
          13.773999999999994,
          13.926999999999992,
          14.088333333333328,
          14.022333333333329,
          13.915999999999995,
          13.856333333333328,
          13.806666666666661,
          13.765999999999995,
          13.678666666666663,
          13.671666666666662,
          13.638333333333328,
          13.612333333333329,
          13.59966666666666,
          13.653999999999995,
          13.73066666666666,
          13.82066666666666,
          13.879666666666662,
          13.956666666666662,
          13.853666666666664,
          13.788999999999996,
          13.628999999999996,
          13.526999999999996,
          13.441666666666663,
          13.378999999999996,
          13.354999999999997,
          13.351666666666665,
          13.325666666666667,
          13.299666666666667,
          13.279,
          13.26,
          13.237333333333334,
          13.271666666666668,
          13.295,
          13.581333333333333,
          13.822333333333331,
          14.043666666666665,
          14.195666666666664,
          14.347999999999997,
          14.293666666666663,
          14.193666666666664,
          14.139666666666663,
          14.093666666666662,
          14.044333333333329,
          13.996333333333329,
          13.978999999999996,
          13.955999999999996,
          13.946999999999996,
          13.923999999999996,
          13.964999999999996,
          13.97933333333333,
          14.048333333333328,
          14.08433333333333,
          14.104999999999997,
          14.006333333333332,
          13.939999999999998,
          13.78433333333333,
          13.69933333333333,
          13.636666666666663
         ],
         "yaxis": "y"
        }
       ],
       "layout": {
        "legend": {
         "title": {
          "text": "variable"
         },
         "tracegroupgap": 0
        },
        "template": {
         "data": {
          "bar": [
           {
            "error_x": {
             "color": "#2a3f5f"
            },
            "error_y": {
             "color": "#2a3f5f"
            },
            "marker": {
             "line": {
              "color": "#E5ECF6",
              "width": 0.5
             }
            },
            "type": "bar"
           }
          ],
          "barpolar": [
           {
            "marker": {
             "line": {
              "color": "#E5ECF6",
              "width": 0.5
             }
            },
            "type": "barpolar"
           }
          ],
          "carpet": [
           {
            "aaxis": {
             "endlinecolor": "#2a3f5f",
             "gridcolor": "white",
             "linecolor": "white",
             "minorgridcolor": "white",
             "startlinecolor": "#2a3f5f"
            },
            "baxis": {
             "endlinecolor": "#2a3f5f",
             "gridcolor": "white",
             "linecolor": "white",
             "minorgridcolor": "white",
             "startlinecolor": "#2a3f5f"
            },
            "type": "carpet"
           }
          ],
          "choropleth": [
           {
            "colorbar": {
             "outlinewidth": 0,
             "ticks": ""
            },
            "type": "choropleth"
           }
          ],
          "contour": [
           {
            "colorbar": {
             "outlinewidth": 0,
             "ticks": ""
            },
            "colorscale": [
             [
              0,
              "#0d0887"
             ],
             [
              0.1111111111111111,
              "#46039f"
             ],
             [
              0.2222222222222222,
              "#7201a8"
             ],
             [
              0.3333333333333333,
              "#9c179e"
             ],
             [
              0.4444444444444444,
              "#bd3786"
             ],
             [
              0.5555555555555556,
              "#d8576b"
             ],
             [
              0.6666666666666666,
              "#ed7953"
             ],
             [
              0.7777777777777778,
              "#fb9f3a"
             ],
             [
              0.8888888888888888,
              "#fdca26"
             ],
             [
              1,
              "#f0f921"
             ]
            ],
            "type": "contour"
           }
          ],
          "contourcarpet": [
           {
            "colorbar": {
             "outlinewidth": 0,
             "ticks": ""
            },
            "type": "contourcarpet"
           }
          ],
          "heatmap": [
           {
            "colorbar": {
             "outlinewidth": 0,
             "ticks": ""
            },
            "colorscale": [
             [
              0,
              "#0d0887"
             ],
             [
              0.1111111111111111,
              "#46039f"
             ],
             [
              0.2222222222222222,
              "#7201a8"
             ],
             [
              0.3333333333333333,
              "#9c179e"
             ],
             [
              0.4444444444444444,
              "#bd3786"
             ],
             [
              0.5555555555555556,
              "#d8576b"
             ],
             [
              0.6666666666666666,
              "#ed7953"
             ],
             [
              0.7777777777777778,
              "#fb9f3a"
             ],
             [
              0.8888888888888888,
              "#fdca26"
             ],
             [
              1,
              "#f0f921"
             ]
            ],
            "type": "heatmap"
           }
          ],
          "heatmapgl": [
           {
            "colorbar": {
             "outlinewidth": 0,
             "ticks": ""
            },
            "colorscale": [
             [
              0,
              "#0d0887"
             ],
             [
              0.1111111111111111,
              "#46039f"
             ],
             [
              0.2222222222222222,
              "#7201a8"
             ],
             [
              0.3333333333333333,
              "#9c179e"
             ],
             [
              0.4444444444444444,
              "#bd3786"
             ],
             [
              0.5555555555555556,
              "#d8576b"
             ],
             [
              0.6666666666666666,
              "#ed7953"
             ],
             [
              0.7777777777777778,
              "#fb9f3a"
             ],
             [
              0.8888888888888888,
              "#fdca26"
             ],
             [
              1,
              "#f0f921"
             ]
            ],
            "type": "heatmapgl"
           }
          ],
          "histogram": [
           {
            "marker": {
             "colorbar": {
              "outlinewidth": 0,
              "ticks": ""
             }
            },
            "type": "histogram"
           }
          ],
          "histogram2d": [
           {
            "colorbar": {
             "outlinewidth": 0,
             "ticks": ""
            },
            "colorscale": [
             [
              0,
              "#0d0887"
             ],
             [
              0.1111111111111111,
              "#46039f"
             ],
             [
              0.2222222222222222,
              "#7201a8"
             ],
             [
              0.3333333333333333,
              "#9c179e"
             ],
             [
              0.4444444444444444,
              "#bd3786"
             ],
             [
              0.5555555555555556,
              "#d8576b"
             ],
             [
              0.6666666666666666,
              "#ed7953"
             ],
             [
              0.7777777777777778,
              "#fb9f3a"
             ],
             [
              0.8888888888888888,
              "#fdca26"
             ],
             [
              1,
              "#f0f921"
             ]
            ],
            "type": "histogram2d"
           }
          ],
          "histogram2dcontour": [
           {
            "colorbar": {
             "outlinewidth": 0,
             "ticks": ""
            },
            "colorscale": [
             [
              0,
              "#0d0887"
             ],
             [
              0.1111111111111111,
              "#46039f"
             ],
             [
              0.2222222222222222,
              "#7201a8"
             ],
             [
              0.3333333333333333,
              "#9c179e"
             ],
             [
              0.4444444444444444,
              "#bd3786"
             ],
             [
              0.5555555555555556,
              "#d8576b"
             ],
             [
              0.6666666666666666,
              "#ed7953"
             ],
             [
              0.7777777777777778,
              "#fb9f3a"
             ],
             [
              0.8888888888888888,
              "#fdca26"
             ],
             [
              1,
              "#f0f921"
             ]
            ],
            "type": "histogram2dcontour"
           }
          ],
          "mesh3d": [
           {
            "colorbar": {
             "outlinewidth": 0,
             "ticks": ""
            },
            "type": "mesh3d"
           }
          ],
          "parcoords": [
           {
            "line": {
             "colorbar": {
              "outlinewidth": 0,
              "ticks": ""
             }
            },
            "type": "parcoords"
           }
          ],
          "pie": [
           {
            "automargin": true,
            "type": "pie"
           }
          ],
          "scatter": [
           {
            "marker": {
             "colorbar": {
              "outlinewidth": 0,
              "ticks": ""
             }
            },
            "type": "scatter"
           }
          ],
          "scatter3d": [
           {
            "line": {
             "colorbar": {
              "outlinewidth": 0,
              "ticks": ""
             }
            },
            "marker": {
             "colorbar": {
              "outlinewidth": 0,
              "ticks": ""
             }
            },
            "type": "scatter3d"
           }
          ],
          "scattercarpet": [
           {
            "marker": {
             "colorbar": {
              "outlinewidth": 0,
              "ticks": ""
             }
            },
            "type": "scattercarpet"
           }
          ],
          "scattergeo": [
           {
            "marker": {
             "colorbar": {
              "outlinewidth": 0,
              "ticks": ""
             }
            },
            "type": "scattergeo"
           }
          ],
          "scattergl": [
           {
            "marker": {
             "colorbar": {
              "outlinewidth": 0,
              "ticks": ""
             }
            },
            "type": "scattergl"
           }
          ],
          "scattermapbox": [
           {
            "marker": {
             "colorbar": {
              "outlinewidth": 0,
              "ticks": ""
             }
            },
            "type": "scattermapbox"
           }
          ],
          "scatterpolar": [
           {
            "marker": {
             "colorbar": {
              "outlinewidth": 0,
              "ticks": ""
             }
            },
            "type": "scatterpolar"
           }
          ],
          "scatterpolargl": [
           {
            "marker": {
             "colorbar": {
              "outlinewidth": 0,
              "ticks": ""
             }
            },
            "type": "scatterpolargl"
           }
          ],
          "scatterternary": [
           {
            "marker": {
             "colorbar": {
              "outlinewidth": 0,
              "ticks": ""
             }
            },
            "type": "scatterternary"
           }
          ],
          "surface": [
           {
            "colorbar": {
             "outlinewidth": 0,
             "ticks": ""
            },
            "colorscale": [
             [
              0,
              "#0d0887"
             ],
             [
              0.1111111111111111,
              "#46039f"
             ],
             [
              0.2222222222222222,
              "#7201a8"
             ],
             [
              0.3333333333333333,
              "#9c179e"
             ],
             [
              0.4444444444444444,
              "#bd3786"
             ],
             [
              0.5555555555555556,
              "#d8576b"
             ],
             [
              0.6666666666666666,
              "#ed7953"
             ],
             [
              0.7777777777777778,
              "#fb9f3a"
             ],
             [
              0.8888888888888888,
              "#fdca26"
             ],
             [
              1,
              "#f0f921"
             ]
            ],
            "type": "surface"
           }
          ],
          "table": [
           {
            "cells": {
             "fill": {
              "color": "#EBF0F8"
             },
             "line": {
              "color": "white"
             }
            },
            "header": {
             "fill": {
              "color": "#C8D4E3"
             },
             "line": {
              "color": "white"
             }
            },
            "type": "table"
           }
          ]
         },
         "layout": {
          "annotationdefaults": {
           "arrowcolor": "#2a3f5f",
           "arrowhead": 0,
           "arrowwidth": 1
          },
          "coloraxis": {
           "colorbar": {
            "outlinewidth": 0,
            "ticks": ""
           }
          },
          "colorscale": {
           "diverging": [
            [
             0,
             "#8e0152"
            ],
            [
             0.1,
             "#c51b7d"
            ],
            [
             0.2,
             "#de77ae"
            ],
            [
             0.3,
             "#f1b6da"
            ],
            [
             0.4,
             "#fde0ef"
            ],
            [
             0.5,
             "#f7f7f7"
            ],
            [
             0.6,
             "#e6f5d0"
            ],
            [
             0.7,
             "#b8e186"
            ],
            [
             0.8,
             "#7fbc41"
            ],
            [
             0.9,
             "#4d9221"
            ],
            [
             1,
             "#276419"
            ]
           ],
           "sequential": [
            [
             0,
             "#0d0887"
            ],
            [
             0.1111111111111111,
             "#46039f"
            ],
            [
             0.2222222222222222,
             "#7201a8"
            ],
            [
             0.3333333333333333,
             "#9c179e"
            ],
            [
             0.4444444444444444,
             "#bd3786"
            ],
            [
             0.5555555555555556,
             "#d8576b"
            ],
            [
             0.6666666666666666,
             "#ed7953"
            ],
            [
             0.7777777777777778,
             "#fb9f3a"
            ],
            [
             0.8888888888888888,
             "#fdca26"
            ],
            [
             1,
             "#f0f921"
            ]
           ],
           "sequentialminus": [
            [
             0,
             "#0d0887"
            ],
            [
             0.1111111111111111,
             "#46039f"
            ],
            [
             0.2222222222222222,
             "#7201a8"
            ],
            [
             0.3333333333333333,
             "#9c179e"
            ],
            [
             0.4444444444444444,
             "#bd3786"
            ],
            [
             0.5555555555555556,
             "#d8576b"
            ],
            [
             0.6666666666666666,
             "#ed7953"
            ],
            [
             0.7777777777777778,
             "#fb9f3a"
            ],
            [
             0.8888888888888888,
             "#fdca26"
            ],
            [
             1,
             "#f0f921"
            ]
           ]
          },
          "colorway": [
           "#636efa",
           "#EF553B",
           "#00cc96",
           "#ab63fa",
           "#FFA15A",
           "#19d3f3",
           "#FF6692",
           "#B6E880",
           "#FF97FF",
           "#FECB52"
          ],
          "font": {
           "color": "#2a3f5f"
          },
          "geo": {
           "bgcolor": "white",
           "lakecolor": "white",
           "landcolor": "#E5ECF6",
           "showlakes": true,
           "showland": true,
           "subunitcolor": "white"
          },
          "hoverlabel": {
           "align": "left"
          },
          "hovermode": "closest",
          "mapbox": {
           "style": "light"
          },
          "paper_bgcolor": "white",
          "plot_bgcolor": "#E5ECF6",
          "polar": {
           "angularaxis": {
            "gridcolor": "white",
            "linecolor": "white",
            "ticks": ""
           },
           "bgcolor": "#E5ECF6",
           "radialaxis": {
            "gridcolor": "white",
            "linecolor": "white",
            "ticks": ""
           }
          },
          "scene": {
           "xaxis": {
            "backgroundcolor": "#E5ECF6",
            "gridcolor": "white",
            "gridwidth": 2,
            "linecolor": "white",
            "showbackground": true,
            "ticks": "",
            "zerolinecolor": "white"
           },
           "yaxis": {
            "backgroundcolor": "#E5ECF6",
            "gridcolor": "white",
            "gridwidth": 2,
            "linecolor": "white",
            "showbackground": true,
            "ticks": "",
            "zerolinecolor": "white"
           },
           "zaxis": {
            "backgroundcolor": "#E5ECF6",
            "gridcolor": "white",
            "gridwidth": 2,
            "linecolor": "white",
            "showbackground": true,
            "ticks": "",
            "zerolinecolor": "white"
           }
          },
          "shapedefaults": {
           "line": {
            "color": "#2a3f5f"
           }
          },
          "ternary": {
           "aaxis": {
            "gridcolor": "white",
            "linecolor": "white",
            "ticks": ""
           },
           "baxis": {
            "gridcolor": "white",
            "linecolor": "white",
            "ticks": ""
           },
           "bgcolor": "#E5ECF6",
           "caxis": {
            "gridcolor": "white",
            "linecolor": "white",
            "ticks": ""
           }
          },
          "title": {
           "x": 0.05
          },
          "xaxis": {
           "automargin": true,
           "gridcolor": "white",
           "linecolor": "white",
           "ticks": "",
           "title": {
            "standoff": 15
           },
           "zerolinecolor": "white",
           "zerolinewidth": 2
          },
          "yaxis": {
           "automargin": true,
           "gridcolor": "white",
           "linecolor": "white",
           "ticks": "",
           "title": {
            "standoff": 15
           },
           "zerolinecolor": "white",
           "zerolinewidth": 2
          }
         }
        },
        "title": {
         "text": "Rolling mean trend, window = month"
        },
        "xaxis": {
         "anchor": "y",
         "domain": [
          0,
          1
         ],
         "title": {
          "text": "data"
         }
        },
        "yaxis": {
         "anchor": "x",
         "domain": [
          0,
          1
         ],
         "title": {
          "text": "_value"
         }
        }
       }
      },
      "text/html": [
       "<div>\n",
       "        \n",
       "        \n",
       "            <div id=\"66bc1c37-17d8-4349-981f-b7a7610a6075\" class=\"plotly-graph-div\" style=\"height:525px; width:100%;\"></div>\n",
       "            <script type=\"text/javascript\">\n",
       "                require([\"plotly\"], function(Plotly) {\n",
       "                    window.PLOTLYENV=window.PLOTLYENV || {};\n",
       "                    \n",
       "                if (document.getElementById(\"66bc1c37-17d8-4349-981f-b7a7610a6075\")) {\n",
       "                    Plotly.newPlot(\n",
       "                        '66bc1c37-17d8-4349-981f-b7a7610a6075',\n",
       "                        [{\"hovertemplate\": \"variable=value<br>data=%{x}<br>_value=%{y}<extra></extra>\", \"legendgroup\": \"value\", \"line\": {\"color\": \"#636efa\", \"dash\": \"solid\"}, \"mode\": \"lines\", \"name\": \"value\", \"orientation\": \"v\", \"showlegend\": true, \"type\": \"scatter\", \"x\": [\"04.02.2019\", \"05.02.2019\", \"06.02.2019\", \"08.02.2019\", \"10.02.2019\", \"12.02.2019\", \"13.02.2019\", \"15.02.2019\", \"16.02.2019\", \"18.02.2019\", \"19.02.2019\", \"20.02.2019\", \"21.02.2019\", \"22.02.2019\", \"23.02.2019\", \"25.02.2019\", \"26.02.2019\", \"28.02.2019\", \"02.03.2019\", \"03.03.2019\", \"04.03.2019\", \"05.03.2019\", \"06.03.2019\", \"07.03.2019\", \"08.03.2019\", \"10.03.2019\", \"12.03.2019\", \"13.03.2019\", \"14.03.2019\", \"15.03.2019\", \"16.03.2019\", \"17.03.2019\", \"18.03.2019\", \"19.03.2019\", \"20.03.2019\", \"21.03.2019\", \"22.03.2019\", \"23.03.2019\", \"24.03.2019\", \"25.03.2019\", \"26.03.2019\", \"27.03.2019\", \"28.03.2019\", \"29.03.2019\", \"30.03.2019\", \"31.03.2019\", \"01.04.2019\", \"02.04.2019\", \"03.04.2019\", \"04.04.2019\", \"05.04.2019\", \"06.04.2019\", \"07.04.2019\", \"08.04.2019\", \"09.04.2019\", \"10.04.2019\", \"11.04.2019\", \"12.04.2019\", \"13.04.2019\", \"14.04.2019\", \"15.04.2019\", \"16.04.2019\", \"17.04.2019\", \"18.04.2019\", \"19.04.2019\", \"20.04.2019\", \"21.04.2019\", \"22.04.2019\", \"23.04.2019\", \"24.04.2019\", \"25.04.2019\", \"26.04.2019\", \"27.04.2019\", \"28.04.2019\", \"29.04.2019\", \"30.04.2019\", \"01.05.2019\", \"02.05.2019\", \"03.05.2019\", \"04.05.2019\", \"05.05.2019\", \"06.05.2019\", \"07.05.2019\", \"08.05.2019\", \"09.05.2019\", \"10.05.2019\", \"11.05.2019\", \"12.05.2019\", \"13.05.2019\", \"14.05.2019\", \"15.05.2019\", \"16.05.2019\", \"17.05.2019\", \"18.05.2019\", \"19.05.2019\", \"20.05.2019\", \"21.05.2019\", \"22.05.2019\", \"23.05.2019\", \"24.05.2019\", \"25.05.2019\", \"26.05.2019\", \"27.05.2019\", \"28.05.2019\", \"29.05.2019\", \"30.05.2019\", \"31.05.2019\", \"01.06.2019\", \"02.06.2019\", \"03.06.2019\"], \"xaxis\": \"x\", \"y\": [13.360333333333328, 13.303666666666661, 13.175999999999995, 13.084333333333328, 13.054999999999994, 12.983999999999993, 12.95866666666666, 12.93666666666666, 12.869333333333326, 12.860333333333328, 12.855333333333329, 12.782999999999996, 12.756999999999998, 12.730999999999996, 12.744999999999997, 13.013666666666664, 13.249999999999996, 13.454666666666663, 13.620666666666661, 13.78966666666666, 13.714999999999995, 13.65466666666666, 13.623666666666661, 13.586999999999996, 13.55133333333333, 13.507999999999997, 13.508999999999997, 13.504666666666663, 13.505999999999998, 13.503999999999998, 13.545666666666666, 13.534666666666665, 13.559999999999999, 13.578, 13.535666666666666, 13.438666666666666, 13.314999999999998, 13.15633333333333, 13.05733333333333, 12.939666666666662, 12.892666666666662, 12.90266666666666, 12.921333333333328, 12.931999999999993, 12.92466666666666, 12.946333333333325, 12.944666666666658, 12.967666666666661, 13.008666666666661, 13.029333333333328, 13.329333333333327, 13.557999999999995, 13.773999999999994, 13.926999999999992, 14.088333333333328, 14.022333333333329, 13.915999999999995, 13.856333333333328, 13.806666666666661, 13.765999999999995, 13.678666666666663, 13.671666666666662, 13.638333333333328, 13.612333333333329, 13.59966666666666, 13.653999999999995, 13.73066666666666, 13.82066666666666, 13.879666666666662, 13.956666666666662, 13.853666666666664, 13.788999999999996, 13.628999999999996, 13.526999999999996, 13.441666666666663, 13.378999999999996, 13.354999999999997, 13.351666666666665, 13.325666666666667, 13.299666666666667, 13.279, 13.26, 13.237333333333334, 13.271666666666668, 13.295, 13.581333333333333, 13.822333333333331, 14.043666666666665, 14.195666666666664, 14.347999999999997, 14.293666666666663, 14.193666666666664, 14.139666666666663, 14.093666666666662, 14.044333333333329, 13.996333333333329, 13.978999999999996, 13.955999999999996, 13.946999999999996, 13.923999999999996, 13.964999999999996, 13.97933333333333, 14.048333333333328, 14.08433333333333, 14.104999999999997, 14.006333333333332, 13.939999999999998, 13.78433333333333, 13.69933333333333, 13.636666666666663], \"yaxis\": \"y\"}],\n",
       "                        {\"legend\": {\"title\": {\"text\": \"variable\"}, \"tracegroupgap\": 0}, \"template\": {\"data\": {\"bar\": [{\"error_x\": {\"color\": \"#2a3f5f\"}, \"error_y\": {\"color\": \"#2a3f5f\"}, \"marker\": {\"line\": {\"color\": \"#E5ECF6\", \"width\": 0.5}}, \"type\": \"bar\"}], \"barpolar\": [{\"marker\": {\"line\": {\"color\": \"#E5ECF6\", \"width\": 0.5}}, \"type\": \"barpolar\"}], \"carpet\": [{\"aaxis\": {\"endlinecolor\": \"#2a3f5f\", \"gridcolor\": \"white\", \"linecolor\": \"white\", \"minorgridcolor\": \"white\", \"startlinecolor\": \"#2a3f5f\"}, \"baxis\": {\"endlinecolor\": \"#2a3f5f\", \"gridcolor\": \"white\", \"linecolor\": \"white\", \"minorgridcolor\": \"white\", \"startlinecolor\": \"#2a3f5f\"}, \"type\": \"carpet\"}], \"choropleth\": [{\"colorbar\": {\"outlinewidth\": 0, \"ticks\": \"\"}, \"type\": \"choropleth\"}], \"contour\": [{\"colorbar\": {\"outlinewidth\": 0, \"ticks\": \"\"}, \"colorscale\": [[0.0, \"#0d0887\"], [0.1111111111111111, \"#46039f\"], [0.2222222222222222, \"#7201a8\"], [0.3333333333333333, \"#9c179e\"], [0.4444444444444444, \"#bd3786\"], [0.5555555555555556, \"#d8576b\"], [0.6666666666666666, \"#ed7953\"], [0.7777777777777778, \"#fb9f3a\"], [0.8888888888888888, \"#fdca26\"], [1.0, \"#f0f921\"]], \"type\": \"contour\"}], \"contourcarpet\": [{\"colorbar\": {\"outlinewidth\": 0, \"ticks\": \"\"}, \"type\": \"contourcarpet\"}], \"heatmap\": [{\"colorbar\": {\"outlinewidth\": 0, \"ticks\": \"\"}, \"colorscale\": [[0.0, \"#0d0887\"], [0.1111111111111111, \"#46039f\"], [0.2222222222222222, \"#7201a8\"], [0.3333333333333333, \"#9c179e\"], [0.4444444444444444, \"#bd3786\"], [0.5555555555555556, \"#d8576b\"], [0.6666666666666666, \"#ed7953\"], [0.7777777777777778, \"#fb9f3a\"], [0.8888888888888888, \"#fdca26\"], [1.0, \"#f0f921\"]], \"type\": \"heatmap\"}], \"heatmapgl\": [{\"colorbar\": {\"outlinewidth\": 0, \"ticks\": \"\"}, \"colorscale\": [[0.0, \"#0d0887\"], [0.1111111111111111, \"#46039f\"], [0.2222222222222222, \"#7201a8\"], [0.3333333333333333, \"#9c179e\"], [0.4444444444444444, \"#bd3786\"], [0.5555555555555556, \"#d8576b\"], [0.6666666666666666, \"#ed7953\"], [0.7777777777777778, \"#fb9f3a\"], [0.8888888888888888, \"#fdca26\"], [1.0, \"#f0f921\"]], \"type\": \"heatmapgl\"}], \"histogram\": [{\"marker\": {\"colorbar\": {\"outlinewidth\": 0, \"ticks\": \"\"}}, \"type\": \"histogram\"}], \"histogram2d\": [{\"colorbar\": {\"outlinewidth\": 0, \"ticks\": \"\"}, \"colorscale\": [[0.0, \"#0d0887\"], [0.1111111111111111, \"#46039f\"], [0.2222222222222222, \"#7201a8\"], [0.3333333333333333, \"#9c179e\"], [0.4444444444444444, \"#bd3786\"], [0.5555555555555556, \"#d8576b\"], [0.6666666666666666, \"#ed7953\"], [0.7777777777777778, \"#fb9f3a\"], [0.8888888888888888, \"#fdca26\"], [1.0, \"#f0f921\"]], \"type\": \"histogram2d\"}], \"histogram2dcontour\": [{\"colorbar\": {\"outlinewidth\": 0, \"ticks\": \"\"}, \"colorscale\": [[0.0, \"#0d0887\"], [0.1111111111111111, \"#46039f\"], [0.2222222222222222, \"#7201a8\"], [0.3333333333333333, \"#9c179e\"], [0.4444444444444444, \"#bd3786\"], [0.5555555555555556, \"#d8576b\"], [0.6666666666666666, \"#ed7953\"], [0.7777777777777778, \"#fb9f3a\"], [0.8888888888888888, \"#fdca26\"], [1.0, \"#f0f921\"]], \"type\": \"histogram2dcontour\"}], \"mesh3d\": [{\"colorbar\": {\"outlinewidth\": 0, \"ticks\": \"\"}, \"type\": \"mesh3d\"}], \"parcoords\": [{\"line\": {\"colorbar\": {\"outlinewidth\": 0, \"ticks\": \"\"}}, \"type\": \"parcoords\"}], \"pie\": [{\"automargin\": true, \"type\": \"pie\"}], \"scatter\": [{\"marker\": {\"colorbar\": {\"outlinewidth\": 0, \"ticks\": \"\"}}, \"type\": \"scatter\"}], \"scatter3d\": [{\"line\": {\"colorbar\": {\"outlinewidth\": 0, \"ticks\": \"\"}}, \"marker\": {\"colorbar\": {\"outlinewidth\": 0, \"ticks\": \"\"}}, \"type\": \"scatter3d\"}], \"scattercarpet\": [{\"marker\": {\"colorbar\": {\"outlinewidth\": 0, \"ticks\": \"\"}}, \"type\": \"scattercarpet\"}], \"scattergeo\": [{\"marker\": {\"colorbar\": {\"outlinewidth\": 0, \"ticks\": \"\"}}, \"type\": \"scattergeo\"}], \"scattergl\": [{\"marker\": {\"colorbar\": {\"outlinewidth\": 0, \"ticks\": \"\"}}, \"type\": \"scattergl\"}], \"scattermapbox\": [{\"marker\": {\"colorbar\": {\"outlinewidth\": 0, \"ticks\": \"\"}}, \"type\": \"scattermapbox\"}], \"scatterpolar\": [{\"marker\": {\"colorbar\": {\"outlinewidth\": 0, \"ticks\": \"\"}}, \"type\": \"scatterpolar\"}], \"scatterpolargl\": [{\"marker\": {\"colorbar\": {\"outlinewidth\": 0, \"ticks\": \"\"}}, \"type\": \"scatterpolargl\"}], \"scatterternary\": [{\"marker\": {\"colorbar\": {\"outlinewidth\": 0, \"ticks\": \"\"}}, \"type\": \"scatterternary\"}], \"surface\": [{\"colorbar\": {\"outlinewidth\": 0, \"ticks\": \"\"}, \"colorscale\": [[0.0, \"#0d0887\"], [0.1111111111111111, \"#46039f\"], [0.2222222222222222, \"#7201a8\"], [0.3333333333333333, \"#9c179e\"], [0.4444444444444444, \"#bd3786\"], [0.5555555555555556, \"#d8576b\"], [0.6666666666666666, \"#ed7953\"], [0.7777777777777778, \"#fb9f3a\"], [0.8888888888888888, \"#fdca26\"], [1.0, \"#f0f921\"]], \"type\": \"surface\"}], \"table\": [{\"cells\": {\"fill\": {\"color\": \"#EBF0F8\"}, \"line\": {\"color\": \"white\"}}, \"header\": {\"fill\": {\"color\": \"#C8D4E3\"}, \"line\": {\"color\": \"white\"}}, \"type\": \"table\"}]}, \"layout\": {\"annotationdefaults\": {\"arrowcolor\": \"#2a3f5f\", \"arrowhead\": 0, \"arrowwidth\": 1}, \"coloraxis\": {\"colorbar\": {\"outlinewidth\": 0, \"ticks\": \"\"}}, \"colorscale\": {\"diverging\": [[0, \"#8e0152\"], [0.1, \"#c51b7d\"], [0.2, \"#de77ae\"], [0.3, \"#f1b6da\"], [0.4, \"#fde0ef\"], [0.5, \"#f7f7f7\"], [0.6, \"#e6f5d0\"], [0.7, \"#b8e186\"], [0.8, \"#7fbc41\"], [0.9, \"#4d9221\"], [1, \"#276419\"]], \"sequential\": [[0.0, \"#0d0887\"], [0.1111111111111111, \"#46039f\"], [0.2222222222222222, \"#7201a8\"], [0.3333333333333333, \"#9c179e\"], [0.4444444444444444, \"#bd3786\"], [0.5555555555555556, \"#d8576b\"], [0.6666666666666666, \"#ed7953\"], [0.7777777777777778, \"#fb9f3a\"], [0.8888888888888888, \"#fdca26\"], [1.0, \"#f0f921\"]], \"sequentialminus\": [[0.0, \"#0d0887\"], [0.1111111111111111, \"#46039f\"], [0.2222222222222222, \"#7201a8\"], [0.3333333333333333, \"#9c179e\"], [0.4444444444444444, \"#bd3786\"], [0.5555555555555556, \"#d8576b\"], [0.6666666666666666, \"#ed7953\"], [0.7777777777777778, \"#fb9f3a\"], [0.8888888888888888, \"#fdca26\"], [1.0, \"#f0f921\"]]}, \"colorway\": [\"#636efa\", \"#EF553B\", \"#00cc96\", \"#ab63fa\", \"#FFA15A\", \"#19d3f3\", \"#FF6692\", \"#B6E880\", \"#FF97FF\", \"#FECB52\"], \"font\": {\"color\": \"#2a3f5f\"}, \"geo\": {\"bgcolor\": \"white\", \"lakecolor\": \"white\", \"landcolor\": \"#E5ECF6\", \"showlakes\": true, \"showland\": true, \"subunitcolor\": \"white\"}, \"hoverlabel\": {\"align\": \"left\"}, \"hovermode\": \"closest\", \"mapbox\": {\"style\": \"light\"}, \"paper_bgcolor\": \"white\", \"plot_bgcolor\": \"#E5ECF6\", \"polar\": {\"angularaxis\": {\"gridcolor\": \"white\", \"linecolor\": \"white\", \"ticks\": \"\"}, \"bgcolor\": \"#E5ECF6\", \"radialaxis\": {\"gridcolor\": \"white\", \"linecolor\": \"white\", \"ticks\": \"\"}}, \"scene\": {\"xaxis\": {\"backgroundcolor\": \"#E5ECF6\", \"gridcolor\": \"white\", \"gridwidth\": 2, \"linecolor\": \"white\", \"showbackground\": true, \"ticks\": \"\", \"zerolinecolor\": \"white\"}, \"yaxis\": {\"backgroundcolor\": \"#E5ECF6\", \"gridcolor\": \"white\", \"gridwidth\": 2, \"linecolor\": \"white\", \"showbackground\": true, \"ticks\": \"\", \"zerolinecolor\": \"white\"}, \"zaxis\": {\"backgroundcolor\": \"#E5ECF6\", \"gridcolor\": \"white\", \"gridwidth\": 2, \"linecolor\": \"white\", \"showbackground\": true, \"ticks\": \"\", \"zerolinecolor\": \"white\"}}, \"shapedefaults\": {\"line\": {\"color\": \"#2a3f5f\"}}, \"ternary\": {\"aaxis\": {\"gridcolor\": \"white\", \"linecolor\": \"white\", \"ticks\": \"\"}, \"baxis\": {\"gridcolor\": \"white\", \"linecolor\": \"white\", \"ticks\": \"\"}, \"bgcolor\": \"#E5ECF6\", \"caxis\": {\"gridcolor\": \"white\", \"linecolor\": \"white\", \"ticks\": \"\"}}, \"title\": {\"x\": 0.05}, \"xaxis\": {\"automargin\": true, \"gridcolor\": \"white\", \"linecolor\": \"white\", \"ticks\": \"\", \"title\": {\"standoff\": 15}, \"zerolinecolor\": \"white\", \"zerolinewidth\": 2}, \"yaxis\": {\"automargin\": true, \"gridcolor\": \"white\", \"linecolor\": \"white\", \"ticks\": \"\", \"title\": {\"standoff\": 15}, \"zerolinecolor\": \"white\", \"zerolinewidth\": 2}}}, \"title\": {\"text\": \"Rolling mean trend, window = month\"}, \"xaxis\": {\"anchor\": \"y\", \"domain\": [0.0, 1.0], \"title\": {\"text\": \"data\"}}, \"yaxis\": {\"anchor\": \"x\", \"domain\": [0.0, 1.0], \"title\": {\"text\": \"_value\"}}},\n",
       "                        {\"responsive\": true}\n",
       "                    ).then(function(){\n",
       "                            \n",
       "var gd = document.getElementById('66bc1c37-17d8-4349-981f-b7a7610a6075');\n",
       "var x = new MutationObserver(function (mutations, observer) {{\n",
       "        var display = window.getComputedStyle(gd).display;\n",
       "        if (!display || display === 'none') {{\n",
       "            console.log([gd, 'removed!']);\n",
       "            Plotly.purge(gd);\n",
       "            observer.disconnect();\n",
       "        }}\n",
       "}});\n",
       "\n",
       "// Listen for the removal of the full notebook cells\n",
       "var notebookContainer = gd.closest('#notebook-container');\n",
       "if (notebookContainer) {{\n",
       "    x.observe(notebookContainer, {childList: true});\n",
       "}}\n",
       "\n",
       "// Listen for the clearing of the current output cell\n",
       "var outputEl = gd.closest('.output');\n",
       "if (outputEl) {{\n",
       "    x.observe(outputEl, {childList: true});\n",
       "}}\n",
       "\n",
       "                        })\n",
       "                };\n",
       "                });\n",
       "            </script>\n",
       "        </div>"
      ]
     },
     "metadata": {},
     "output_type": "display_data"
    }
   ],
   "source": [
    "px.line(data.rolling(window=30).mean()[30:], title='Rolling mean trend, window = month')"
   ]
  },
  {
   "cell_type": "code",
   "execution_count": 10,
   "metadata": {},
   "outputs": [
    {
     "data": {
      "application/vnd.plotly.v1+json": {
       "config": {
        "plotlyServerURL": "https://plot.ly"
       },
       "data": [
        {
         "hovertemplate": "variable=value<br>data=%{x}<br>_value=%{y}<extra></extra>",
         "legendgroup": "value",
         "line": {
          "color": "#636efa",
          "dash": "solid"
         },
         "mode": "lines",
         "name": "value",
         "orientation": "v",
         "showlegend": true,
         "type": "scatter",
         "x": [
          "05.02.2019",
          "06.02.2019",
          "08.02.2019",
          "10.02.2019",
          "12.02.2019",
          "13.02.2019",
          "15.02.2019",
          "16.02.2019",
          "18.02.2019",
          "19.02.2019",
          "20.02.2019",
          "21.02.2019",
          "22.02.2019",
          "23.02.2019",
          "25.02.2019",
          "26.02.2019",
          "28.02.2019",
          "02.03.2019",
          "03.03.2019",
          "04.03.2019",
          "05.03.2019",
          "06.03.2019",
          "07.03.2019",
          "08.03.2019",
          "10.03.2019",
          "12.03.2019",
          "13.03.2019",
          "14.03.2019",
          "15.03.2019",
          "16.03.2019",
          "17.03.2019",
          "18.03.2019",
          "19.03.2019",
          "20.03.2019",
          "21.03.2019",
          "22.03.2019",
          "23.03.2019",
          "24.03.2019",
          "25.03.2019",
          "26.03.2019",
          "27.03.2019",
          "28.03.2019",
          "29.03.2019",
          "30.03.2019",
          "31.03.2019",
          "01.04.2019",
          "02.04.2019",
          "03.04.2019",
          "04.04.2019",
          "05.04.2019",
          "06.04.2019",
          "07.04.2019",
          "08.04.2019",
          "09.04.2019",
          "10.04.2019",
          "11.04.2019",
          "12.04.2019",
          "13.04.2019",
          "14.04.2019",
          "15.04.2019",
          "16.04.2019",
          "17.04.2019",
          "18.04.2019",
          "19.04.2019",
          "20.04.2019",
          "21.04.2019",
          "22.04.2019",
          "23.04.2019",
          "24.04.2019",
          "25.04.2019",
          "26.04.2019",
          "27.04.2019",
          "28.04.2019",
          "29.04.2019",
          "30.04.2019",
          "01.05.2019",
          "02.05.2019",
          "03.05.2019",
          "04.05.2019",
          "05.05.2019",
          "06.05.2019",
          "07.05.2019",
          "08.05.2019",
          "09.05.2019",
          "10.05.2019",
          "11.05.2019",
          "12.05.2019",
          "13.05.2019",
          "14.05.2019",
          "15.05.2019",
          "16.05.2019",
          "17.05.2019",
          "18.05.2019",
          "19.05.2019",
          "20.05.2019",
          "21.05.2019",
          "22.05.2019",
          "23.05.2019",
          "24.05.2019",
          "25.05.2019",
          "26.05.2019",
          "27.05.2019",
          "28.05.2019",
          "29.05.2019",
          "30.05.2019",
          "31.05.2019",
          "01.06.2019",
          "02.06.2019",
          "03.06.2019"
         ],
         "xaxis": "x",
         "y": [
          -0.05666666666666664,
          -0.12766666666666668,
          -0.09166666666666666,
          -0.02933333333333336,
          -0.07100000000000009,
          -0.025333333333333326,
          -0.022000000000000006,
          -0.06733333333333338,
          -0.008999999999999985,
          -0.005000000000000012,
          -0.07233333333333333,
          -0.026000000000000037,
          -0.026000000000000037,
          0.013999999999999997,
          0.26866666666666666,
          0.23633333333333334,
          0.2046666666666667,
          0.16599999999999995,
          0.169,
          -0.07466666666666667,
          -0.06033333333333335,
          -0.03099999999999999,
          -0.03666666666666665,
          -0.03566666666666662,
          -0.043333333333333356,
          0.0009999999999999788,
          -0.0043333333333333,
          0.0013333333333333049,
          -0.0019999999999999575,
          0.041666666666666664,
          -0.011000000000000003,
          0.025333333333333385,
          0.01799999999999997,
          -0.04233333333333332,
          -0.09699999999999995,
          -0.12366666666666663,
          -0.15866666666666665,
          -0.09900000000000002,
          -0.11766666666666664,
          -0.04700000000000001,
          0.009999999999999964,
          0.018666666666666623,
          0.010666666666666677,
          -0.007333333333333295,
          0.02166666666666662,
          -0.0016666666666666904,
          0.02300000000000004,
          0.04100000000000007,
          0.0206666666666667,
          0.30000000000000004,
          0.2286666666666667,
          0.21599999999999994,
          0.153,
          0.16133333333333333,
          -0.06599999999999996,
          -0.10633333333333332,
          -0.059666666666666694,
          -0.04966666666666667,
          -0.04066666666666669,
          -0.0873333333333333,
          -0.007000000000000029,
          -0.03333333333333333,
          -0.025999999999999978,
          -0.012666666666666633,
          0.0543333333333333,
          0.07666666666666663,
          0.09000000000000004,
          0.05899999999999998,
          0.07699999999999996,
          -0.103,
          -0.06466666666666665,
          -0.15999999999999998,
          -0.10199999999999995,
          -0.08533333333333334,
          -0.06266666666666663,
          -0.02400000000000002,
          -0.003333333333333381,
          -0.026000000000000037,
          -0.026000000000000037,
          -0.0206666666666667,
          -0.01900000000000001,
          -0.022666666666666658,
          0.03433333333333337,
          0.02333333333333337,
          0.28633333333333333,
          0.24100000000000002,
          0.22133333333333335,
          0.15200000000000002,
          0.1523333333333333,
          -0.05433333333333336,
          -0.1,
          -0.054000000000000034,
          -0.045999999999999965,
          -0.04933333333333335,
          -0.04799999999999998,
          -0.01733333333333332,
          -0.02300000000000004,
          -0.008999999999999985,
          -0.022999999999999982,
          0.041000000000000016,
          0.014333333333333325,
          0.069,
          0.03599999999999994,
          0.020666666666666642,
          -0.0986666666666667,
          -0.06633333333333329,
          -0.15566666666666668,
          -0.08500000000000002,
          -0.06266666666666669
         ],
         "yaxis": "y"
        }
       ],
       "layout": {
        "legend": {
         "title": {
          "text": "variable"
         },
         "tracegroupgap": 0
        },
        "template": {
         "data": {
          "bar": [
           {
            "error_x": {
             "color": "#2a3f5f"
            },
            "error_y": {
             "color": "#2a3f5f"
            },
            "marker": {
             "line": {
              "color": "#E5ECF6",
              "width": 0.5
             }
            },
            "type": "bar"
           }
          ],
          "barpolar": [
           {
            "marker": {
             "line": {
              "color": "#E5ECF6",
              "width": 0.5
             }
            },
            "type": "barpolar"
           }
          ],
          "carpet": [
           {
            "aaxis": {
             "endlinecolor": "#2a3f5f",
             "gridcolor": "white",
             "linecolor": "white",
             "minorgridcolor": "white",
             "startlinecolor": "#2a3f5f"
            },
            "baxis": {
             "endlinecolor": "#2a3f5f",
             "gridcolor": "white",
             "linecolor": "white",
             "minorgridcolor": "white",
             "startlinecolor": "#2a3f5f"
            },
            "type": "carpet"
           }
          ],
          "choropleth": [
           {
            "colorbar": {
             "outlinewidth": 0,
             "ticks": ""
            },
            "type": "choropleth"
           }
          ],
          "contour": [
           {
            "colorbar": {
             "outlinewidth": 0,
             "ticks": ""
            },
            "colorscale": [
             [
              0,
              "#0d0887"
             ],
             [
              0.1111111111111111,
              "#46039f"
             ],
             [
              0.2222222222222222,
              "#7201a8"
             ],
             [
              0.3333333333333333,
              "#9c179e"
             ],
             [
              0.4444444444444444,
              "#bd3786"
             ],
             [
              0.5555555555555556,
              "#d8576b"
             ],
             [
              0.6666666666666666,
              "#ed7953"
             ],
             [
              0.7777777777777778,
              "#fb9f3a"
             ],
             [
              0.8888888888888888,
              "#fdca26"
             ],
             [
              1,
              "#f0f921"
             ]
            ],
            "type": "contour"
           }
          ],
          "contourcarpet": [
           {
            "colorbar": {
             "outlinewidth": 0,
             "ticks": ""
            },
            "type": "contourcarpet"
           }
          ],
          "heatmap": [
           {
            "colorbar": {
             "outlinewidth": 0,
             "ticks": ""
            },
            "colorscale": [
             [
              0,
              "#0d0887"
             ],
             [
              0.1111111111111111,
              "#46039f"
             ],
             [
              0.2222222222222222,
              "#7201a8"
             ],
             [
              0.3333333333333333,
              "#9c179e"
             ],
             [
              0.4444444444444444,
              "#bd3786"
             ],
             [
              0.5555555555555556,
              "#d8576b"
             ],
             [
              0.6666666666666666,
              "#ed7953"
             ],
             [
              0.7777777777777778,
              "#fb9f3a"
             ],
             [
              0.8888888888888888,
              "#fdca26"
             ],
             [
              1,
              "#f0f921"
             ]
            ],
            "type": "heatmap"
           }
          ],
          "heatmapgl": [
           {
            "colorbar": {
             "outlinewidth": 0,
             "ticks": ""
            },
            "colorscale": [
             [
              0,
              "#0d0887"
             ],
             [
              0.1111111111111111,
              "#46039f"
             ],
             [
              0.2222222222222222,
              "#7201a8"
             ],
             [
              0.3333333333333333,
              "#9c179e"
             ],
             [
              0.4444444444444444,
              "#bd3786"
             ],
             [
              0.5555555555555556,
              "#d8576b"
             ],
             [
              0.6666666666666666,
              "#ed7953"
             ],
             [
              0.7777777777777778,
              "#fb9f3a"
             ],
             [
              0.8888888888888888,
              "#fdca26"
             ],
             [
              1,
              "#f0f921"
             ]
            ],
            "type": "heatmapgl"
           }
          ],
          "histogram": [
           {
            "marker": {
             "colorbar": {
              "outlinewidth": 0,
              "ticks": ""
             }
            },
            "type": "histogram"
           }
          ],
          "histogram2d": [
           {
            "colorbar": {
             "outlinewidth": 0,
             "ticks": ""
            },
            "colorscale": [
             [
              0,
              "#0d0887"
             ],
             [
              0.1111111111111111,
              "#46039f"
             ],
             [
              0.2222222222222222,
              "#7201a8"
             ],
             [
              0.3333333333333333,
              "#9c179e"
             ],
             [
              0.4444444444444444,
              "#bd3786"
             ],
             [
              0.5555555555555556,
              "#d8576b"
             ],
             [
              0.6666666666666666,
              "#ed7953"
             ],
             [
              0.7777777777777778,
              "#fb9f3a"
             ],
             [
              0.8888888888888888,
              "#fdca26"
             ],
             [
              1,
              "#f0f921"
             ]
            ],
            "type": "histogram2d"
           }
          ],
          "histogram2dcontour": [
           {
            "colorbar": {
             "outlinewidth": 0,
             "ticks": ""
            },
            "colorscale": [
             [
              0,
              "#0d0887"
             ],
             [
              0.1111111111111111,
              "#46039f"
             ],
             [
              0.2222222222222222,
              "#7201a8"
             ],
             [
              0.3333333333333333,
              "#9c179e"
             ],
             [
              0.4444444444444444,
              "#bd3786"
             ],
             [
              0.5555555555555556,
              "#d8576b"
             ],
             [
              0.6666666666666666,
              "#ed7953"
             ],
             [
              0.7777777777777778,
              "#fb9f3a"
             ],
             [
              0.8888888888888888,
              "#fdca26"
             ],
             [
              1,
              "#f0f921"
             ]
            ],
            "type": "histogram2dcontour"
           }
          ],
          "mesh3d": [
           {
            "colorbar": {
             "outlinewidth": 0,
             "ticks": ""
            },
            "type": "mesh3d"
           }
          ],
          "parcoords": [
           {
            "line": {
             "colorbar": {
              "outlinewidth": 0,
              "ticks": ""
             }
            },
            "type": "parcoords"
           }
          ],
          "pie": [
           {
            "automargin": true,
            "type": "pie"
           }
          ],
          "scatter": [
           {
            "marker": {
             "colorbar": {
              "outlinewidth": 0,
              "ticks": ""
             }
            },
            "type": "scatter"
           }
          ],
          "scatter3d": [
           {
            "line": {
             "colorbar": {
              "outlinewidth": 0,
              "ticks": ""
             }
            },
            "marker": {
             "colorbar": {
              "outlinewidth": 0,
              "ticks": ""
             }
            },
            "type": "scatter3d"
           }
          ],
          "scattercarpet": [
           {
            "marker": {
             "colorbar": {
              "outlinewidth": 0,
              "ticks": ""
             }
            },
            "type": "scattercarpet"
           }
          ],
          "scattergeo": [
           {
            "marker": {
             "colorbar": {
              "outlinewidth": 0,
              "ticks": ""
             }
            },
            "type": "scattergeo"
           }
          ],
          "scattergl": [
           {
            "marker": {
             "colorbar": {
              "outlinewidth": 0,
              "ticks": ""
             }
            },
            "type": "scattergl"
           }
          ],
          "scattermapbox": [
           {
            "marker": {
             "colorbar": {
              "outlinewidth": 0,
              "ticks": ""
             }
            },
            "type": "scattermapbox"
           }
          ],
          "scatterpolar": [
           {
            "marker": {
             "colorbar": {
              "outlinewidth": 0,
              "ticks": ""
             }
            },
            "type": "scatterpolar"
           }
          ],
          "scatterpolargl": [
           {
            "marker": {
             "colorbar": {
              "outlinewidth": 0,
              "ticks": ""
             }
            },
            "type": "scatterpolargl"
           }
          ],
          "scatterternary": [
           {
            "marker": {
             "colorbar": {
              "outlinewidth": 0,
              "ticks": ""
             }
            },
            "type": "scatterternary"
           }
          ],
          "surface": [
           {
            "colorbar": {
             "outlinewidth": 0,
             "ticks": ""
            },
            "colorscale": [
             [
              0,
              "#0d0887"
             ],
             [
              0.1111111111111111,
              "#46039f"
             ],
             [
              0.2222222222222222,
              "#7201a8"
             ],
             [
              0.3333333333333333,
              "#9c179e"
             ],
             [
              0.4444444444444444,
              "#bd3786"
             ],
             [
              0.5555555555555556,
              "#d8576b"
             ],
             [
              0.6666666666666666,
              "#ed7953"
             ],
             [
              0.7777777777777778,
              "#fb9f3a"
             ],
             [
              0.8888888888888888,
              "#fdca26"
             ],
             [
              1,
              "#f0f921"
             ]
            ],
            "type": "surface"
           }
          ],
          "table": [
           {
            "cells": {
             "fill": {
              "color": "#EBF0F8"
             },
             "line": {
              "color": "white"
             }
            },
            "header": {
             "fill": {
              "color": "#C8D4E3"
             },
             "line": {
              "color": "white"
             }
            },
            "type": "table"
           }
          ]
         },
         "layout": {
          "annotationdefaults": {
           "arrowcolor": "#2a3f5f",
           "arrowhead": 0,
           "arrowwidth": 1
          },
          "coloraxis": {
           "colorbar": {
            "outlinewidth": 0,
            "ticks": ""
           }
          },
          "colorscale": {
           "diverging": [
            [
             0,
             "#8e0152"
            ],
            [
             0.1,
             "#c51b7d"
            ],
            [
             0.2,
             "#de77ae"
            ],
            [
             0.3,
             "#f1b6da"
            ],
            [
             0.4,
             "#fde0ef"
            ],
            [
             0.5,
             "#f7f7f7"
            ],
            [
             0.6,
             "#e6f5d0"
            ],
            [
             0.7,
             "#b8e186"
            ],
            [
             0.8,
             "#7fbc41"
            ],
            [
             0.9,
             "#4d9221"
            ],
            [
             1,
             "#276419"
            ]
           ],
           "sequential": [
            [
             0,
             "#0d0887"
            ],
            [
             0.1111111111111111,
             "#46039f"
            ],
            [
             0.2222222222222222,
             "#7201a8"
            ],
            [
             0.3333333333333333,
             "#9c179e"
            ],
            [
             0.4444444444444444,
             "#bd3786"
            ],
            [
             0.5555555555555556,
             "#d8576b"
            ],
            [
             0.6666666666666666,
             "#ed7953"
            ],
            [
             0.7777777777777778,
             "#fb9f3a"
            ],
            [
             0.8888888888888888,
             "#fdca26"
            ],
            [
             1,
             "#f0f921"
            ]
           ],
           "sequentialminus": [
            [
             0,
             "#0d0887"
            ],
            [
             0.1111111111111111,
             "#46039f"
            ],
            [
             0.2222222222222222,
             "#7201a8"
            ],
            [
             0.3333333333333333,
             "#9c179e"
            ],
            [
             0.4444444444444444,
             "#bd3786"
            ],
            [
             0.5555555555555556,
             "#d8576b"
            ],
            [
             0.6666666666666666,
             "#ed7953"
            ],
            [
             0.7777777777777778,
             "#fb9f3a"
            ],
            [
             0.8888888888888888,
             "#fdca26"
            ],
            [
             1,
             "#f0f921"
            ]
           ]
          },
          "colorway": [
           "#636efa",
           "#EF553B",
           "#00cc96",
           "#ab63fa",
           "#FFA15A",
           "#19d3f3",
           "#FF6692",
           "#B6E880",
           "#FF97FF",
           "#FECB52"
          ],
          "font": {
           "color": "#2a3f5f"
          },
          "geo": {
           "bgcolor": "white",
           "lakecolor": "white",
           "landcolor": "#E5ECF6",
           "showlakes": true,
           "showland": true,
           "subunitcolor": "white"
          },
          "hoverlabel": {
           "align": "left"
          },
          "hovermode": "closest",
          "mapbox": {
           "style": "light"
          },
          "paper_bgcolor": "white",
          "plot_bgcolor": "#E5ECF6",
          "polar": {
           "angularaxis": {
            "gridcolor": "white",
            "linecolor": "white",
            "ticks": ""
           },
           "bgcolor": "#E5ECF6",
           "radialaxis": {
            "gridcolor": "white",
            "linecolor": "white",
            "ticks": ""
           }
          },
          "scene": {
           "xaxis": {
            "backgroundcolor": "#E5ECF6",
            "gridcolor": "white",
            "gridwidth": 2,
            "linecolor": "white",
            "showbackground": true,
            "ticks": "",
            "zerolinecolor": "white"
           },
           "yaxis": {
            "backgroundcolor": "#E5ECF6",
            "gridcolor": "white",
            "gridwidth": 2,
            "linecolor": "white",
            "showbackground": true,
            "ticks": "",
            "zerolinecolor": "white"
           },
           "zaxis": {
            "backgroundcolor": "#E5ECF6",
            "gridcolor": "white",
            "gridwidth": 2,
            "linecolor": "white",
            "showbackground": true,
            "ticks": "",
            "zerolinecolor": "white"
           }
          },
          "shapedefaults": {
           "line": {
            "color": "#2a3f5f"
           }
          },
          "ternary": {
           "aaxis": {
            "gridcolor": "white",
            "linecolor": "white",
            "ticks": ""
           },
           "baxis": {
            "gridcolor": "white",
            "linecolor": "white",
            "ticks": ""
           },
           "bgcolor": "#E5ECF6",
           "caxis": {
            "gridcolor": "white",
            "linecolor": "white",
            "ticks": ""
           }
          },
          "title": {
           "x": 0.05
          },
          "xaxis": {
           "automargin": true,
           "gridcolor": "white",
           "linecolor": "white",
           "ticks": "",
           "title": {
            "standoff": 15
           },
           "zerolinecolor": "white",
           "zerolinewidth": 2
          },
          "yaxis": {
           "automargin": true,
           "gridcolor": "white",
           "linecolor": "white",
           "ticks": "",
           "title": {
            "standoff": 15
           },
           "zerolinecolor": "white",
           "zerolinewidth": 2
          }
         }
        },
        "title": {
         "text": "Rolling mean trend, window = month"
        },
        "xaxis": {
         "anchor": "y",
         "domain": [
          0,
          1
         ],
         "title": {
          "text": "data"
         }
        },
        "yaxis": {
         "anchor": "x",
         "domain": [
          0,
          1
         ],
         "title": {
          "text": "_value"
         }
        }
       }
      },
      "text/html": [
       "<div>\n",
       "        \n",
       "        \n",
       "            <div id=\"57f19ab4-1f7f-430f-ae34-bc300a1b415e\" class=\"plotly-graph-div\" style=\"height:525px; width:100%;\"></div>\n",
       "            <script type=\"text/javascript\">\n",
       "                require([\"plotly\"], function(Plotly) {\n",
       "                    window.PLOTLYENV=window.PLOTLYENV || {};\n",
       "                    \n",
       "                if (document.getElementById(\"57f19ab4-1f7f-430f-ae34-bc300a1b415e\")) {\n",
       "                    Plotly.newPlot(\n",
       "                        '57f19ab4-1f7f-430f-ae34-bc300a1b415e',\n",
       "                        [{\"hovertemplate\": \"variable=value<br>data=%{x}<br>_value=%{y}<extra></extra>\", \"legendgroup\": \"value\", \"line\": {\"color\": \"#636efa\", \"dash\": \"solid\"}, \"mode\": \"lines\", \"name\": \"value\", \"orientation\": \"v\", \"showlegend\": true, \"type\": \"scatter\", \"x\": [\"05.02.2019\", \"06.02.2019\", \"08.02.2019\", \"10.02.2019\", \"12.02.2019\", \"13.02.2019\", \"15.02.2019\", \"16.02.2019\", \"18.02.2019\", \"19.02.2019\", \"20.02.2019\", \"21.02.2019\", \"22.02.2019\", \"23.02.2019\", \"25.02.2019\", \"26.02.2019\", \"28.02.2019\", \"02.03.2019\", \"03.03.2019\", \"04.03.2019\", \"05.03.2019\", \"06.03.2019\", \"07.03.2019\", \"08.03.2019\", \"10.03.2019\", \"12.03.2019\", \"13.03.2019\", \"14.03.2019\", \"15.03.2019\", \"16.03.2019\", \"17.03.2019\", \"18.03.2019\", \"19.03.2019\", \"20.03.2019\", \"21.03.2019\", \"22.03.2019\", \"23.03.2019\", \"24.03.2019\", \"25.03.2019\", \"26.03.2019\", \"27.03.2019\", \"28.03.2019\", \"29.03.2019\", \"30.03.2019\", \"31.03.2019\", \"01.04.2019\", \"02.04.2019\", \"03.04.2019\", \"04.04.2019\", \"05.04.2019\", \"06.04.2019\", \"07.04.2019\", \"08.04.2019\", \"09.04.2019\", \"10.04.2019\", \"11.04.2019\", \"12.04.2019\", \"13.04.2019\", \"14.04.2019\", \"15.04.2019\", \"16.04.2019\", \"17.04.2019\", \"18.04.2019\", \"19.04.2019\", \"20.04.2019\", \"21.04.2019\", \"22.04.2019\", \"23.04.2019\", \"24.04.2019\", \"25.04.2019\", \"26.04.2019\", \"27.04.2019\", \"28.04.2019\", \"29.04.2019\", \"30.04.2019\", \"01.05.2019\", \"02.05.2019\", \"03.05.2019\", \"04.05.2019\", \"05.05.2019\", \"06.05.2019\", \"07.05.2019\", \"08.05.2019\", \"09.05.2019\", \"10.05.2019\", \"11.05.2019\", \"12.05.2019\", \"13.05.2019\", \"14.05.2019\", \"15.05.2019\", \"16.05.2019\", \"17.05.2019\", \"18.05.2019\", \"19.05.2019\", \"20.05.2019\", \"21.05.2019\", \"22.05.2019\", \"23.05.2019\", \"24.05.2019\", \"25.05.2019\", \"26.05.2019\", \"27.05.2019\", \"28.05.2019\", \"29.05.2019\", \"30.05.2019\", \"31.05.2019\", \"01.06.2019\", \"02.06.2019\", \"03.06.2019\"], \"xaxis\": \"x\", \"y\": [-0.05666666666666664, -0.12766666666666668, -0.09166666666666666, -0.02933333333333336, -0.07100000000000009, -0.025333333333333326, -0.022000000000000006, -0.06733333333333338, -0.008999999999999985, -0.005000000000000012, -0.07233333333333333, -0.026000000000000037, -0.026000000000000037, 0.013999999999999997, 0.26866666666666666, 0.23633333333333334, 0.2046666666666667, 0.16599999999999995, 0.169, -0.07466666666666667, -0.06033333333333335, -0.03099999999999999, -0.03666666666666665, -0.03566666666666662, -0.043333333333333356, 0.0009999999999999788, -0.0043333333333333, 0.0013333333333333049, -0.0019999999999999575, 0.041666666666666664, -0.011000000000000003, 0.025333333333333385, 0.01799999999999997, -0.04233333333333332, -0.09699999999999995, -0.12366666666666663, -0.15866666666666665, -0.09900000000000002, -0.11766666666666664, -0.04700000000000001, 0.009999999999999964, 0.018666666666666623, 0.010666666666666677, -0.007333333333333295, 0.02166666666666662, -0.0016666666666666904, 0.02300000000000004, 0.04100000000000007, 0.0206666666666667, 0.30000000000000004, 0.2286666666666667, 0.21599999999999994, 0.153, 0.16133333333333333, -0.06599999999999996, -0.10633333333333332, -0.059666666666666694, -0.04966666666666667, -0.04066666666666669, -0.0873333333333333, -0.007000000000000029, -0.03333333333333333, -0.025999999999999978, -0.012666666666666633, 0.0543333333333333, 0.07666666666666663, 0.09000000000000004, 0.05899999999999998, 0.07699999999999996, -0.103, -0.06466666666666665, -0.15999999999999998, -0.10199999999999995, -0.08533333333333334, -0.06266666666666663, -0.02400000000000002, -0.003333333333333381, -0.026000000000000037, -0.026000000000000037, -0.0206666666666667, -0.01900000000000001, -0.022666666666666658, 0.03433333333333337, 0.02333333333333337, 0.28633333333333333, 0.24100000000000002, 0.22133333333333335, 0.15200000000000002, 0.1523333333333333, -0.05433333333333336, -0.1, -0.054000000000000034, -0.045999999999999965, -0.04933333333333335, -0.04799999999999998, -0.01733333333333332, -0.02300000000000004, -0.008999999999999985, -0.022999999999999982, 0.041000000000000016, 0.014333333333333325, 0.069, 0.03599999999999994, 0.020666666666666642, -0.0986666666666667, -0.06633333333333329, -0.15566666666666668, -0.08500000000000002, -0.06266666666666669], \"yaxis\": \"y\"}],\n",
       "                        {\"legend\": {\"title\": {\"text\": \"variable\"}, \"tracegroupgap\": 0}, \"template\": {\"data\": {\"bar\": [{\"error_x\": {\"color\": \"#2a3f5f\"}, \"error_y\": {\"color\": \"#2a3f5f\"}, \"marker\": {\"line\": {\"color\": \"#E5ECF6\", \"width\": 0.5}}, \"type\": \"bar\"}], \"barpolar\": [{\"marker\": {\"line\": {\"color\": \"#E5ECF6\", \"width\": 0.5}}, \"type\": \"barpolar\"}], \"carpet\": [{\"aaxis\": {\"endlinecolor\": \"#2a3f5f\", \"gridcolor\": \"white\", \"linecolor\": \"white\", \"minorgridcolor\": \"white\", \"startlinecolor\": \"#2a3f5f\"}, \"baxis\": {\"endlinecolor\": \"#2a3f5f\", \"gridcolor\": \"white\", \"linecolor\": \"white\", \"minorgridcolor\": \"white\", \"startlinecolor\": \"#2a3f5f\"}, \"type\": \"carpet\"}], \"choropleth\": [{\"colorbar\": {\"outlinewidth\": 0, \"ticks\": \"\"}, \"type\": \"choropleth\"}], \"contour\": [{\"colorbar\": {\"outlinewidth\": 0, \"ticks\": \"\"}, \"colorscale\": [[0.0, \"#0d0887\"], [0.1111111111111111, \"#46039f\"], [0.2222222222222222, \"#7201a8\"], [0.3333333333333333, \"#9c179e\"], [0.4444444444444444, \"#bd3786\"], [0.5555555555555556, \"#d8576b\"], [0.6666666666666666, \"#ed7953\"], [0.7777777777777778, \"#fb9f3a\"], [0.8888888888888888, \"#fdca26\"], [1.0, \"#f0f921\"]], \"type\": \"contour\"}], \"contourcarpet\": [{\"colorbar\": {\"outlinewidth\": 0, \"ticks\": \"\"}, \"type\": \"contourcarpet\"}], \"heatmap\": [{\"colorbar\": {\"outlinewidth\": 0, \"ticks\": \"\"}, \"colorscale\": [[0.0, \"#0d0887\"], [0.1111111111111111, \"#46039f\"], [0.2222222222222222, \"#7201a8\"], [0.3333333333333333, \"#9c179e\"], [0.4444444444444444, \"#bd3786\"], [0.5555555555555556, \"#d8576b\"], [0.6666666666666666, \"#ed7953\"], [0.7777777777777778, \"#fb9f3a\"], [0.8888888888888888, \"#fdca26\"], [1.0, \"#f0f921\"]], \"type\": \"heatmap\"}], \"heatmapgl\": [{\"colorbar\": {\"outlinewidth\": 0, \"ticks\": \"\"}, \"colorscale\": [[0.0, \"#0d0887\"], [0.1111111111111111, \"#46039f\"], [0.2222222222222222, \"#7201a8\"], [0.3333333333333333, \"#9c179e\"], [0.4444444444444444, \"#bd3786\"], [0.5555555555555556, \"#d8576b\"], [0.6666666666666666, \"#ed7953\"], [0.7777777777777778, \"#fb9f3a\"], [0.8888888888888888, \"#fdca26\"], [1.0, \"#f0f921\"]], \"type\": \"heatmapgl\"}], \"histogram\": [{\"marker\": {\"colorbar\": {\"outlinewidth\": 0, \"ticks\": \"\"}}, \"type\": \"histogram\"}], \"histogram2d\": [{\"colorbar\": {\"outlinewidth\": 0, \"ticks\": \"\"}, \"colorscale\": [[0.0, \"#0d0887\"], [0.1111111111111111, \"#46039f\"], [0.2222222222222222, \"#7201a8\"], [0.3333333333333333, \"#9c179e\"], [0.4444444444444444, \"#bd3786\"], [0.5555555555555556, \"#d8576b\"], [0.6666666666666666, \"#ed7953\"], [0.7777777777777778, \"#fb9f3a\"], [0.8888888888888888, \"#fdca26\"], [1.0, \"#f0f921\"]], \"type\": \"histogram2d\"}], \"histogram2dcontour\": [{\"colorbar\": {\"outlinewidth\": 0, \"ticks\": \"\"}, \"colorscale\": [[0.0, \"#0d0887\"], [0.1111111111111111, \"#46039f\"], [0.2222222222222222, \"#7201a8\"], [0.3333333333333333, \"#9c179e\"], [0.4444444444444444, \"#bd3786\"], [0.5555555555555556, \"#d8576b\"], [0.6666666666666666, \"#ed7953\"], [0.7777777777777778, \"#fb9f3a\"], [0.8888888888888888, \"#fdca26\"], [1.0, \"#f0f921\"]], \"type\": \"histogram2dcontour\"}], \"mesh3d\": [{\"colorbar\": {\"outlinewidth\": 0, \"ticks\": \"\"}, \"type\": \"mesh3d\"}], \"parcoords\": [{\"line\": {\"colorbar\": {\"outlinewidth\": 0, \"ticks\": \"\"}}, \"type\": \"parcoords\"}], \"pie\": [{\"automargin\": true, \"type\": \"pie\"}], \"scatter\": [{\"marker\": {\"colorbar\": {\"outlinewidth\": 0, \"ticks\": \"\"}}, \"type\": \"scatter\"}], \"scatter3d\": [{\"line\": {\"colorbar\": {\"outlinewidth\": 0, \"ticks\": \"\"}}, \"marker\": {\"colorbar\": {\"outlinewidth\": 0, \"ticks\": \"\"}}, \"type\": \"scatter3d\"}], \"scattercarpet\": [{\"marker\": {\"colorbar\": {\"outlinewidth\": 0, \"ticks\": \"\"}}, \"type\": \"scattercarpet\"}], \"scattergeo\": [{\"marker\": {\"colorbar\": {\"outlinewidth\": 0, \"ticks\": \"\"}}, \"type\": \"scattergeo\"}], \"scattergl\": [{\"marker\": {\"colorbar\": {\"outlinewidth\": 0, \"ticks\": \"\"}}, \"type\": \"scattergl\"}], \"scattermapbox\": [{\"marker\": {\"colorbar\": {\"outlinewidth\": 0, \"ticks\": \"\"}}, \"type\": \"scattermapbox\"}], \"scatterpolar\": [{\"marker\": {\"colorbar\": {\"outlinewidth\": 0, \"ticks\": \"\"}}, \"type\": \"scatterpolar\"}], \"scatterpolargl\": [{\"marker\": {\"colorbar\": {\"outlinewidth\": 0, \"ticks\": \"\"}}, \"type\": \"scatterpolargl\"}], \"scatterternary\": [{\"marker\": {\"colorbar\": {\"outlinewidth\": 0, \"ticks\": \"\"}}, \"type\": \"scatterternary\"}], \"surface\": [{\"colorbar\": {\"outlinewidth\": 0, \"ticks\": \"\"}, \"colorscale\": [[0.0, \"#0d0887\"], [0.1111111111111111, \"#46039f\"], [0.2222222222222222, \"#7201a8\"], [0.3333333333333333, \"#9c179e\"], [0.4444444444444444, \"#bd3786\"], [0.5555555555555556, \"#d8576b\"], [0.6666666666666666, \"#ed7953\"], [0.7777777777777778, \"#fb9f3a\"], [0.8888888888888888, \"#fdca26\"], [1.0, \"#f0f921\"]], \"type\": \"surface\"}], \"table\": [{\"cells\": {\"fill\": {\"color\": \"#EBF0F8\"}, \"line\": {\"color\": \"white\"}}, \"header\": {\"fill\": {\"color\": \"#C8D4E3\"}, \"line\": {\"color\": \"white\"}}, \"type\": \"table\"}]}, \"layout\": {\"annotationdefaults\": {\"arrowcolor\": \"#2a3f5f\", \"arrowhead\": 0, \"arrowwidth\": 1}, \"coloraxis\": {\"colorbar\": {\"outlinewidth\": 0, \"ticks\": \"\"}}, \"colorscale\": {\"diverging\": [[0, \"#8e0152\"], [0.1, \"#c51b7d\"], [0.2, \"#de77ae\"], [0.3, \"#f1b6da\"], [0.4, \"#fde0ef\"], [0.5, \"#f7f7f7\"], [0.6, \"#e6f5d0\"], [0.7, \"#b8e186\"], [0.8, \"#7fbc41\"], [0.9, \"#4d9221\"], [1, \"#276419\"]], \"sequential\": [[0.0, \"#0d0887\"], [0.1111111111111111, \"#46039f\"], [0.2222222222222222, \"#7201a8\"], [0.3333333333333333, \"#9c179e\"], [0.4444444444444444, \"#bd3786\"], [0.5555555555555556, \"#d8576b\"], [0.6666666666666666, \"#ed7953\"], [0.7777777777777778, \"#fb9f3a\"], [0.8888888888888888, \"#fdca26\"], [1.0, \"#f0f921\"]], \"sequentialminus\": [[0.0, \"#0d0887\"], [0.1111111111111111, \"#46039f\"], [0.2222222222222222, \"#7201a8\"], [0.3333333333333333, \"#9c179e\"], [0.4444444444444444, \"#bd3786\"], [0.5555555555555556, \"#d8576b\"], [0.6666666666666666, \"#ed7953\"], [0.7777777777777778, \"#fb9f3a\"], [0.8888888888888888, \"#fdca26\"], [1.0, \"#f0f921\"]]}, \"colorway\": [\"#636efa\", \"#EF553B\", \"#00cc96\", \"#ab63fa\", \"#FFA15A\", \"#19d3f3\", \"#FF6692\", \"#B6E880\", \"#FF97FF\", \"#FECB52\"], \"font\": {\"color\": \"#2a3f5f\"}, \"geo\": {\"bgcolor\": \"white\", \"lakecolor\": \"white\", \"landcolor\": \"#E5ECF6\", \"showlakes\": true, \"showland\": true, \"subunitcolor\": \"white\"}, \"hoverlabel\": {\"align\": \"left\"}, \"hovermode\": \"closest\", \"mapbox\": {\"style\": \"light\"}, \"paper_bgcolor\": \"white\", \"plot_bgcolor\": \"#E5ECF6\", \"polar\": {\"angularaxis\": {\"gridcolor\": \"white\", \"linecolor\": \"white\", \"ticks\": \"\"}, \"bgcolor\": \"#E5ECF6\", \"radialaxis\": {\"gridcolor\": \"white\", \"linecolor\": \"white\", \"ticks\": \"\"}}, \"scene\": {\"xaxis\": {\"backgroundcolor\": \"#E5ECF6\", \"gridcolor\": \"white\", \"gridwidth\": 2, \"linecolor\": \"white\", \"showbackground\": true, \"ticks\": \"\", \"zerolinecolor\": \"white\"}, \"yaxis\": {\"backgroundcolor\": \"#E5ECF6\", \"gridcolor\": \"white\", \"gridwidth\": 2, \"linecolor\": \"white\", \"showbackground\": true, \"ticks\": \"\", \"zerolinecolor\": \"white\"}, \"zaxis\": {\"backgroundcolor\": \"#E5ECF6\", \"gridcolor\": \"white\", \"gridwidth\": 2, \"linecolor\": \"white\", \"showbackground\": true, \"ticks\": \"\", \"zerolinecolor\": \"white\"}}, \"shapedefaults\": {\"line\": {\"color\": \"#2a3f5f\"}}, \"ternary\": {\"aaxis\": {\"gridcolor\": \"white\", \"linecolor\": \"white\", \"ticks\": \"\"}, \"baxis\": {\"gridcolor\": \"white\", \"linecolor\": \"white\", \"ticks\": \"\"}, \"bgcolor\": \"#E5ECF6\", \"caxis\": {\"gridcolor\": \"white\", \"linecolor\": \"white\", \"ticks\": \"\"}}, \"title\": {\"x\": 0.05}, \"xaxis\": {\"automargin\": true, \"gridcolor\": \"white\", \"linecolor\": \"white\", \"ticks\": \"\", \"title\": {\"standoff\": 15}, \"zerolinecolor\": \"white\", \"zerolinewidth\": 2}, \"yaxis\": {\"automargin\": true, \"gridcolor\": \"white\", \"linecolor\": \"white\", \"ticks\": \"\", \"title\": {\"standoff\": 15}, \"zerolinecolor\": \"white\", \"zerolinewidth\": 2}}}, \"title\": {\"text\": \"Rolling mean trend, window = month\"}, \"xaxis\": {\"anchor\": \"y\", \"domain\": [0.0, 1.0], \"title\": {\"text\": \"data\"}}, \"yaxis\": {\"anchor\": \"x\", \"domain\": [0.0, 1.0], \"title\": {\"text\": \"_value\"}}},\n",
       "                        {\"responsive\": true}\n",
       "                    ).then(function(){\n",
       "                            \n",
       "var gd = document.getElementById('57f19ab4-1f7f-430f-ae34-bc300a1b415e');\n",
       "var x = new MutationObserver(function (mutations, observer) {{\n",
       "        var display = window.getComputedStyle(gd).display;\n",
       "        if (!display || display === 'none') {{\n",
       "            console.log([gd, 'removed!']);\n",
       "            Plotly.purge(gd);\n",
       "            observer.disconnect();\n",
       "        }}\n",
       "}});\n",
       "\n",
       "// Listen for the removal of the full notebook cells\n",
       "var notebookContainer = gd.closest('#notebook-container');\n",
       "if (notebookContainer) {{\n",
       "    x.observe(notebookContainer, {childList: true});\n",
       "}}\n",
       "\n",
       "// Listen for the clearing of the current output cell\n",
       "var outputEl = gd.closest('.output');\n",
       "if (outputEl) {{\n",
       "    x.observe(outputEl, {childList: true});\n",
       "}}\n",
       "\n",
       "                        })\n",
       "                };\n",
       "                });\n",
       "            </script>\n",
       "        </div>"
      ]
     },
     "metadata": {},
     "output_type": "display_data"
    }
   ],
   "source": [
    "# Построим изменения скользящего среднего\n",
    "\n",
    "diff_data = data.diff(periods=1).dropna()\n",
    "px.line(diff_data.rolling(window=30).mean()[30:], title='Rolling mean trend, window = month')"
   ]
  },
  {
   "cell_type": "markdown",
   "metadata": {},
   "source": [
    "#### После диффиренцирования на графике скользящего среднего заметно отсутствие тренда"
   ]
  },
  {
   "cell_type": "code",
   "execution_count": 26,
   "metadata": {},
   "outputs": [],
   "source": [
    "#Запишем функцию для высичления Критерия Дики-Фуллера, КПСС и построения графиков автокорреляции и частичной автокорреляции\n",
    "\n",
    "def stationarity(data, lags=25):\n",
    "    warnings.filterwarnings('ignore')\n",
    "    print('Dickey-Fuller p-val = {}'.format(sm.tsa.stattools.adfuller(diff_data)[1]))\n",
    "    print('KPSS p-val = {}'.format(sm.tsa.stattools.kpss(diff_data)[1]))\n",
    "    plot_acf(data, lags=lags)\n",
    "    plot_pacf(data, lags=lags)\n",
    "    plt.show()"
   ]
  },
  {
   "cell_type": "code",
   "execution_count": 12,
   "metadata": {},
   "outputs": [],
   "source": [
    "#Делаем сезонное дифференциирование\n",
    "\n",
    "diff_data = diff_data.diff(periods=35).dropna()"
   ]
  },
  {
   "cell_type": "code",
   "execution_count": 13,
   "metadata": {},
   "outputs": [
    {
     "name": "stdout",
     "output_type": "stream",
     "text": [
      "Dickey-Fuller p-val = 8.317201697951678e-07\n",
      "KPSS p-val = 0.1\n"
     ]
    },
    {
     "data": {
      "image/png": "[encoded data removed]",
      "text/plain": [
       "<Figure size 432x288 with 1 Axes>"
      ]
     },
     "metadata": {
      "needs_background": "light"
     },
     "output_type": "display_data"
    },
    {
     "data": {
      "image/png": "[encoded data removed]",
      "text/plain": [
       "<Figure size 432x288 with 1 Axes>"
      ]
     },
     "metadata": {
      "needs_background": "light"
     },
     "output_type": "display_data"
    }
   ],
   "source": [
    "stationarity(diff_data, lags=35)"
   ]
  },
  {
   "cell_type": "code",
   "execution_count": 27,
   "metadata": {},
   "outputs": [],
   "source": [
    "# Устанавливаем параметры SARIMA\n",
    "d = 1 \n",
    "D = 1\n",
    "qs = range(0, 2)\n",
    "Qs = range(0, 2)\n",
    "ps = range(20, 25)\n",
    "Ps = range(0, 2)"
   ]
  },
  {
   "cell_type": "code",
   "execution_count": 18,
   "metadata": {},
   "outputs": [],
   "source": [
    "from itertools import product\n",
    "\n",
    "parameters = product(ps, qs, Ps, Qs)\n",
    "parameters_list = list(parameters)"
   ]
  },
  {
   "cell_type": "code",
   "execution_count": 19,
   "metadata": {},
   "outputs": [
    {
     "name": "stderr",
     "output_type": "stream",
     "text": [
      "100%|███████████████████████████████████████████████████████████████████████████████| 40/40 [2:38:57<00:00, 238.43s/it]"
     ]
    },
    {
     "name": "stdout",
     "output_type": "stream",
     "text": [
      "       parameters         aic\n",
      "7   (20, 1, 1, 1)  182.421735\n",
      "39  (24, 1, 1, 1)  183.138455\n",
      "23  (22, 1, 1, 1)  183.446260\n",
      "19  (22, 0, 1, 1)  183.726446\n",
      "15  (21, 1, 1, 1)  184.151199\n",
      "Wall time: 2h 38min 57s\n"
     ]
    },
    {
     "name": "stderr",
     "output_type": "stream",
     "text": [
      "\n"
     ]
    }
   ],
   "source": [
    "#ищем оптимальные параметры для SARIMA-модели, используя информационный критерий\n",
    "\n",
    "%%time\n",
    "results = []\n",
    "best_aic = float(\"inf\")\n",
    "\n",
    "for param in tqdm(parameters_list):\n",
    "    try:\n",
    "        model=SARIMAX(data.value, order=(param[0], d, param[1]), \n",
    "                                        seasonal_order=(param[2], D, param[3], 35)).fit(disp=-1)\n",
    "    except ValueError:\n",
    "        print('wrong parameters:', param)\n",
    "        continue\n",
    "    aic = model.aic\n",
    "    \n",
    "    if aic < best_aic:\n",
    "        best_model = model\n",
    "        best_aic = aic\n",
    "        best_param = param\n",
    "    results.append([param, model.aic])\n",
    "\n",
    "warnings.filterwarnings('default')\n",
    "\n",
    "result_table = pd.DataFrame(results)\n",
    "result_table.columns = ['parameters', 'aic']\n",
    "print(result_table.sort_values(by = 'aic', ascending=True).head())"
   ]
  },
  {
   "cell_type": "code",
   "execution_count": 20,
   "metadata": {},
   "outputs": [
    {
     "name": "stderr",
     "output_type": "stream",
     "text": [
      "c:\\users\\miair\\appdata\\local\\programs\\python\\python38-32\\lib\\site-packages\\statsmodels\\tsa\\base\\tsa_model.py:216: ValueWarning:\n",
      "\n",
      "A date index has been provided, but it has no associated frequency information and so will be ignored when e.g. forecasting.\n",
      "\n",
      "c:\\users\\miair\\appdata\\local\\programs\\python\\python38-32\\lib\\site-packages\\statsmodels\\tsa\\base\\tsa_model.py:220: ValueWarning:\n",
      "\n",
      "A date index has been provided, but it is not monotonic and so will be ignored when e.g. forecasting.\n",
      "\n",
      "c:\\users\\miair\\appdata\\local\\programs\\python\\python38-32\\lib\\site-packages\\statsmodels\\base\\model.py:567: ConvergenceWarning:\n",
      "\n",
      "Maximum Likelihood optimization failed to converge. Check mle_retvals\n",
      "\n"
     ]
    },
    {
     "name": "stdout",
     "output_type": "stream",
     "text": [
      "                                      SARIMAX Results                                      \n",
      "===========================================================================================\n",
      "Dep. Variable:                               value   No. Observations:                  140\n",
      "Model:             SARIMAX(20, 1, 1)x(1, 1, 1, 24)   Log Likelihood                -216.711\n",
      "Date:                             Sun, 09 Aug 2020   AIC                            481.422\n",
      "Time:                                     19:14:30   BIC                            547.300\n",
      "Sample:                                          0   HQIC                           508.161\n",
      "                                             - 140                                         \n",
      "Covariance Type:                               opg                                         \n",
      "==============================================================================\n",
      "                 coef    std err          z      P>|z|      [0.025      0.975]\n",
      "------------------------------------------------------------------------------\n",
      "ar.L1          0.6344      0.182      3.491      0.000       0.278       0.991\n",
      "ar.L2          0.0561      0.156      0.359      0.720      -0.250       0.363\n",
      "ar.L3          0.0034      0.179      0.019      0.985      -0.347       0.354\n",
      "ar.L4         -0.0320      0.172     -0.186      0.853      -0.369       0.305\n",
      "ar.L5          0.0608      0.212      0.286      0.775      -0.355       0.477\n",
      "ar.L6         -0.1367      0.207     -0.661      0.509      -0.542       0.269\n",
      "ar.L7          0.0487      0.219      0.222      0.824      -0.380       0.477\n",
      "ar.L8         -0.0882      0.199     -0.445      0.657      -0.477       0.301\n",
      "ar.L9          0.0372      0.169      0.220      0.825      -0.294       0.368\n",
      "ar.L10        -0.1095      0.186     -0.588      0.556      -0.475       0.256\n",
      "ar.L11        -0.1750      0.168     -1.042      0.297      -0.504       0.154\n",
      "ar.L12         0.2193      0.145      1.514      0.130      -0.065       0.503\n",
      "ar.L13        -0.3887      0.168     -2.317      0.021      -0.718      -0.060\n",
      "ar.L14         0.1785      0.256      0.697      0.486      -0.323       0.680\n",
      "ar.L15         0.0663      0.218      0.303      0.762      -0.362       0.495\n",
      "ar.L16        -0.0331      0.169     -0.196      0.845      -0.364       0.298\n",
      "ar.L17         0.0137      0.209      0.066      0.948      -0.396       0.424\n",
      "ar.L18         0.1412      0.238      0.594      0.552      -0.324       0.607\n",
      "ar.L19        -0.2481      0.212     -1.170      0.242      -0.664       0.167\n",
      "ar.L20        -0.1728      0.165     -1.045      0.296      -0.497       0.151\n",
      "ma.L1         -0.8966      0.164     -5.452      0.000      -1.219      -0.574\n",
      "ar.S.L24      -0.0253      0.286     -0.088      0.929      -0.586       0.536\n",
      "ma.S.L24      -0.9994    195.906     -0.005      0.996    -384.968     382.969\n",
      "sigma2         1.6087    314.763      0.005      0.996    -615.316     618.533\n",
      "===================================================================================\n",
      "Ljung-Box (Q):                       66.63   Jarque-Bera (JB):               210.72\n",
      "Prob(Q):                              0.01   Prob(JB):                         0.00\n",
      "Heteroskedasticity (H):               0.91   Skew:                            -1.03\n",
      "Prob(H) (two-sided):                  0.77   Kurtosis:                         9.30\n",
      "===================================================================================\n",
      "\n",
      "Warnings:\n",
      "[1] Covariance matrix calculated using the outer product of gradients (complex-step).\n",
      "Wall time: 1min 31s\n"
     ]
    }
   ],
   "source": [
    "# обучаем модель с лучшими выбранными параметрами\n",
    "\n",
    "%%time\n",
    "best_model = SARIMAX(data.value, order=(best_param[0], d, best_param[1]), \n",
    "                                        seasonal_order=(best_param[2], D, best_param[3], 24)).fit()\n",
    "print(best_model.summary())"
   ]
  },
  {
   "cell_type": "code",
   "execution_count": 21,
   "metadata": {},
   "outputs": [],
   "source": [
    "# в данной функции реалитзуем построение графиков автокрорреляции, частичной автокорреляции и остатков \n",
    "\n",
    "warnings.filterwarnings('ignore')\n",
    "\n",
    "def tsplot(y, lags=None, figsize=(12, 7), style='bmh'):\n",
    "    if not isinstance(y, pd.Series):\n",
    "        y = pd.Series(y)\n",
    "    with plt.style.context(style):    \n",
    "        fig = plt.figure(figsize=figsize)\n",
    "        layout = (2, 2)\n",
    "        ts_ax = plt.subplot2grid(layout, (0, 0), colspan=2)\n",
    "        acf_ax = plt.subplot2grid(layout, (1, 0))\n",
    "        pacf_ax = plt.subplot2grid(layout, (1, 1))\n",
    "        \n",
    "\n",
    "        y.plot(ax=ts_ax)\n",
    "        ts_ax.set_title('Time Series Analysis Plots')\n",
    "        smt.graphics.plot_acf(y, lags=lags, ax=acf_ax, alpha=0.5)\n",
    "        smt.graphics.plot_pacf(y, lags=lags, ax=pacf_ax, alpha=0.5)\n",
    "\n",
    "        print(\"Критерий Дики-Фуллера: p=%f\" % sm.tsa.stattools.adfuller(y)[1])\n",
    "\n",
    "\n",
    "        plt.tight_layout()\n",
    "    return "
   ]
  },
  {
   "cell_type": "code",
   "execution_count": 22,
   "metadata": {},
   "outputs": [
    {
     "name": "stdout",
     "output_type": "stream",
     "text": [
      "Критерий Дики-Фуллера: p=0.000000\n"
     ]
    },
    {
     "data": {
      "image/png": "[encoded data removed]",
      "text/plain": [
       "<Figure size 864x504 with 3 Axes>"
      ]
     },
     "metadata": {
      "needs_background": "light"
     },
     "output_type": "display_data"
    }
   ],
   "source": [
    "tsplot(best_model.resid[25:], lags=30)"
   ]
  },
  {
   "cell_type": "code",
   "execution_count": 23,
   "metadata": {},
   "outputs": [],
   "source": [
    "data2 = data.copy()\n",
    "data2[\"sarima_model\"] = best_model.fittedvalues"
   ]
  },
  {
   "cell_type": "code",
   "execution_count": 24,
   "metadata": {},
   "outputs": [
    {
     "data": {
      "application/vnd.plotly.v1+json": {
       "config": {
        "plotlyServerURL": "https://plot.ly"
       },
       "data": [
        {
         "hovertemplate": "variable=value<br>data=%{x}<br>_value=%{y}<extra></extra>",
         "legendgroup": "value",
         "line": {
          "color": "#636efa",
          "dash": "solid"
         },
         "mode": "lines",
         "name": "value",
         "orientation": "v",
         "showlegend": true,
         "type": "scatter",
         "x": [
          "01.01.2019",
          "02.01.2019",
          "03.01.2019",
          "05.01.2019",
          "06.01.2019",
          "07.01.2019",
          "08.01.2019",
          "09.01.2019",
          "10.01.2019",
          "11.01.2019",
          "12.01.2019",
          "13.01.2019",
          "14.01.2019",
          "17.01.2019",
          "18.01.2019",
          "19.01.2019",
          "20.01.2019",
          "21.01.2019",
          "22.01.2019",
          "23.01.2019",
          "25.01.2019",
          "26.01.2019",
          "27.01.2019",
          "28.01.2019",
          "29.01.2019",
          "30.01.2019",
          "31.01.2019",
          "01.02.2019",
          "02.02.2019",
          "03.02.2019",
          "04.02.2019",
          "05.02.2019",
          "06.02.2019",
          "08.02.2019",
          "10.02.2019",
          "12.02.2019",
          "13.02.2019",
          "15.02.2019",
          "16.02.2019",
          "18.02.2019",
          "19.02.2019",
          "20.02.2019",
          "21.02.2019",
          "22.02.2019",
          "23.02.2019",
          "25.02.2019",
          "26.02.2019",
          "28.02.2019",
          "02.03.2019",
          "03.03.2019",
          "04.03.2019",
          "05.03.2019",
          "06.03.2019",
          "07.03.2019",
          "08.03.2019",
          "10.03.2019",
          "12.03.2019",
          "13.03.2019",
          "14.03.2019",
          "15.03.2019",
          "16.03.2019",
          "17.03.2019",
          "18.03.2019",
          "19.03.2019",
          "20.03.2019",
          "21.03.2019",
          "22.03.2019",
          "23.03.2019",
          "24.03.2019",
          "25.03.2019",
          "26.03.2019",
          "27.03.2019",
          "28.03.2019",
          "29.03.2019",
          "30.03.2019",
          "31.03.2019",
          "01.04.2019",
          "02.04.2019",
          "03.04.2019",
          "04.04.2019",
          "05.04.2019",
          "06.04.2019",
          "07.04.2019",
          "08.04.2019",
          "09.04.2019",
          "10.04.2019",
          "11.04.2019",
          "12.04.2019",
          "13.04.2019",
          "14.04.2019",
          "15.04.2019",
          "16.04.2019",
          "17.04.2019",
          "18.04.2019",
          "19.04.2019",
          "20.04.2019",
          "21.04.2019",
          "22.04.2019",
          "23.04.2019",
          "24.04.2019",
          "25.04.2019",
          "26.04.2019",
          "27.04.2019",
          "28.04.2019",
          "29.04.2019",
          "30.04.2019",
          "01.05.2019",
          "02.05.2019",
          "03.05.2019",
          "04.05.2019",
          "05.05.2019",
          "06.05.2019",
          "07.05.2019",
          "08.05.2019",
          "09.05.2019",
          "10.05.2019",
          "11.05.2019",
          "12.05.2019",
          "13.05.2019",
          "14.05.2019",
          "15.05.2019",
          "16.05.2019",
          "17.05.2019",
          "18.05.2019",
          "19.05.2019",
          "20.05.2019",
          "21.05.2019",
          "22.05.2019",
          "23.05.2019",
          "24.05.2019",
          "25.05.2019",
          "26.05.2019",
          "27.05.2019",
          "28.05.2019",
          "29.05.2019",
          "30.05.2019",
          "31.05.2019",
          "01.06.2019",
          "02.06.2019",
          "03.06.2019"
         ],
         "xaxis": "x",
         "y": [
          14.77,
          14.83,
          16.2,
          15.5,
          15.16,
          16.17,
          15.43,
          16.18,
          16.51,
          15.01,
          16.14,
          16.64,
          16.71,
          15.98,
          15.69,
          8.13,
          8.8,
          9.95,
          9.8,
          10.57,
          10.36,
          11.34,
          11.65,
          12.08,
          12.2,
          11.83,
          12.32,
          12.37,
          12.4,
          13.02,
          11.84,
          13.13,
          12.37,
          12.75,
          14.28,
          14.04,
          14.67,
          15.52,
          14.49,
          14.74,
          15.99,
          14.47,
          15.93,
          15.2,
          16.11,
          16.19,
          15.89,
          16.09,
          14.78,
          15.64,
          8.12,
          9.53,
          10.72,
          10.98,
          11.13,
          10.53,
          12.35,
          12.24,
          12.44,
          12.96,
          13.09,
          12.8,
          13.13,
          13.29,
          13.01,
          11.13,
          10.96,
          10.76,
          11.52,
          11.21,
          14.58,
          14.77,
          16.49,
          15.52,
          15.89,
          16.84,
          15.84,
          16.78,
          16.01,
          16.26,
          17.12,
          16.39,
          17.2,
          15.57,
          15.97,
          8.55,
          9.16,
          10.45,
          10.95,
          11.74,
          10.47,
          12.59,
          12.13,
          12.51,
          12.63,
          12.76,
          13.26,
          13.46,
          13.29,
          13.52,
          11.49,
          12.83,
          11.69,
          12.46,
          13.33,
          14.96,
          15.12,
          16.68,
          15.23,
          15.48,
          16.5,
          15.82,
          16.52,
          16.6,
          16.67,
          17.14,
          16.39,
          17.09,
          15.51,
          16.31,
          8.84,
          9.59,
          10.51,
          11.13,
          11.15,
          11.32,
          12.74,
          12.77,
          13.02,
          12.83,
          12.72,
          13.26,
          13.76,
          13.54,
          13.95,
          12,
          13.13,
          12.01,
          12.68,
          13.6
         ],
         "yaxis": "y"
        },
        {
         "hovertemplate": "variable=sarima_model<br>data=%{x}<br>_value=%{y}<extra></extra>",
         "legendgroup": "sarima_model",
         "line": {
          "color": "#EF553B",
          "dash": "solid"
         },
         "mode": "lines",
         "name": "sarima_model",
         "orientation": "v",
         "showlegend": true,
         "type": "scatter",
         "x": [
          "01.01.2019",
          "02.01.2019",
          "03.01.2019",
          "05.01.2019",
          "06.01.2019",
          "07.01.2019",
          "08.01.2019",
          "09.01.2019",
          "10.01.2019",
          "11.01.2019",
          "12.01.2019",
          "13.01.2019",
          "14.01.2019",
          "17.01.2019",
          "18.01.2019",
          "19.01.2019",
          "20.01.2019",
          "21.01.2019",
          "22.01.2019",
          "23.01.2019",
          "25.01.2019",
          "26.01.2019",
          "27.01.2019",
          "28.01.2019",
          "29.01.2019",
          "30.01.2019",
          "31.01.2019",
          "01.02.2019",
          "02.02.2019",
          "03.02.2019",
          "04.02.2019",
          "05.02.2019",
          "06.02.2019",
          "08.02.2019",
          "10.02.2019",
          "12.02.2019",
          "13.02.2019",
          "15.02.2019",
          "16.02.2019",
          "18.02.2019",
          "19.02.2019",
          "20.02.2019",
          "21.02.2019",
          "22.02.2019",
          "23.02.2019",
          "25.02.2019",
          "26.02.2019",
          "28.02.2019",
          "02.03.2019",
          "03.03.2019",
          "04.03.2019",
          "05.03.2019",
          "06.03.2019",
          "07.03.2019",
          "08.03.2019",
          "10.03.2019",
          "12.03.2019",
          "13.03.2019",
          "14.03.2019",
          "15.03.2019",
          "16.03.2019",
          "17.03.2019",
          "18.03.2019",
          "19.03.2019",
          "20.03.2019",
          "21.03.2019",
          "22.03.2019",
          "23.03.2019",
          "24.03.2019",
          "25.03.2019",
          "26.03.2019",
          "27.03.2019",
          "28.03.2019",
          "29.03.2019",
          "30.03.2019",
          "31.03.2019",
          "01.04.2019",
          "02.04.2019",
          "03.04.2019",
          "04.04.2019",
          "05.04.2019",
          "06.04.2019",
          "07.04.2019",
          "08.04.2019",
          "09.04.2019",
          "10.04.2019",
          "11.04.2019",
          "12.04.2019",
          "13.04.2019",
          "14.04.2019",
          "15.04.2019",
          "16.04.2019",
          "17.04.2019",
          "18.04.2019",
          "19.04.2019",
          "20.04.2019",
          "21.04.2019",
          "22.04.2019",
          "23.04.2019",
          "24.04.2019",
          "25.04.2019",
          "26.04.2019",
          "27.04.2019",
          "28.04.2019",
          "29.04.2019",
          "30.04.2019",
          "01.05.2019",
          "02.05.2019",
          "03.05.2019",
          "04.05.2019",
          "05.05.2019",
          "06.05.2019",
          "07.05.2019",
          "08.05.2019",
          "09.05.2019",
          "10.05.2019",
          "11.05.2019",
          "12.05.2019",
          "13.05.2019",
          "14.05.2019",
          "15.05.2019",
          "16.05.2019",
          "17.05.2019",
          "18.05.2019",
          "19.05.2019",
          "20.05.2019",
          "21.05.2019",
          "22.05.2019",
          "23.05.2019",
          "24.05.2019",
          "25.05.2019",
          "26.05.2019",
          "27.05.2019",
          "28.05.2019",
          "29.05.2019",
          "30.05.2019",
          "31.05.2019",
          "01.06.2019",
          "02.06.2019",
          "03.06.2019"
         ],
         "xaxis": "x",
         "y": [
          0,
          14.769997987022368,
          14.830001040813638,
          16.200000946688597,
          15.500002135497425,
          15.160002511753396,
          16.16999270693475,
          15.430001461158184,
          16.179994262827144,
          16.509999565200268,
          15.009996447589423,
          16.139995569299792,
          16.640002048679943,
          16.709990468929096,
          15.980003467448903,
          15.690000098799457,
          8.130002471027746,
          8.800000433392198,
          9.950001282635583,
          9.799999682363582,
          10.56999040035882,
          10.3600047941789,
          11.339996829006695,
          11.650004194138956,
          19.465003769001637,
          12.260006612361522,
          13.225047067639434,
          11.6581181902993,
          11.942760163968982,
          13.346211122766203,
          12.264594311517213,
          12.703336269829144,
          13.646485882932177,
          10.807317877955754,
          13.771195362938007,
          14.772413157480615,
          14.330846023342897,
          13.86611028565799,
          15.442190911842246,
          6.785275899533729,
          14.83194134801563,
          17.01130879892721,
          14.658538073170847,
          16.635344516458964,
          15.319054270643187,
          15.87161529562257,
          15.39732466371243,
          15.475482537347343,
          15.303125831246449,
          14.168274600261075,
          13.873083994407551,
          9.624090516966142,
          7.903382257889503,
          10.00129863186345,
          11.08002573497548,
          10.932133170707175,
          11.88887860111419,
          12.108061359678466,
          13.238208826069116,
          11.33789144329089,
          12.876852703131203,
          14.695934658486902,
          11.315876802433932,
          11.805398225765558,
          13.656694834015227,
          12.286624993987322,
          12.829133238192044,
          11.34060366562727,
          11.590329260483207,
          12.588113805022328,
          13.232261847564011,
          16.06195506159548,
          15.178542618486869,
          16.11482680950243,
          13.56814567306508,
          16.34038866920674,
          14.895449188892016,
          16.488618117421048,
          15.843407218757005,
          16.536465591371474,
          16.491822860168135,
          15.883220775465805,
          16.1144031457356,
          14.21321167291985,
          15.11569770849055,
          14.127368357281126,
          10.232341849733194,
          7.304126917522603,
          10.68649833715325,
          10.993629727251603,
          11.234691737867621,
          10.898001434531388,
          13.041108627775014,
          11.96659833981322,
          13.002403592281858,
          12.821026233804774,
          15.135828721402916,
          12.04650983295638,
          13.703060673617717,
          13.539444271890115,
          11.86344101334328,
          12.384174313664154,
          11.512861965223177,
          12.414718650831965,
          13.989422351882336,
          15.750478320135697,
          16.729026114820183,
          15.54778477225853,
          16.691410265440165,
          13.38659364782897,
          15.462905948330407,
          14.130264292508267,
          15.624482746874078,
          16.051415032311656,
          16.407206506305968,
          16.608613333463953,
          16.847585904420985,
          15.553425645543872,
          15.566003936651784,
          16.01837855074704,
          15.116946681916566,
          10.399083275640173,
          8.749852810813016,
          10.383754139777615,
          10.324507247498541,
          11.019227096509303,
          10.715011114956344,
          12.868870566946116,
          13.89146766826049,
          13.527053884948876,
          13.205652276684262,
          15.151706131187023,
          12.143943067601581,
          13.724176811262277,
          13.545653012966378,
          11.743571393954303,
          12.401155400965573,
          12.476202587420362,
          12.10597709421999,
          13.971939599551884
         ],
         "yaxis": "y"
        }
       ],
       "layout": {
        "legend": {
         "title": {
          "text": "variable"
         },
         "tracegroupgap": 0
        },
        "template": {
         "data": {
          "bar": [
           {
            "error_x": {
             "color": "#2a3f5f"
            },
            "error_y": {
             "color": "#2a3f5f"
            },
            "marker": {
             "line": {
              "color": "#E5ECF6",
              "width": 0.5
             }
            },
            "type": "bar"
           }
          ],
          "barpolar": [
           {
            "marker": {
             "line": {
              "color": "#E5ECF6",
              "width": 0.5
             }
            },
            "type": "barpolar"
           }
          ],
          "carpet": [
           {
            "aaxis": {
             "endlinecolor": "#2a3f5f",
             "gridcolor": "white",
             "linecolor": "white",
             "minorgridcolor": "white",
             "startlinecolor": "#2a3f5f"
            },
            "baxis": {
             "endlinecolor": "#2a3f5f",
             "gridcolor": "white",
             "linecolor": "white",
             "minorgridcolor": "white",
             "startlinecolor": "#2a3f5f"
            },
            "type": "carpet"
           }
          ],
          "choropleth": [
           {
            "colorbar": {
             "outlinewidth": 0,
             "ticks": ""
            },
            "type": "choropleth"
           }
          ],
          "contour": [
           {
            "colorbar": {
             "outlinewidth": 0,
             "ticks": ""
            },
            "colorscale": [
             [
              0,
              "#0d0887"
             ],
             [
              0.1111111111111111,
              "#46039f"
             ],
             [
              0.2222222222222222,
              "#7201a8"
             ],
             [
              0.3333333333333333,
              "#9c179e"
             ],
             [
              0.4444444444444444,
              "#bd3786"
             ],
             [
              0.5555555555555556,
              "#d8576b"
             ],
             [
              0.6666666666666666,
              "#ed7953"
             ],
             [
              0.7777777777777778,
              "#fb9f3a"
             ],
             [
              0.8888888888888888,
              "#fdca26"
             ],
             [
              1,
              "#f0f921"
             ]
            ],
            "type": "contour"
           }
          ],
          "contourcarpet": [
           {
            "colorbar": {
             "outlinewidth": 0,
             "ticks": ""
            },
            "type": "contourcarpet"
           }
          ],
          "heatmap": [
           {
            "colorbar": {
             "outlinewidth": 0,
             "ticks": ""
            },
            "colorscale": [
             [
              0,
              "#0d0887"
             ],
             [
              0.1111111111111111,
              "#46039f"
             ],
             [
              0.2222222222222222,
              "#7201a8"
             ],
             [
              0.3333333333333333,
              "#9c179e"
             ],
             [
              0.4444444444444444,
              "#bd3786"
             ],
             [
              0.5555555555555556,
              "#d8576b"
             ],
             [
              0.6666666666666666,
              "#ed7953"
             ],
             [
              0.7777777777777778,
              "#fb9f3a"
             ],
             [
              0.8888888888888888,
              "#fdca26"
             ],
             [
              1,
              "#f0f921"
             ]
            ],
            "type": "heatmap"
           }
          ],
          "heatmapgl": [
           {
            "colorbar": {
             "outlinewidth": 0,
             "ticks": ""
            },
            "colorscale": [
             [
              0,
              "#0d0887"
             ],
             [
              0.1111111111111111,
              "#46039f"
             ],
             [
              0.2222222222222222,
              "#7201a8"
             ],
             [
              0.3333333333333333,
              "#9c179e"
             ],
             [
              0.4444444444444444,
              "#bd3786"
             ],
             [
              0.5555555555555556,
              "#d8576b"
             ],
             [
              0.6666666666666666,
              "#ed7953"
             ],
             [
              0.7777777777777778,
              "#fb9f3a"
             ],
             [
              0.8888888888888888,
              "#fdca26"
             ],
             [
              1,
              "#f0f921"
             ]
            ],
            "type": "heatmapgl"
           }
          ],
          "histogram": [
           {
            "marker": {
             "colorbar": {
              "outlinewidth": 0,
              "ticks": ""
             }
            },
            "type": "histogram"
           }
          ],
          "histogram2d": [
           {
            "colorbar": {
             "outlinewidth": 0,
             "ticks": ""
            },
            "colorscale": [
             [
              0,
              "#0d0887"
             ],
             [
              0.1111111111111111,
              "#46039f"
             ],
             [
              0.2222222222222222,
              "#7201a8"
             ],
             [
              0.3333333333333333,
              "#9c179e"
             ],
             [
              0.4444444444444444,
              "#bd3786"
             ],
             [
              0.5555555555555556,
              "#d8576b"
             ],
             [
              0.6666666666666666,
              "#ed7953"
             ],
             [
              0.7777777777777778,
              "#fb9f3a"
             ],
             [
              0.8888888888888888,
              "#fdca26"
             ],
             [
              1,
              "#f0f921"
             ]
            ],
            "type": "histogram2d"
           }
          ],
          "histogram2dcontour": [
           {
            "colorbar": {
             "outlinewidth": 0,
             "ticks": ""
            },
            "colorscale": [
             [
              0,
              "#0d0887"
             ],
             [
              0.1111111111111111,
              "#46039f"
             ],
             [
              0.2222222222222222,
              "#7201a8"
             ],
             [
              0.3333333333333333,
              "#9c179e"
             ],
             [
              0.4444444444444444,
              "#bd3786"
             ],
             [
              0.5555555555555556,
              "#d8576b"
             ],
             [
              0.6666666666666666,
              "#ed7953"
             ],
             [
              0.7777777777777778,
              "#fb9f3a"
             ],
             [
              0.8888888888888888,
              "#fdca26"
             ],
             [
              1,
              "#f0f921"
             ]
            ],
            "type": "histogram2dcontour"
           }
          ],
          "mesh3d": [
           {
            "colorbar": {
             "outlinewidth": 0,
             "ticks": ""
            },
            "type": "mesh3d"
           }
          ],
          "parcoords": [
           {
            "line": {
             "colorbar": {
              "outlinewidth": 0,
              "ticks": ""
             }
            },
            "type": "parcoords"
           }
          ],
          "pie": [
           {
            "automargin": true,
            "type": "pie"
           }
          ],
          "scatter": [
           {
            "marker": {
             "colorbar": {
              "outlinewidth": 0,
              "ticks": ""
             }
            },
            "type": "scatter"
           }
          ],
          "scatter3d": [
           {
            "line": {
             "colorbar": {
              "outlinewidth": 0,
              "ticks": ""
             }
            },
            "marker": {
             "colorbar": {
              "outlinewidth": 0,
              "ticks": ""
             }
            },
            "type": "scatter3d"
           }
          ],
          "scattercarpet": [
           {
            "marker": {
             "colorbar": {
              "outlinewidth": 0,
              "ticks": ""
             }
            },
            "type": "scattercarpet"
           }
          ],
          "scattergeo": [
           {
            "marker": {
             "colorbar": {
              "outlinewidth": 0,
              "ticks": ""
             }
            },
            "type": "scattergeo"
           }
          ],
          "scattergl": [
           {
            "marker": {
             "colorbar": {
              "outlinewidth": 0,
              "ticks": ""
             }
            },
            "type": "scattergl"
           }
          ],
          "scattermapbox": [
           {
            "marker": {
             "colorbar": {
              "outlinewidth": 0,
              "ticks": ""
             }
            },
            "type": "scattermapbox"
           }
          ],
          "scatterpolar": [
           {
            "marker": {
             "colorbar": {
              "outlinewidth": 0,
              "ticks": ""
             }
            },
            "type": "scatterpolar"
           }
          ],
          "scatterpolargl": [
           {
            "marker": {
             "colorbar": {
              "outlinewidth": 0,
              "ticks": ""
             }
            },
            "type": "scatterpolargl"
           }
          ],
          "scatterternary": [
           {
            "marker": {
             "colorbar": {
              "outlinewidth": 0,
              "ticks": ""
             }
            },
            "type": "scatterternary"
           }
          ],
          "surface": [
           {
            "colorbar": {
             "outlinewidth": 0,
             "ticks": ""
            },
            "colorscale": [
             [
              0,
              "#0d0887"
             ],
             [
              0.1111111111111111,
              "#46039f"
             ],
             [
              0.2222222222222222,
              "#7201a8"
             ],
             [
              0.3333333333333333,
              "#9c179e"
             ],
             [
              0.4444444444444444,
              "#bd3786"
             ],
             [
              0.5555555555555556,
              "#d8576b"
             ],
             [
              0.6666666666666666,
              "#ed7953"
             ],
             [
              0.7777777777777778,
              "#fb9f3a"
             ],
             [
              0.8888888888888888,
              "#fdca26"
             ],
             [
              1,
              "#f0f921"
             ]
            ],
            "type": "surface"
           }
          ],
          "table": [
           {
            "cells": {
             "fill": {
              "color": "#EBF0F8"
             },
             "line": {
              "color": "white"
             }
            },
            "header": {
             "fill": {
              "color": "#C8D4E3"
             },
             "line": {
              "color": "white"
             }
            },
            "type": "table"
           }
          ]
         },
         "layout": {
          "annotationdefaults": {
           "arrowcolor": "#2a3f5f",
           "arrowhead": 0,
           "arrowwidth": 1
          },
          "coloraxis": {
           "colorbar": {
            "outlinewidth": 0,
            "ticks": ""
           }
          },
          "colorscale": {
           "diverging": [
            [
             0,
             "#8e0152"
            ],
            [
             0.1,
             "#c51b7d"
            ],
            [
             0.2,
             "#de77ae"
            ],
            [
             0.3,
             "#f1b6da"
            ],
            [
             0.4,
             "#fde0ef"
            ],
            [
             0.5,
             "#f7f7f7"
            ],
            [
             0.6,
             "#e6f5d0"
            ],
            [
             0.7,
             "#b8e186"
            ],
            [
             0.8,
             "#7fbc41"
            ],
            [
             0.9,
             "#4d9221"
            ],
            [
             1,
             "#276419"
            ]
           ],
           "sequential": [
            [
             0,
             "#0d0887"
            ],
            [
             0.1111111111111111,
             "#46039f"
            ],
            [
             0.2222222222222222,
             "#7201a8"
            ],
            [
             0.3333333333333333,
             "#9c179e"
            ],
            [
             0.4444444444444444,
             "#bd3786"
            ],
            [
             0.5555555555555556,
             "#d8576b"
            ],
            [
             0.6666666666666666,
             "#ed7953"
            ],
            [
             0.7777777777777778,
             "#fb9f3a"
            ],
            [
             0.8888888888888888,
             "#fdca26"
            ],
            [
             1,
             "#f0f921"
            ]
           ],
           "sequentialminus": [
            [
             0,
             "#0d0887"
            ],
            [
             0.1111111111111111,
             "#46039f"
            ],
            [
             0.2222222222222222,
             "#7201a8"
            ],
            [
             0.3333333333333333,
             "#9c179e"
            ],
            [
             0.4444444444444444,
             "#bd3786"
            ],
            [
             0.5555555555555556,
             "#d8576b"
            ],
            [
             0.6666666666666666,
             "#ed7953"
            ],
            [
             0.7777777777777778,
             "#fb9f3a"
            ],
            [
             0.8888888888888888,
             "#fdca26"
            ],
            [
             1,
             "#f0f921"
            ]
           ]
          },
          "colorway": [
           "#636efa",
           "#EF553B",
           "#00cc96",
           "#ab63fa",
           "#FFA15A",
           "#19d3f3",
           "#FF6692",
           "#B6E880",
           "#FF97FF",
           "#FECB52"
          ],
          "font": {
           "color": "#2a3f5f"
          },
          "geo": {
           "bgcolor": "white",
           "lakecolor": "white",
           "landcolor": "#E5ECF6",
           "showlakes": true,
           "showland": true,
           "subunitcolor": "white"
          },
          "hoverlabel": {
           "align": "left"
          },
          "hovermode": "closest",
          "mapbox": {
           "style": "light"
          },
          "paper_bgcolor": "white",
          "plot_bgcolor": "#E5ECF6",
          "polar": {
           "angularaxis": {
            "gridcolor": "white",
            "linecolor": "white",
            "ticks": ""
           },
           "bgcolor": "#E5ECF6",
           "radialaxis": {
            "gridcolor": "white",
            "linecolor": "white",
            "ticks": ""
           }
          },
          "scene": {
           "xaxis": {
            "backgroundcolor": "#E5ECF6",
            "gridcolor": "white",
            "gridwidth": 2,
            "linecolor": "white",
            "showbackground": true,
            "ticks": "",
            "zerolinecolor": "white"
           },
           "yaxis": {
            "backgroundcolor": "#E5ECF6",
            "gridcolor": "white",
            "gridwidth": 2,
            "linecolor": "white",
            "showbackground": true,
            "ticks": "",
            "zerolinecolor": "white"
           },
           "zaxis": {
            "backgroundcolor": "#E5ECF6",
            "gridcolor": "white",
            "gridwidth": 2,
            "linecolor": "white",
            "showbackground": true,
            "ticks": "",
            "zerolinecolor": "white"
           }
          },
          "shapedefaults": {
           "line": {
            "color": "#2a3f5f"
           }
          },
          "ternary": {
           "aaxis": {
            "gridcolor": "white",
            "linecolor": "white",
            "ticks": ""
           },
           "baxis": {
            "gridcolor": "white",
            "linecolor": "white",
            "ticks": ""
           },
           "bgcolor": "#E5ECF6",
           "caxis": {
            "gridcolor": "white",
            "linecolor": "white",
            "ticks": ""
           }
          },
          "title": {
           "x": 0.05
          },
          "xaxis": {
           "automargin": true,
           "gridcolor": "white",
           "linecolor": "white",
           "ticks": "",
           "title": {
            "standoff": 15
           },
           "zerolinecolor": "white",
           "zerolinewidth": 2
          },
          "yaxis": {
           "automargin": true,
           "gridcolor": "white",
           "linecolor": "white",
           "ticks": "",
           "title": {
            "standoff": 15
           },
           "zerolinecolor": "white",
           "zerolinewidth": 2
          }
         }
        },
        "title": {
         "text": "RMSE = 2.1403048135437284"
        },
        "xaxis": {
         "anchor": "y",
         "domain": [
          0,
          1
         ],
         "rangeslider": {
          "visible": true
         },
         "title": {
          "text": "data"
         }
        },
        "yaxis": {
         "anchor": "x",
         "domain": [
          0,
          1
         ],
         "title": {
          "text": "_value"
         }
        }
       }
      },
      "text/html": [
       "<div>\n",
       "        \n",
       "        \n",
       "            <div id=\"1bb42f2e-e545-41ab-b05a-4a3901745c45\" class=\"plotly-graph-div\" style=\"height:525px; width:100%;\"></div>\n",
       "            <script type=\"text/javascript\">\n",
       "                require([\"plotly\"], function(Plotly) {\n",
       "                    window.PLOTLYENV=window.PLOTLYENV || {};\n",
       "                    \n",
       "                if (document.getElementById(\"1bb42f2e-e545-41ab-b05a-4a3901745c45\")) {\n",
       "                    Plotly.newPlot(\n",
       "                        '1bb42f2e-e545-41ab-b05a-4a3901745c45',\n",
       "                        [{\"hovertemplate\": \"variable=value<br>data=%{x}<br>_value=%{y}<extra></extra>\", \"legendgroup\": \"value\", \"line\": {\"color\": \"#636efa\", \"dash\": \"solid\"}, \"mode\": \"lines\", \"name\": \"value\", \"orientation\": \"v\", \"showlegend\": true, \"type\": \"scatter\", \"x\": [\"01.01.2019\", \"02.01.2019\", \"03.01.2019\", \"05.01.2019\", \"06.01.2019\", \"07.01.2019\", \"08.01.2019\", \"09.01.2019\", \"10.01.2019\", \"11.01.2019\", \"12.01.2019\", \"13.01.2019\", \"14.01.2019\", \"17.01.2019\", \"18.01.2019\", \"19.01.2019\", \"20.01.2019\", \"21.01.2019\", \"22.01.2019\", \"23.01.2019\", \"25.01.2019\", \"26.01.2019\", \"27.01.2019\", \"28.01.2019\", \"29.01.2019\", \"30.01.2019\", \"31.01.2019\", \"01.02.2019\", \"02.02.2019\", \"03.02.2019\", \"04.02.2019\", \"05.02.2019\", \"06.02.2019\", \"08.02.2019\", \"10.02.2019\", \"12.02.2019\", \"13.02.2019\", \"15.02.2019\", \"16.02.2019\", \"18.02.2019\", \"19.02.2019\", \"20.02.2019\", \"21.02.2019\", \"22.02.2019\", \"23.02.2019\", \"25.02.2019\", \"26.02.2019\", \"28.02.2019\", \"02.03.2019\", \"03.03.2019\", \"04.03.2019\", \"05.03.2019\", \"06.03.2019\", \"07.03.2019\", \"08.03.2019\", \"10.03.2019\", \"12.03.2019\", \"13.03.2019\", \"14.03.2019\", \"15.03.2019\", \"16.03.2019\", \"17.03.2019\", \"18.03.2019\", \"19.03.2019\", \"20.03.2019\", \"21.03.2019\", \"22.03.2019\", \"23.03.2019\", \"24.03.2019\", \"25.03.2019\", \"26.03.2019\", \"27.03.2019\", \"28.03.2019\", \"29.03.2019\", \"30.03.2019\", \"31.03.2019\", \"01.04.2019\", \"02.04.2019\", \"03.04.2019\", \"04.04.2019\", \"05.04.2019\", \"06.04.2019\", \"07.04.2019\", \"08.04.2019\", \"09.04.2019\", \"10.04.2019\", \"11.04.2019\", \"12.04.2019\", \"13.04.2019\", \"14.04.2019\", \"15.04.2019\", \"16.04.2019\", \"17.04.2019\", \"18.04.2019\", \"19.04.2019\", \"20.04.2019\", \"21.04.2019\", \"22.04.2019\", \"23.04.2019\", \"24.04.2019\", \"25.04.2019\", \"26.04.2019\", \"27.04.2019\", \"28.04.2019\", \"29.04.2019\", \"30.04.2019\", \"01.05.2019\", \"02.05.2019\", \"03.05.2019\", \"04.05.2019\", \"05.05.2019\", \"06.05.2019\", \"07.05.2019\", \"08.05.2019\", \"09.05.2019\", \"10.05.2019\", \"11.05.2019\", \"12.05.2019\", \"13.05.2019\", \"14.05.2019\", \"15.05.2019\", \"16.05.2019\", \"17.05.2019\", \"18.05.2019\", \"19.05.2019\", \"20.05.2019\", \"21.05.2019\", \"22.05.2019\", \"23.05.2019\", \"24.05.2019\", \"25.05.2019\", \"26.05.2019\", \"27.05.2019\", \"28.05.2019\", \"29.05.2019\", \"30.05.2019\", \"31.05.2019\", \"01.06.2019\", \"02.06.2019\", \"03.06.2019\"], \"xaxis\": \"x\", \"y\": [14.77, 14.83, 16.2, 15.5, 15.16, 16.17, 15.43, 16.18, 16.51, 15.01, 16.14, 16.64, 16.71, 15.98, 15.69, 8.13, 8.8, 9.95, 9.8, 10.57, 10.36, 11.34, 11.65, 12.08, 12.2, 11.83, 12.32, 12.37, 12.4, 13.02, 11.84, 13.13, 12.37, 12.75, 14.28, 14.04, 14.67, 15.52, 14.49, 14.74, 15.99, 14.47, 15.93, 15.2, 16.11, 16.19, 15.89, 16.09, 14.78, 15.64, 8.12, 9.53, 10.72, 10.98, 11.13, 10.53, 12.35, 12.24, 12.44, 12.96, 13.09, 12.8, 13.13, 13.29, 13.01, 11.13, 10.96, 10.76, 11.52, 11.21, 14.58, 14.77, 16.49, 15.52, 15.89, 16.84, 15.84, 16.78, 16.01, 16.26, 17.12, 16.39, 17.2, 15.57, 15.97, 8.55, 9.16, 10.45, 10.95, 11.74, 10.47, 12.59, 12.13, 12.51, 12.63, 12.76, 13.26, 13.46, 13.29, 13.52, 11.49, 12.83, 11.69, 12.46, 13.33, 14.96, 15.12, 16.68, 15.23, 15.48, 16.5, 15.82, 16.52, 16.6, 16.67, 17.14, 16.39, 17.09, 15.51, 16.31, 8.84, 9.59, 10.51, 11.13, 11.15, 11.32, 12.74, 12.77, 13.02, 12.83, 12.72, 13.26, 13.76, 13.54, 13.95, 12.0, 13.13, 12.01, 12.68, 13.6], \"yaxis\": \"y\"}, {\"hovertemplate\": \"variable=sarima_model<br>data=%{x}<br>_value=%{y}<extra></extra>\", \"legendgroup\": \"sarima_model\", \"line\": {\"color\": \"#EF553B\", \"dash\": \"solid\"}, \"mode\": \"lines\", \"name\": \"sarima_model\", \"orientation\": \"v\", \"showlegend\": true, \"type\": \"scatter\", \"x\": [\"01.01.2019\", \"02.01.2019\", \"03.01.2019\", \"05.01.2019\", \"06.01.2019\", \"07.01.2019\", \"08.01.2019\", \"09.01.2019\", \"10.01.2019\", \"11.01.2019\", \"12.01.2019\", \"13.01.2019\", \"14.01.2019\", \"17.01.2019\", \"18.01.2019\", \"19.01.2019\", \"20.01.2019\", \"21.01.2019\", \"22.01.2019\", \"23.01.2019\", \"25.01.2019\", \"26.01.2019\", \"27.01.2019\", \"28.01.2019\", \"29.01.2019\", \"30.01.2019\", \"31.01.2019\", \"01.02.2019\", \"02.02.2019\", \"03.02.2019\", \"04.02.2019\", \"05.02.2019\", \"06.02.2019\", \"08.02.2019\", \"10.02.2019\", \"12.02.2019\", \"13.02.2019\", \"15.02.2019\", \"16.02.2019\", \"18.02.2019\", \"19.02.2019\", \"20.02.2019\", \"21.02.2019\", \"22.02.2019\", \"23.02.2019\", \"25.02.2019\", \"26.02.2019\", \"28.02.2019\", \"02.03.2019\", \"03.03.2019\", \"04.03.2019\", \"05.03.2019\", \"06.03.2019\", \"07.03.2019\", \"08.03.2019\", \"10.03.2019\", \"12.03.2019\", \"13.03.2019\", \"14.03.2019\", \"15.03.2019\", \"16.03.2019\", \"17.03.2019\", \"18.03.2019\", \"19.03.2019\", \"20.03.2019\", \"21.03.2019\", \"22.03.2019\", \"23.03.2019\", \"24.03.2019\", \"25.03.2019\", \"26.03.2019\", \"27.03.2019\", \"28.03.2019\", \"29.03.2019\", \"30.03.2019\", \"31.03.2019\", \"01.04.2019\", \"02.04.2019\", \"03.04.2019\", \"04.04.2019\", \"05.04.2019\", \"06.04.2019\", \"07.04.2019\", \"08.04.2019\", \"09.04.2019\", \"10.04.2019\", \"11.04.2019\", \"12.04.2019\", \"13.04.2019\", \"14.04.2019\", \"15.04.2019\", \"16.04.2019\", \"17.04.2019\", \"18.04.2019\", \"19.04.2019\", \"20.04.2019\", \"21.04.2019\", \"22.04.2019\", \"23.04.2019\", \"24.04.2019\", \"25.04.2019\", \"26.04.2019\", \"27.04.2019\", \"28.04.2019\", \"29.04.2019\", \"30.04.2019\", \"01.05.2019\", \"02.05.2019\", \"03.05.2019\", \"04.05.2019\", \"05.05.2019\", \"06.05.2019\", \"07.05.2019\", \"08.05.2019\", \"09.05.2019\", \"10.05.2019\", \"11.05.2019\", \"12.05.2019\", \"13.05.2019\", \"14.05.2019\", \"15.05.2019\", \"16.05.2019\", \"17.05.2019\", \"18.05.2019\", \"19.05.2019\", \"20.05.2019\", \"21.05.2019\", \"22.05.2019\", \"23.05.2019\", \"24.05.2019\", \"25.05.2019\", \"26.05.2019\", \"27.05.2019\", \"28.05.2019\", \"29.05.2019\", \"30.05.2019\", \"31.05.2019\", \"01.06.2019\", \"02.06.2019\", \"03.06.2019\"], \"xaxis\": \"x\", \"y\": [0.0, 14.769997987022368, 14.830001040813638, 16.200000946688597, 15.500002135497425, 15.160002511753396, 16.16999270693475, 15.430001461158184, 16.179994262827144, 16.509999565200268, 15.009996447589423, 16.139995569299792, 16.640002048679943, 16.709990468929096, 15.980003467448903, 15.690000098799457, 8.130002471027746, 8.800000433392198, 9.950001282635583, 9.799999682363582, 10.56999040035882, 10.3600047941789, 11.339996829006695, 11.650004194138956, 19.465003769001637, 12.260006612361522, 13.225047067639434, 11.6581181902993, 11.942760163968982, 13.346211122766203, 12.264594311517213, 12.703336269829144, 13.646485882932177, 10.807317877955754, 13.771195362938007, 14.772413157480615, 14.330846023342897, 13.86611028565799, 15.442190911842246, 6.785275899533729, 14.83194134801563, 17.01130879892721, 14.658538073170847, 16.635344516458964, 15.319054270643187, 15.87161529562257, 15.39732466371243, 15.475482537347343, 15.303125831246449, 14.168274600261075, 13.873083994407551, 9.624090516966142, 7.903382257889503, 10.00129863186345, 11.08002573497548, 10.932133170707175, 11.88887860111419, 12.108061359678466, 13.238208826069116, 11.33789144329089, 12.876852703131203, 14.695934658486902, 11.315876802433932, 11.805398225765558, 13.656694834015227, 12.286624993987322, 12.829133238192044, 11.34060366562727, 11.590329260483207, 12.588113805022328, 13.232261847564011, 16.06195506159548, 15.178542618486869, 16.11482680950243, 13.56814567306508, 16.34038866920674, 14.895449188892016, 16.488618117421048, 15.843407218757005, 16.536465591371474, 16.491822860168135, 15.883220775465805, 16.1144031457356, 14.21321167291985, 15.11569770849055, 14.127368357281126, 10.232341849733194, 7.304126917522603, 10.68649833715325, 10.993629727251603, 11.234691737867621, 10.898001434531388, 13.041108627775014, 11.96659833981322, 13.002403592281858, 12.821026233804774, 15.135828721402916, 12.04650983295638, 13.703060673617717, 13.539444271890115, 11.86344101334328, 12.384174313664154, 11.512861965223177, 12.414718650831965, 13.989422351882336, 15.750478320135697, 16.729026114820183, 15.54778477225853, 16.691410265440165, 13.38659364782897, 15.462905948330407, 14.130264292508267, 15.624482746874078, 16.051415032311656, 16.407206506305968, 16.608613333463953, 16.847585904420985, 15.553425645543872, 15.566003936651784, 16.01837855074704, 15.116946681916566, 10.399083275640173, 8.749852810813016, 10.383754139777615, 10.324507247498541, 11.019227096509303, 10.715011114956344, 12.868870566946116, 13.89146766826049, 13.527053884948876, 13.205652276684262, 15.151706131187023, 12.143943067601581, 13.724176811262277, 13.545653012966378, 11.743571393954303, 12.401155400965573, 12.476202587420362, 12.10597709421999, 13.971939599551884], \"yaxis\": \"y\"}],\n",
       "                        {\"legend\": {\"title\": {\"text\": \"variable\"}, \"tracegroupgap\": 0}, \"template\": {\"data\": {\"bar\": [{\"error_x\": {\"color\": \"#2a3f5f\"}, \"error_y\": {\"color\": \"#2a3f5f\"}, \"marker\": {\"line\": {\"color\": \"#E5ECF6\", \"width\": 0.5}}, \"type\": \"bar\"}], \"barpolar\": [{\"marker\": {\"line\": {\"color\": \"#E5ECF6\", \"width\": 0.5}}, \"type\": \"barpolar\"}], \"carpet\": [{\"aaxis\": {\"endlinecolor\": \"#2a3f5f\", \"gridcolor\": \"white\", \"linecolor\": \"white\", \"minorgridcolor\": \"white\", \"startlinecolor\": \"#2a3f5f\"}, \"baxis\": {\"endlinecolor\": \"#2a3f5f\", \"gridcolor\": \"white\", \"linecolor\": \"white\", \"minorgridcolor\": \"white\", \"startlinecolor\": \"#2a3f5f\"}, \"type\": \"carpet\"}], \"choropleth\": [{\"colorbar\": {\"outlinewidth\": 0, \"ticks\": \"\"}, \"type\": \"choropleth\"}], \"contour\": [{\"colorbar\": {\"outlinewidth\": 0, \"ticks\": \"\"}, \"colorscale\": [[0.0, \"#0d0887\"], [0.1111111111111111, \"#46039f\"], [0.2222222222222222, \"#7201a8\"], [0.3333333333333333, \"#9c179e\"], [0.4444444444444444, \"#bd3786\"], [0.5555555555555556, \"#d8576b\"], [0.6666666666666666, \"#ed7953\"], [0.7777777777777778, \"#fb9f3a\"], [0.8888888888888888, \"#fdca26\"], [1.0, \"#f0f921\"]], \"type\": \"contour\"}], \"contourcarpet\": [{\"colorbar\": {\"outlinewidth\": 0, \"ticks\": \"\"}, \"type\": \"contourcarpet\"}], \"heatmap\": [{\"colorbar\": {\"outlinewidth\": 0, \"ticks\": \"\"}, \"colorscale\": [[0.0, \"#0d0887\"], [0.1111111111111111, \"#46039f\"], [0.2222222222222222, \"#7201a8\"], [0.3333333333333333, \"#9c179e\"], [0.4444444444444444, \"#bd3786\"], [0.5555555555555556, \"#d8576b\"], [0.6666666666666666, \"#ed7953\"], [0.7777777777777778, \"#fb9f3a\"], [0.8888888888888888, \"#fdca26\"], [1.0, \"#f0f921\"]], \"type\": \"heatmap\"}], \"heatmapgl\": [{\"colorbar\": {\"outlinewidth\": 0, \"ticks\": \"\"}, \"colorscale\": [[0.0, \"#0d0887\"], [0.1111111111111111, \"#46039f\"], [0.2222222222222222, \"#7201a8\"], [0.3333333333333333, \"#9c179e\"], [0.4444444444444444, \"#bd3786\"], [0.5555555555555556, \"#d8576b\"], [0.6666666666666666, \"#ed7953\"], [0.7777777777777778, \"#fb9f3a\"], [0.8888888888888888, \"#fdca26\"], [1.0, \"#f0f921\"]], \"type\": \"heatmapgl\"}], \"histogram\": [{\"marker\": {\"colorbar\": {\"outlinewidth\": 0, \"ticks\": \"\"}}, \"type\": \"histogram\"}], \"histogram2d\": [{\"colorbar\": {\"outlinewidth\": 0, \"ticks\": \"\"}, \"colorscale\": [[0.0, \"#0d0887\"], [0.1111111111111111, \"#46039f\"], [0.2222222222222222, \"#7201a8\"], [0.3333333333333333, \"#9c179e\"], [0.4444444444444444, \"#bd3786\"], [0.5555555555555556, \"#d8576b\"], [0.6666666666666666, \"#ed7953\"], [0.7777777777777778, \"#fb9f3a\"], [0.8888888888888888, \"#fdca26\"], [1.0, \"#f0f921\"]], \"type\": \"histogram2d\"}], \"histogram2dcontour\": [{\"colorbar\": {\"outlinewidth\": 0, \"ticks\": \"\"}, \"colorscale\": [[0.0, \"#0d0887\"], [0.1111111111111111, \"#46039f\"], [0.2222222222222222, \"#7201a8\"], [0.3333333333333333, \"#9c179e\"], [0.4444444444444444, \"#bd3786\"], [0.5555555555555556, \"#d8576b\"], [0.6666666666666666, \"#ed7953\"], [0.7777777777777778, \"#fb9f3a\"], [0.8888888888888888, \"#fdca26\"], [1.0, \"#f0f921\"]], \"type\": \"histogram2dcontour\"}], \"mesh3d\": [{\"colorbar\": {\"outlinewidth\": 0, \"ticks\": \"\"}, \"type\": \"mesh3d\"}], \"parcoords\": [{\"line\": {\"colorbar\": {\"outlinewidth\": 0, \"ticks\": \"\"}}, \"type\": \"parcoords\"}], \"pie\": [{\"automargin\": true, \"type\": \"pie\"}], \"scatter\": [{\"marker\": {\"colorbar\": {\"outlinewidth\": 0, \"ticks\": \"\"}}, \"type\": \"scatter\"}], \"scatter3d\": [{\"line\": {\"colorbar\": {\"outlinewidth\": 0, \"ticks\": \"\"}}, \"marker\": {\"colorbar\": {\"outlinewidth\": 0, \"ticks\": \"\"}}, \"type\": \"scatter3d\"}], \"scattercarpet\": [{\"marker\": {\"colorbar\": {\"outlinewidth\": 0, \"ticks\": \"\"}}, \"type\": \"scattercarpet\"}], \"scattergeo\": [{\"marker\": {\"colorbar\": {\"outlinewidth\": 0, \"ticks\": \"\"}}, \"type\": \"scattergeo\"}], \"scattergl\": [{\"marker\": {\"colorbar\": {\"outlinewidth\": 0, \"ticks\": \"\"}}, \"type\": \"scattergl\"}], \"scattermapbox\": [{\"marker\": {\"colorbar\": {\"outlinewidth\": 0, \"ticks\": \"\"}}, \"type\": \"scattermapbox\"}], \"scatterpolar\": [{\"marker\": {\"colorbar\": {\"outlinewidth\": 0, \"ticks\": \"\"}}, \"type\": \"scatterpolar\"}], \"scatterpolargl\": [{\"marker\": {\"colorbar\": {\"outlinewidth\": 0, \"ticks\": \"\"}}, \"type\": \"scatterpolargl\"}], \"scatterternary\": [{\"marker\": {\"colorbar\": {\"outlinewidth\": 0, \"ticks\": \"\"}}, \"type\": \"scatterternary\"}], \"surface\": [{\"colorbar\": {\"outlinewidth\": 0, \"ticks\": \"\"}, \"colorscale\": [[0.0, \"#0d0887\"], [0.1111111111111111, \"#46039f\"], [0.2222222222222222, \"#7201a8\"], [0.3333333333333333, \"#9c179e\"], [0.4444444444444444, \"#bd3786\"], [0.5555555555555556, \"#d8576b\"], [0.6666666666666666, \"#ed7953\"], [0.7777777777777778, \"#fb9f3a\"], [0.8888888888888888, \"#fdca26\"], [1.0, \"#f0f921\"]], \"type\": \"surface\"}], \"table\": [{\"cells\": {\"fill\": {\"color\": \"#EBF0F8\"}, \"line\": {\"color\": \"white\"}}, \"header\": {\"fill\": {\"color\": \"#C8D4E3\"}, \"line\": {\"color\": \"white\"}}, \"type\": \"table\"}]}, \"layout\": {\"annotationdefaults\": {\"arrowcolor\": \"#2a3f5f\", \"arrowhead\": 0, \"arrowwidth\": 1}, \"coloraxis\": {\"colorbar\": {\"outlinewidth\": 0, \"ticks\": \"\"}}, \"colorscale\": {\"diverging\": [[0, \"#8e0152\"], [0.1, \"#c51b7d\"], [0.2, \"#de77ae\"], [0.3, \"#f1b6da\"], [0.4, \"#fde0ef\"], [0.5, \"#f7f7f7\"], [0.6, \"#e6f5d0\"], [0.7, \"#b8e186\"], [0.8, \"#7fbc41\"], [0.9, \"#4d9221\"], [1, \"#276419\"]], \"sequential\": [[0.0, \"#0d0887\"], [0.1111111111111111, \"#46039f\"], [0.2222222222222222, \"#7201a8\"], [0.3333333333333333, \"#9c179e\"], [0.4444444444444444, \"#bd3786\"], [0.5555555555555556, \"#d8576b\"], [0.6666666666666666, \"#ed7953\"], [0.7777777777777778, \"#fb9f3a\"], [0.8888888888888888, \"#fdca26\"], [1.0, \"#f0f921\"]], \"sequentialminus\": [[0.0, \"#0d0887\"], [0.1111111111111111, \"#46039f\"], [0.2222222222222222, \"#7201a8\"], [0.3333333333333333, \"#9c179e\"], [0.4444444444444444, \"#bd3786\"], [0.5555555555555556, \"#d8576b\"], [0.6666666666666666, \"#ed7953\"], [0.7777777777777778, \"#fb9f3a\"], [0.8888888888888888, \"#fdca26\"], [1.0, \"#f0f921\"]]}, \"colorway\": [\"#636efa\", \"#EF553B\", \"#00cc96\", \"#ab63fa\", \"#FFA15A\", \"#19d3f3\", \"#FF6692\", \"#B6E880\", \"#FF97FF\", \"#FECB52\"], \"font\": {\"color\": \"#2a3f5f\"}, \"geo\": {\"bgcolor\": \"white\", \"lakecolor\": \"white\", \"landcolor\": \"#E5ECF6\", \"showlakes\": true, \"showland\": true, \"subunitcolor\": \"white\"}, \"hoverlabel\": {\"align\": \"left\"}, \"hovermode\": \"closest\", \"mapbox\": {\"style\": \"light\"}, \"paper_bgcolor\": \"white\", \"plot_bgcolor\": \"#E5ECF6\", \"polar\": {\"angularaxis\": {\"gridcolor\": \"white\", \"linecolor\": \"white\", \"ticks\": \"\"}, \"bgcolor\": \"#E5ECF6\", \"radialaxis\": {\"gridcolor\": \"white\", \"linecolor\": \"white\", \"ticks\": \"\"}}, \"scene\": {\"xaxis\": {\"backgroundcolor\": \"#E5ECF6\", \"gridcolor\": \"white\", \"gridwidth\": 2, \"linecolor\": \"white\", \"showbackground\": true, \"ticks\": \"\", \"zerolinecolor\": \"white\"}, \"yaxis\": {\"backgroundcolor\": \"#E5ECF6\", \"gridcolor\": \"white\", \"gridwidth\": 2, \"linecolor\": \"white\", \"showbackground\": true, \"ticks\": \"\", \"zerolinecolor\": \"white\"}, \"zaxis\": {\"backgroundcolor\": \"#E5ECF6\", \"gridcolor\": \"white\", \"gridwidth\": 2, \"linecolor\": \"white\", \"showbackground\": true, \"ticks\": \"\", \"zerolinecolor\": \"white\"}}, \"shapedefaults\": {\"line\": {\"color\": \"#2a3f5f\"}}, \"ternary\": {\"aaxis\": {\"gridcolor\": \"white\", \"linecolor\": \"white\", \"ticks\": \"\"}, \"baxis\": {\"gridcolor\": \"white\", \"linecolor\": \"white\", \"ticks\": \"\"}, \"bgcolor\": \"#E5ECF6\", \"caxis\": {\"gridcolor\": \"white\", \"linecolor\": \"white\", \"ticks\": \"\"}}, \"title\": {\"x\": 0.05}, \"xaxis\": {\"automargin\": true, \"gridcolor\": \"white\", \"linecolor\": \"white\", \"ticks\": \"\", \"title\": {\"standoff\": 15}, \"zerolinecolor\": \"white\", \"zerolinewidth\": 2}, \"yaxis\": {\"automargin\": true, \"gridcolor\": \"white\", \"linecolor\": \"white\", \"ticks\": \"\", \"title\": {\"standoff\": 15}, \"zerolinecolor\": \"white\", \"zerolinewidth\": 2}}}, \"title\": {\"text\": \"RMSE = 2.1403048135437284\"}, \"xaxis\": {\"anchor\": \"y\", \"domain\": [0.0, 1.0], \"rangeslider\": {\"visible\": true}, \"title\": {\"text\": \"data\"}}, \"yaxis\": {\"anchor\": \"x\", \"domain\": [0.0, 1.0], \"title\": {\"text\": \"_value\"}}},\n",
       "                        {\"responsive\": true}\n",
       "                    ).then(function(){\n",
       "                            \n",
       "var gd = document.getElementById('1bb42f2e-e545-41ab-b05a-4a3901745c45');\n",
       "var x = new MutationObserver(function (mutations, observer) {{\n",
       "        var display = window.getComputedStyle(gd).display;\n",
       "        if (!display || display === 'none') {{\n",
       "            console.log([gd, 'removed!']);\n",
       "            Plotly.purge(gd);\n",
       "            observer.disconnect();\n",
       "        }}\n",
       "}});\n",
       "\n",
       "// Listen for the removal of the full notebook cells\n",
       "var notebookContainer = gd.closest('#notebook-container');\n",
       "if (notebookContainer) {{\n",
       "    x.observe(notebookContainer, {childList: true});\n",
       "}}\n",
       "\n",
       "// Listen for the clearing of the current output cell\n",
       "var outputEl = gd.closest('.output');\n",
       "if (outputEl) {{\n",
       "    x.observe(outputEl, {childList: true});\n",
       "}}\n",
       "\n",
       "                        })\n",
       "                };\n",
       "                });\n",
       "            </script>\n",
       "        </div>"
      ]
     },
     "metadata": {},
     "output_type": "display_data"
    }
   ],
   "source": [
    "fig = px.line(data2, title='RMSE = {}'.format(mean_squared_error(data.value, data2.sarima_model, squared=False)))\n",
    "fig.update_xaxes(rangeslider_visible=True)\n",
    "fig.show()"
   ]
  },
  {
   "cell_type": "code",
   "execution_count": 25,
   "metadata": {
    "scrolled": true
   },
   "outputs": [
    {
     "data": {
      "image/png": "[encoded data removed]",
      "text/plain": [
       "<Figure size 1080x504 with 1 Axes>"
      ]
     },
     "metadata": {
      "needs_background": "light"
     },
     "output_type": "display_data"
    }
   ],
   "source": [
    "# Строим предсказания\n",
    "\n",
    "predictions = best_model.predict(start=data2.shape[0], end=data2.shape[0] + 59)\n",
    "predictions = data2.sarima_model.append(predictions).values\n",
    "actual = data2.value.values\n",
    "plt.figure(figsize=(15, 7))\n",
    "plt.plot(predictions, color='r', label=\"model\")\n",
    "plt.title(\"SARIMA model\")\n",
    "plt.plot(actual, label=\"actual\")\n",
    "plt.legend()\n",
    "plt.axvspan(len(actual), len(predictions), alpha=0.5, color='lightgrey')\n",
    "plt.grid(True)"
   ]
  },
  {
   "cell_type": "markdown",
   "metadata": {},
   "source": [
    "#### Несмотря на неплохое значение RMSE, стационарности остатков по критерию Дики-Фулера и отсутствию очевидно значимых автокорреляций, предсказания, полученные при помощи модели SARIMA  получились хуже, чем полученные при помощи модели Хольта-Винтерса"
   ]
  },
  {
   "cell_type": "code",
   "execution_count": null,
   "metadata": {},
   "outputs": [],
   "source": []
  }
 ],
 "metadata": {
  "kernelspec": {
   "display_name": "Python 3",
   "language": "python",
   "name": "python3"
  },
  "language_info": {
   "codemirror_mode": {
    "name": "ipython",
    "version": 3
   },
   "file_extension": ".py",
   "mimetype": "text/x-python",
   "name": "python",
   "nbconvert_exporter": "python",
   "pygments_lexer": "ipython3",
   "version": "3.8.3"
  }
 },
 "nbformat": 4,
 "nbformat_minor": 4
}
