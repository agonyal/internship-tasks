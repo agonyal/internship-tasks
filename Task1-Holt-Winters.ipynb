{
 "cells": [
  {
   "cell_type": "code",
   "execution_count": 5,
   "metadata": {},
   "outputs": [],
   "source": [
    "from sklearn.model_selection import TimeSeriesSplit\n",
    "from scipy.optimize import minimize\n",
    "from statsmodels.tsa.holtwinters import ExponentialSmoothing\n",
    "from sklearn.metrics import mean_squared_error\n",
    "import plotly.express as px\n",
    "import pandas as pd\n",
    "import numpy as np\n",
    "import matplotlib.pyplot as plt\n",
    "%matplotlib inline\n",
    "import warnings\n",
    "import datetime\n",
    "warnings.filterwarnings('ignore')"
   ]
  },
  {
   "cell_type": "code",
   "execution_count": 14,
   "metadata": {},
   "outputs": [],
   "source": [
    "data = pd.read_csv('task1.csv', index_col=['data'])"
   ]
  },
  {
   "cell_type": "code",
   "execution_count": 15,
   "metadata": {},
   "outputs": [
    {
     "data": {
      "text/html": [
       "<div>\n",
       "<style scoped>\n",
       "    .dataframe tbody tr th:only-of-type {\n",
       "        vertical-align: middle;\n",
       "    }\n",
       "\n",
       "    .dataframe tbody tr th {\n",
       "        vertical-align: top;\n",
       "    }\n",
       "\n",
       "    .dataframe thead th {\n",
       "        text-align: right;\n",
       "    }\n",
       "</style>\n",
       "<table border=\"1\" class=\"dataframe\">\n",
       "  <thead>\n",
       "    <tr style=\"text-align: right;\">\n",
       "      <th></th>\n",
       "      <th>value</th>\n",
       "    </tr>\n",
       "    <tr>\n",
       "      <th>data</th>\n",
       "      <th></th>\n",
       "    </tr>\n",
       "  </thead>\n",
       "  <tbody>\n",
       "    <tr>\n",
       "      <th>01.01.2019</th>\n",
       "      <td>14.77</td>\n",
       "    </tr>\n",
       "    <tr>\n",
       "      <th>02.01.2019</th>\n",
       "      <td>14.83</td>\n",
       "    </tr>\n",
       "    <tr>\n",
       "      <th>03.01.2019</th>\n",
       "      <td>16.20</td>\n",
       "    </tr>\n",
       "    <tr>\n",
       "      <th>05.01.2019</th>\n",
       "      <td>15.50</td>\n",
       "    </tr>\n",
       "    <tr>\n",
       "      <th>06.01.2019</th>\n",
       "      <td>15.16</td>\n",
       "    </tr>\n",
       "  </tbody>\n",
       "</table>\n",
       "</div>"
      ],
      "text/plain": [
       "            value\n",
       "data             \n",
       "01.01.2019  14.77\n",
       "02.01.2019  14.83\n",
       "03.01.2019  16.20\n",
       "05.01.2019  15.50\n",
       "06.01.2019  15.16"
      ]
     },
     "execution_count": 15,
     "metadata": {},
     "output_type": "execute_result"
    }
   ],
   "source": [
    "data.head()"
   ]
  },
  {
   "cell_type": "code",
   "execution_count": 16,
   "metadata": {},
   "outputs": [
    {
     "data": {
      "application/vnd.plotly.v1+json": {
       "config": {
        "plotlyServerURL": "https://plot.ly"
       },
       "data": [
        {
         "hovertemplate": "variable=value<br>data=%{x}<br>_value=%{y}<extra></extra>",
         "legendgroup": "value",
         "line": {
          "color": "#636efa",
          "dash": "solid"
         },
         "mode": "lines",
         "name": "value",
         "orientation": "v",
         "showlegend": true,
         "type": "scatter",
         "x": [
          "01.01.2019",
          "02.01.2019",
          "03.01.2019",
          "05.01.2019",
          "06.01.2019",
          "07.01.2019",
          "08.01.2019",
          "09.01.2019",
          "10.01.2019",
          "11.01.2019",
          "12.01.2019",
          "13.01.2019",
          "14.01.2019",
          "17.01.2019",
          "18.01.2019",
          "19.01.2019",
          "20.01.2019",
          "21.01.2019",
          "22.01.2019",
          "23.01.2019",
          "25.01.2019",
          "26.01.2019",
          "27.01.2019",
          "28.01.2019",
          "29.01.2019",
          "30.01.2019",
          "31.01.2019",
          "01.02.2019",
          "02.02.2019",
          "03.02.2019",
          "04.02.2019",
          "05.02.2019",
          "06.02.2019",
          "08.02.2019",
          "10.02.2019",
          "12.02.2019",
          "13.02.2019",
          "15.02.2019",
          "16.02.2019",
          "18.02.2019",
          "19.02.2019",
          "20.02.2019",
          "21.02.2019",
          "22.02.2019",
          "23.02.2019",
          "25.02.2019",
          "26.02.2019",
          "28.02.2019",
          "02.03.2019",
          "03.03.2019",
          "04.03.2019",
          "05.03.2019",
          "06.03.2019",
          "07.03.2019",
          "08.03.2019",
          "10.03.2019",
          "12.03.2019",
          "13.03.2019",
          "14.03.2019",
          "15.03.2019",
          "16.03.2019",
          "17.03.2019",
          "18.03.2019",
          "19.03.2019",
          "20.03.2019",
          "21.03.2019",
          "22.03.2019",
          "23.03.2019",
          "24.03.2019",
          "25.03.2019",
          "26.03.2019",
          "27.03.2019",
          "28.03.2019",
          "29.03.2019",
          "30.03.2019",
          "31.03.2019",
          "01.04.2019",
          "02.04.2019",
          "03.04.2019",
          "04.04.2019",
          "05.04.2019",
          "06.04.2019",
          "07.04.2019",
          "08.04.2019",
          "09.04.2019",
          "10.04.2019",
          "11.04.2019",
          "12.04.2019",
          "13.04.2019",
          "14.04.2019",
          "15.04.2019",
          "16.04.2019",
          "17.04.2019",
          "18.04.2019",
          "19.04.2019",
          "20.04.2019",
          "21.04.2019",
          "22.04.2019",
          "23.04.2019",
          "24.04.2019",
          "25.04.2019",
          "26.04.2019",
          "27.04.2019",
          "28.04.2019",
          "29.04.2019",
          "30.04.2019",
          "01.05.2019",
          "02.05.2019",
          "03.05.2019",
          "04.05.2019",
          "05.05.2019",
          "06.05.2019",
          "07.05.2019",
          "08.05.2019",
          "09.05.2019",
          "10.05.2019",
          "11.05.2019",
          "12.05.2019",
          "13.05.2019",
          "14.05.2019",
          "15.05.2019",
          "16.05.2019",
          "17.05.2019",
          "18.05.2019",
          "19.05.2019",
          "20.05.2019",
          "21.05.2019",
          "22.05.2019",
          "23.05.2019",
          "24.05.2019",
          "25.05.2019",
          "26.05.2019",
          "27.05.2019",
          "28.05.2019",
          "29.05.2019",
          "30.05.2019",
          "31.05.2019",
          "01.06.2019",
          "02.06.2019",
          "03.06.2019"
         ],
         "xaxis": "x",
         "y": [
          14.77,
          14.83,
          16.2,
          15.5,
          15.16,
          16.17,
          15.43,
          16.18,
          16.51,
          15.01,
          16.14,
          16.64,
          16.71,
          15.98,
          15.69,
          8.13,
          8.8,
          9.95,
          9.8,
          10.57,
          10.36,
          11.34,
          11.65,
          12.08,
          12.2,
          11.83,
          12.32,
          12.37,
          12.4,
          13.02,
          11.84,
          13.13,
          12.37,
          12.75,
          14.28,
          14.04,
          14.67,
          15.52,
          14.49,
          14.74,
          15.99,
          14.47,
          15.93,
          15.2,
          16.11,
          16.19,
          15.89,
          16.09,
          14.78,
          15.64,
          8.12,
          9.53,
          10.72,
          10.98,
          11.13,
          10.53,
          12.35,
          12.24,
          12.44,
          12.96,
          13.09,
          12.8,
          13.13,
          13.29,
          13.01,
          11.13,
          10.96,
          10.76,
          11.52,
          11.21,
          14.58,
          14.77,
          16.49,
          15.52,
          15.89,
          16.84,
          15.84,
          16.78,
          16.01,
          16.26,
          17.12,
          16.39,
          17.2,
          15.57,
          15.97,
          8.55,
          9.16,
          10.45,
          10.95,
          11.74,
          10.47,
          12.59,
          12.13,
          12.51,
          12.63,
          12.76,
          13.26,
          13.46,
          13.29,
          13.52,
          11.49,
          12.83,
          11.69,
          12.46,
          13.33,
          14.96,
          15.12,
          16.68,
          15.23,
          15.48,
          16.5,
          15.82,
          16.52,
          16.6,
          16.67,
          17.14,
          16.39,
          17.09,
          15.51,
          16.31,
          8.84,
          9.59,
          10.51,
          11.13,
          11.15,
          11.32,
          12.74,
          12.77,
          13.02,
          12.83,
          12.72,
          13.26,
          13.76,
          13.54,
          13.95,
          12,
          13.13,
          12.01,
          12.68,
          13.6
         ],
         "yaxis": "y"
        }
       ],
       "layout": {
        "legend": {
         "title": {
          "text": "variable"
         },
         "tracegroupgap": 0
        },
        "template": {
         "data": {
          "bar": [
           {
            "error_x": {
             "color": "#2a3f5f"
            },
            "error_y": {
             "color": "#2a3f5f"
            },
            "marker": {
             "line": {
              "color": "#E5ECF6",
              "width": 0.5
             }
            },
            "type": "bar"
           }
          ],
          "barpolar": [
           {
            "marker": {
             "line": {
              "color": "#E5ECF6",
              "width": 0.5
             }
            },
            "type": "barpolar"
           }
          ],
          "carpet": [
           {
            "aaxis": {
             "endlinecolor": "#2a3f5f",
             "gridcolor": "white",
             "linecolor": "white",
             "minorgridcolor": "white",
             "startlinecolor": "#2a3f5f"
            },
            "baxis": {
             "endlinecolor": "#2a3f5f",
             "gridcolor": "white",
             "linecolor": "white",
             "minorgridcolor": "white",
             "startlinecolor": "#2a3f5f"
            },
            "type": "carpet"
           }
          ],
          "choropleth": [
           {
            "colorbar": {
             "outlinewidth": 0,
             "ticks": ""
            },
            "type": "choropleth"
           }
          ],
          "contour": [
           {
            "colorbar": {
             "outlinewidth": 0,
             "ticks": ""
            },
            "colorscale": [
             [
              0,
              "#0d0887"
             ],
             [
              0.1111111111111111,
              "#46039f"
             ],
             [
              0.2222222222222222,
              "#7201a8"
             ],
             [
              0.3333333333333333,
              "#9c179e"
             ],
             [
              0.4444444444444444,
              "#bd3786"
             ],
             [
              0.5555555555555556,
              "#d8576b"
             ],
             [
              0.6666666666666666,
              "#ed7953"
             ],
             [
              0.7777777777777778,
              "#fb9f3a"
             ],
             [
              0.8888888888888888,
              "#fdca26"
             ],
             [
              1,
              "#f0f921"
             ]
            ],
            "type": "contour"
           }
          ],
          "contourcarpet": [
           {
            "colorbar": {
             "outlinewidth": 0,
             "ticks": ""
            },
            "type": "contourcarpet"
           }
          ],
          "heatmap": [
           {
            "colorbar": {
             "outlinewidth": 0,
             "ticks": ""
            },
            "colorscale": [
             [
              0,
              "#0d0887"
             ],
             [
              0.1111111111111111,
              "#46039f"
             ],
             [
              0.2222222222222222,
              "#7201a8"
             ],
             [
              0.3333333333333333,
              "#9c179e"
             ],
             [
              0.4444444444444444,
              "#bd3786"
             ],
             [
              0.5555555555555556,
              "#d8576b"
             ],
             [
              0.6666666666666666,
              "#ed7953"
             ],
             [
              0.7777777777777778,
              "#fb9f3a"
             ],
             [
              0.8888888888888888,
              "#fdca26"
             ],
             [
              1,
              "#f0f921"
             ]
            ],
            "type": "heatmap"
           }
          ],
          "heatmapgl": [
           {
            "colorbar": {
             "outlinewidth": 0,
             "ticks": ""
            },
            "colorscale": [
             [
              0,
              "#0d0887"
             ],
             [
              0.1111111111111111,
              "#46039f"
             ],
             [
              0.2222222222222222,
              "#7201a8"
             ],
             [
              0.3333333333333333,
              "#9c179e"
             ],
             [
              0.4444444444444444,
              "#bd3786"
             ],
             [
              0.5555555555555556,
              "#d8576b"
             ],
             [
              0.6666666666666666,
              "#ed7953"
             ],
             [
              0.7777777777777778,
              "#fb9f3a"
             ],
             [
              0.8888888888888888,
              "#fdca26"
             ],
             [
              1,
              "#f0f921"
             ]
            ],
            "type": "heatmapgl"
           }
          ],
          "histogram": [
           {
            "marker": {
             "colorbar": {
              "outlinewidth": 0,
              "ticks": ""
             }
            },
            "type": "histogram"
           }
          ],
          "histogram2d": [
           {
            "colorbar": {
             "outlinewidth": 0,
             "ticks": ""
            },
            "colorscale": [
             [
              0,
              "#0d0887"
             ],
             [
              0.1111111111111111,
              "#46039f"
             ],
             [
              0.2222222222222222,
              "#7201a8"
             ],
             [
              0.3333333333333333,
              "#9c179e"
             ],
             [
              0.4444444444444444,
              "#bd3786"
             ],
             [
              0.5555555555555556,
              "#d8576b"
             ],
             [
              0.6666666666666666,
              "#ed7953"
             ],
             [
              0.7777777777777778,
              "#fb9f3a"
             ],
             [
              0.8888888888888888,
              "#fdca26"
             ],
             [
              1,
              "#f0f921"
             ]
            ],
            "type": "histogram2d"
           }
          ],
          "histogram2dcontour": [
           {
            "colorbar": {
             "outlinewidth": 0,
             "ticks": ""
            },
            "colorscale": [
             [
              0,
              "#0d0887"
             ],
             [
              0.1111111111111111,
              "#46039f"
             ],
             [
              0.2222222222222222,
              "#7201a8"
             ],
             [
              0.3333333333333333,
              "#9c179e"
             ],
             [
              0.4444444444444444,
              "#bd3786"
             ],
             [
              0.5555555555555556,
              "#d8576b"
             ],
             [
              0.6666666666666666,
              "#ed7953"
             ],
             [
              0.7777777777777778,
              "#fb9f3a"
             ],
             [
              0.8888888888888888,
              "#fdca26"
             ],
             [
              1,
              "#f0f921"
             ]
            ],
            "type": "histogram2dcontour"
           }
          ],
          "mesh3d": [
           {
            "colorbar": {
             "outlinewidth": 0,
             "ticks": ""
            },
            "type": "mesh3d"
           }
          ],
          "parcoords": [
           {
            "line": {
             "colorbar": {
              "outlinewidth": 0,
              "ticks": ""
             }
            },
            "type": "parcoords"
           }
          ],
          "pie": [
           {
            "automargin": true,
            "type": "pie"
           }
          ],
          "scatter": [
           {
            "marker": {
             "colorbar": {
              "outlinewidth": 0,
              "ticks": ""
             }
            },
            "type": "scatter"
           }
          ],
          "scatter3d": [
           {
            "line": {
             "colorbar": {
              "outlinewidth": 0,
              "ticks": ""
             }
            },
            "marker": {
             "colorbar": {
              "outlinewidth": 0,
              "ticks": ""
             }
            },
            "type": "scatter3d"
           }
          ],
          "scattercarpet": [
           {
            "marker": {
             "colorbar": {
              "outlinewidth": 0,
              "ticks": ""
             }
            },
            "type": "scattercarpet"
           }
          ],
          "scattergeo": [
           {
            "marker": {
             "colorbar": {
              "outlinewidth": 0,
              "ticks": ""
             }
            },
            "type": "scattergeo"
           }
          ],
          "scattergl": [
           {
            "marker": {
             "colorbar": {
              "outlinewidth": 0,
              "ticks": ""
             }
            },
            "type": "scattergl"
           }
          ],
          "scattermapbox": [
           {
            "marker": {
             "colorbar": {
              "outlinewidth": 0,
              "ticks": ""
             }
            },
            "type": "scattermapbox"
           }
          ],
          "scatterpolar": [
           {
            "marker": {
             "colorbar": {
              "outlinewidth": 0,
              "ticks": ""
             }
            },
            "type": "scatterpolar"
           }
          ],
          "scatterpolargl": [
           {
            "marker": {
             "colorbar": {
              "outlinewidth": 0,
              "ticks": ""
             }
            },
            "type": "scatterpolargl"
           }
          ],
          "scatterternary": [
           {
            "marker": {
             "colorbar": {
              "outlinewidth": 0,
              "ticks": ""
             }
            },
            "type": "scatterternary"
           }
          ],
          "surface": [
           {
            "colorbar": {
             "outlinewidth": 0,
             "ticks": ""
            },
            "colorscale": [
             [
              0,
              "#0d0887"
             ],
             [
              0.1111111111111111,
              "#46039f"
             ],
             [
              0.2222222222222222,
              "#7201a8"
             ],
             [
              0.3333333333333333,
              "#9c179e"
             ],
             [
              0.4444444444444444,
              "#bd3786"
             ],
             [
              0.5555555555555556,
              "#d8576b"
             ],
             [
              0.6666666666666666,
              "#ed7953"
             ],
             [
              0.7777777777777778,
              "#fb9f3a"
             ],
             [
              0.8888888888888888,
              "#fdca26"
             ],
             [
              1,
              "#f0f921"
             ]
            ],
            "type": "surface"
           }
          ],
          "table": [
           {
            "cells": {
             "fill": {
              "color": "#EBF0F8"
             },
             "line": {
              "color": "white"
             }
            },
            "header": {
             "fill": {
              "color": "#C8D4E3"
             },
             "line": {
              "color": "white"
             }
            },
            "type": "table"
           }
          ]
         },
         "layout": {
          "annotationdefaults": {
           "arrowcolor": "#2a3f5f",
           "arrowhead": 0,
           "arrowwidth": 1
          },
          "coloraxis": {
           "colorbar": {
            "outlinewidth": 0,
            "ticks": ""
           }
          },
          "colorscale": {
           "diverging": [
            [
             0,
             "#8e0152"
            ],
            [
             0.1,
             "#c51b7d"
            ],
            [
             0.2,
             "#de77ae"
            ],
            [
             0.3,
             "#f1b6da"
            ],
            [
             0.4,
             "#fde0ef"
            ],
            [
             0.5,
             "#f7f7f7"
            ],
            [
             0.6,
             "#e6f5d0"
            ],
            [
             0.7,
             "#b8e186"
            ],
            [
             0.8,
             "#7fbc41"
            ],
            [
             0.9,
             "#4d9221"
            ],
            [
             1,
             "#276419"
            ]
           ],
           "sequential": [
            [
             0,
             "#0d0887"
            ],
            [
             0.1111111111111111,
             "#46039f"
            ],
            [
             0.2222222222222222,
             "#7201a8"
            ],
            [
             0.3333333333333333,
             "#9c179e"
            ],
            [
             0.4444444444444444,
             "#bd3786"
            ],
            [
             0.5555555555555556,
             "#d8576b"
            ],
            [
             0.6666666666666666,
             "#ed7953"
            ],
            [
             0.7777777777777778,
             "#fb9f3a"
            ],
            [
             0.8888888888888888,
             "#fdca26"
            ],
            [
             1,
             "#f0f921"
            ]
           ],
           "sequentialminus": [
            [
             0,
             "#0d0887"
            ],
            [
             0.1111111111111111,
             "#46039f"
            ],
            [
             0.2222222222222222,
             "#7201a8"
            ],
            [
             0.3333333333333333,
             "#9c179e"
            ],
            [
             0.4444444444444444,
             "#bd3786"
            ],
            [
             0.5555555555555556,
             "#d8576b"
            ],
            [
             0.6666666666666666,
             "#ed7953"
            ],
            [
             0.7777777777777778,
             "#fb9f3a"
            ],
            [
             0.8888888888888888,
             "#fdca26"
            ],
            [
             1,
             "#f0f921"
            ]
           ]
          },
          "colorway": [
           "#636efa",
           "#EF553B",
           "#00cc96",
           "#ab63fa",
           "#FFA15A",
           "#19d3f3",
           "#FF6692",
           "#B6E880",
           "#FF97FF",
           "#FECB52"
          ],
          "font": {
           "color": "#2a3f5f"
          },
          "geo": {
           "bgcolor": "white",
           "lakecolor": "white",
           "landcolor": "#E5ECF6",
           "showlakes": true,
           "showland": true,
           "subunitcolor": "white"
          },
          "hoverlabel": {
           "align": "left"
          },
          "hovermode": "closest",
          "mapbox": {
           "style": "light"
          },
          "paper_bgcolor": "white",
          "plot_bgcolor": "#E5ECF6",
          "polar": {
           "angularaxis": {
            "gridcolor": "white",
            "linecolor": "white",
            "ticks": ""
           },
           "bgcolor": "#E5ECF6",
           "radialaxis": {
            "gridcolor": "white",
            "linecolor": "white",
            "ticks": ""
           }
          },
          "scene": {
           "xaxis": {
            "backgroundcolor": "#E5ECF6",
            "gridcolor": "white",
            "gridwidth": 2,
            "linecolor": "white",
            "showbackground": true,
            "ticks": "",
            "zerolinecolor": "white"
           },
           "yaxis": {
            "backgroundcolor": "#E5ECF6",
            "gridcolor": "white",
            "gridwidth": 2,
            "linecolor": "white",
            "showbackground": true,
            "ticks": "",
            "zerolinecolor": "white"
           },
           "zaxis": {
            "backgroundcolor": "#E5ECF6",
            "gridcolor": "white",
            "gridwidth": 2,
            "linecolor": "white",
            "showbackground": true,
            "ticks": "",
            "zerolinecolor": "white"
           }
          },
          "shapedefaults": {
           "line": {
            "color": "#2a3f5f"
           }
          },
          "ternary": {
           "aaxis": {
            "gridcolor": "white",
            "linecolor": "white",
            "ticks": ""
           },
           "baxis": {
            "gridcolor": "white",
            "linecolor": "white",
            "ticks": ""
           },
           "bgcolor": "#E5ECF6",
           "caxis": {
            "gridcolor": "white",
            "linecolor": "white",
            "ticks": ""
           }
          },
          "title": {
           "x": 0.05
          },
          "xaxis": {
           "automargin": true,
           "gridcolor": "white",
           "linecolor": "white",
           "ticks": "",
           "title": {
            "standoff": 15
           },
           "zerolinecolor": "white",
           "zerolinewidth": 2
          },
          "yaxis": {
           "automargin": true,
           "gridcolor": "white",
           "linecolor": "white",
           "ticks": "",
           "title": {
            "standoff": 15
           },
           "zerolinecolor": "white",
           "zerolinewidth": 2
          }
         }
        },
        "title": {
         "text": "Value data dependancy"
        },
        "xaxis": {
         "anchor": "y",
         "domain": [
          0,
          1
         ],
         "rangeslider": {
          "visible": true
         },
         "title": {
          "text": "data"
         }
        },
        "yaxis": {
         "anchor": "x",
         "domain": [
          0,
          1
         ],
         "title": {
          "text": "_value"
         }
        }
       }
      },
      "text/html": [
       "<div>\n",
       "        \n",
       "        \n",
       "            <div id=\"366d4c34-ab07-4950-bddf-df8724b59fbb\" class=\"plotly-graph-div\" style=\"height:525px; width:100%;\"></div>\n",
       "            <script type=\"text/javascript\">\n",
       "                require([\"plotly\"], function(Plotly) {\n",
       "                    window.PLOTLYENV=window.PLOTLYENV || {};\n",
       "                    \n",
       "                if (document.getElementById(\"366d4c34-ab07-4950-bddf-df8724b59fbb\")) {\n",
       "                    Plotly.newPlot(\n",
       "                        '366d4c34-ab07-4950-bddf-df8724b59fbb',\n",
       "                        [{\"hovertemplate\": \"variable=value<br>data=%{x}<br>_value=%{y}<extra></extra>\", \"legendgroup\": \"value\", \"line\": {\"color\": \"#636efa\", \"dash\": \"solid\"}, \"mode\": \"lines\", \"name\": \"value\", \"orientation\": \"v\", \"showlegend\": true, \"type\": \"scatter\", \"x\": [\"01.01.2019\", \"02.01.2019\", \"03.01.2019\", \"05.01.2019\", \"06.01.2019\", \"07.01.2019\", \"08.01.2019\", \"09.01.2019\", \"10.01.2019\", \"11.01.2019\", \"12.01.2019\", \"13.01.2019\", \"14.01.2019\", \"17.01.2019\", \"18.01.2019\", \"19.01.2019\", \"20.01.2019\", \"21.01.2019\", \"22.01.2019\", \"23.01.2019\", \"25.01.2019\", \"26.01.2019\", \"27.01.2019\", \"28.01.2019\", \"29.01.2019\", \"30.01.2019\", \"31.01.2019\", \"01.02.2019\", \"02.02.2019\", \"03.02.2019\", \"04.02.2019\", \"05.02.2019\", \"06.02.2019\", \"08.02.2019\", \"10.02.2019\", \"12.02.2019\", \"13.02.2019\", \"15.02.2019\", \"16.02.2019\", \"18.02.2019\", \"19.02.2019\", \"20.02.2019\", \"21.02.2019\", \"22.02.2019\", \"23.02.2019\", \"25.02.2019\", \"26.02.2019\", \"28.02.2019\", \"02.03.2019\", \"03.03.2019\", \"04.03.2019\", \"05.03.2019\", \"06.03.2019\", \"07.03.2019\", \"08.03.2019\", \"10.03.2019\", \"12.03.2019\", \"13.03.2019\", \"14.03.2019\", \"15.03.2019\", \"16.03.2019\", \"17.03.2019\", \"18.03.2019\", \"19.03.2019\", \"20.03.2019\", \"21.03.2019\", \"22.03.2019\", \"23.03.2019\", \"24.03.2019\", \"25.03.2019\", \"26.03.2019\", \"27.03.2019\", \"28.03.2019\", \"29.03.2019\", \"30.03.2019\", \"31.03.2019\", \"01.04.2019\", \"02.04.2019\", \"03.04.2019\", \"04.04.2019\", \"05.04.2019\", \"06.04.2019\", \"07.04.2019\", \"08.04.2019\", \"09.04.2019\", \"10.04.2019\", \"11.04.2019\", \"12.04.2019\", \"13.04.2019\", \"14.04.2019\", \"15.04.2019\", \"16.04.2019\", \"17.04.2019\", \"18.04.2019\", \"19.04.2019\", \"20.04.2019\", \"21.04.2019\", \"22.04.2019\", \"23.04.2019\", \"24.04.2019\", \"25.04.2019\", \"26.04.2019\", \"27.04.2019\", \"28.04.2019\", \"29.04.2019\", \"30.04.2019\", \"01.05.2019\", \"02.05.2019\", \"03.05.2019\", \"04.05.2019\", \"05.05.2019\", \"06.05.2019\", \"07.05.2019\", \"08.05.2019\", \"09.05.2019\", \"10.05.2019\", \"11.05.2019\", \"12.05.2019\", \"13.05.2019\", \"14.05.2019\", \"15.05.2019\", \"16.05.2019\", \"17.05.2019\", \"18.05.2019\", \"19.05.2019\", \"20.05.2019\", \"21.05.2019\", \"22.05.2019\", \"23.05.2019\", \"24.05.2019\", \"25.05.2019\", \"26.05.2019\", \"27.05.2019\", \"28.05.2019\", \"29.05.2019\", \"30.05.2019\", \"31.05.2019\", \"01.06.2019\", \"02.06.2019\", \"03.06.2019\"], \"xaxis\": \"x\", \"y\": [14.77, 14.83, 16.2, 15.5, 15.16, 16.17, 15.43, 16.18, 16.51, 15.01, 16.14, 16.64, 16.71, 15.98, 15.69, 8.13, 8.8, 9.95, 9.8, 10.57, 10.36, 11.34, 11.65, 12.08, 12.2, 11.83, 12.32, 12.37, 12.4, 13.02, 11.84, 13.13, 12.37, 12.75, 14.28, 14.04, 14.67, 15.52, 14.49, 14.74, 15.99, 14.47, 15.93, 15.2, 16.11, 16.19, 15.89, 16.09, 14.78, 15.64, 8.12, 9.53, 10.72, 10.98, 11.13, 10.53, 12.35, 12.24, 12.44, 12.96, 13.09, 12.8, 13.13, 13.29, 13.01, 11.13, 10.96, 10.76, 11.52, 11.21, 14.58, 14.77, 16.49, 15.52, 15.89, 16.84, 15.84, 16.78, 16.01, 16.26, 17.12, 16.39, 17.2, 15.57, 15.97, 8.55, 9.16, 10.45, 10.95, 11.74, 10.47, 12.59, 12.13, 12.51, 12.63, 12.76, 13.26, 13.46, 13.29, 13.52, 11.49, 12.83, 11.69, 12.46, 13.33, 14.96, 15.12, 16.68, 15.23, 15.48, 16.5, 15.82, 16.52, 16.6, 16.67, 17.14, 16.39, 17.09, 15.51, 16.31, 8.84, 9.59, 10.51, 11.13, 11.15, 11.32, 12.74, 12.77, 13.02, 12.83, 12.72, 13.26, 13.76, 13.54, 13.95, 12.0, 13.13, 12.01, 12.68, 13.6], \"yaxis\": \"y\"}],\n",
       "                        {\"legend\": {\"title\": {\"text\": \"variable\"}, \"tracegroupgap\": 0}, \"template\": {\"data\": {\"bar\": [{\"error_x\": {\"color\": \"#2a3f5f\"}, \"error_y\": {\"color\": \"#2a3f5f\"}, \"marker\": {\"line\": {\"color\": \"#E5ECF6\", \"width\": 0.5}}, \"type\": \"bar\"}], \"barpolar\": [{\"marker\": {\"line\": {\"color\": \"#E5ECF6\", \"width\": 0.5}}, \"type\": \"barpolar\"}], \"carpet\": [{\"aaxis\": {\"endlinecolor\": \"#2a3f5f\", \"gridcolor\": \"white\", \"linecolor\": \"white\", \"minorgridcolor\": \"white\", \"startlinecolor\": \"#2a3f5f\"}, \"baxis\": {\"endlinecolor\": \"#2a3f5f\", \"gridcolor\": \"white\", \"linecolor\": \"white\", \"minorgridcolor\": \"white\", \"startlinecolor\": \"#2a3f5f\"}, \"type\": \"carpet\"}], \"choropleth\": [{\"colorbar\": {\"outlinewidth\": 0, \"ticks\": \"\"}, \"type\": \"choropleth\"}], \"contour\": [{\"colorbar\": {\"outlinewidth\": 0, \"ticks\": \"\"}, \"colorscale\": [[0.0, \"#0d0887\"], [0.1111111111111111, \"#46039f\"], [0.2222222222222222, \"#7201a8\"], [0.3333333333333333, \"#9c179e\"], [0.4444444444444444, \"#bd3786\"], [0.5555555555555556, \"#d8576b\"], [0.6666666666666666, \"#ed7953\"], [0.7777777777777778, \"#fb9f3a\"], [0.8888888888888888, \"#fdca26\"], [1.0, \"#f0f921\"]], \"type\": \"contour\"}], \"contourcarpet\": [{\"colorbar\": {\"outlinewidth\": 0, \"ticks\": \"\"}, \"type\": \"contourcarpet\"}], \"heatmap\": [{\"colorbar\": {\"outlinewidth\": 0, \"ticks\": \"\"}, \"colorscale\": [[0.0, \"#0d0887\"], [0.1111111111111111, \"#46039f\"], [0.2222222222222222, \"#7201a8\"], [0.3333333333333333, \"#9c179e\"], [0.4444444444444444, \"#bd3786\"], [0.5555555555555556, \"#d8576b\"], [0.6666666666666666, \"#ed7953\"], [0.7777777777777778, \"#fb9f3a\"], [0.8888888888888888, \"#fdca26\"], [1.0, \"#f0f921\"]], \"type\": \"heatmap\"}], \"heatmapgl\": [{\"colorbar\": {\"outlinewidth\": 0, \"ticks\": \"\"}, \"colorscale\": [[0.0, \"#0d0887\"], [0.1111111111111111, \"#46039f\"], [0.2222222222222222, \"#7201a8\"], [0.3333333333333333, \"#9c179e\"], [0.4444444444444444, \"#bd3786\"], [0.5555555555555556, \"#d8576b\"], [0.6666666666666666, \"#ed7953\"], [0.7777777777777778, \"#fb9f3a\"], [0.8888888888888888, \"#fdca26\"], [1.0, \"#f0f921\"]], \"type\": \"heatmapgl\"}], \"histogram\": [{\"marker\": {\"colorbar\": {\"outlinewidth\": 0, \"ticks\": \"\"}}, \"type\": \"histogram\"}], \"histogram2d\": [{\"colorbar\": {\"outlinewidth\": 0, \"ticks\": \"\"}, \"colorscale\": [[0.0, \"#0d0887\"], [0.1111111111111111, \"#46039f\"], [0.2222222222222222, \"#7201a8\"], [0.3333333333333333, \"#9c179e\"], [0.4444444444444444, \"#bd3786\"], [0.5555555555555556, \"#d8576b\"], [0.6666666666666666, \"#ed7953\"], [0.7777777777777778, \"#fb9f3a\"], [0.8888888888888888, \"#fdca26\"], [1.0, \"#f0f921\"]], \"type\": \"histogram2d\"}], \"histogram2dcontour\": [{\"colorbar\": {\"outlinewidth\": 0, \"ticks\": \"\"}, \"colorscale\": [[0.0, \"#0d0887\"], [0.1111111111111111, \"#46039f\"], [0.2222222222222222, \"#7201a8\"], [0.3333333333333333, \"#9c179e\"], [0.4444444444444444, \"#bd3786\"], [0.5555555555555556, \"#d8576b\"], [0.6666666666666666, \"#ed7953\"], [0.7777777777777778, \"#fb9f3a\"], [0.8888888888888888, \"#fdca26\"], [1.0, \"#f0f921\"]], \"type\": \"histogram2dcontour\"}], \"mesh3d\": [{\"colorbar\": {\"outlinewidth\": 0, \"ticks\": \"\"}, \"type\": \"mesh3d\"}], \"parcoords\": [{\"line\": {\"colorbar\": {\"outlinewidth\": 0, \"ticks\": \"\"}}, \"type\": \"parcoords\"}], \"pie\": [{\"automargin\": true, \"type\": \"pie\"}], \"scatter\": [{\"marker\": {\"colorbar\": {\"outlinewidth\": 0, \"ticks\": \"\"}}, \"type\": \"scatter\"}], \"scatter3d\": [{\"line\": {\"colorbar\": {\"outlinewidth\": 0, \"ticks\": \"\"}}, \"marker\": {\"colorbar\": {\"outlinewidth\": 0, \"ticks\": \"\"}}, \"type\": \"scatter3d\"}], \"scattercarpet\": [{\"marker\": {\"colorbar\": {\"outlinewidth\": 0, \"ticks\": \"\"}}, \"type\": \"scattercarpet\"}], \"scattergeo\": [{\"marker\": {\"colorbar\": {\"outlinewidth\": 0, \"ticks\": \"\"}}, \"type\": \"scattergeo\"}], \"scattergl\": [{\"marker\": {\"colorbar\": {\"outlinewidth\": 0, \"ticks\": \"\"}}, \"type\": \"scattergl\"}], \"scattermapbox\": [{\"marker\": {\"colorbar\": {\"outlinewidth\": 0, \"ticks\": \"\"}}, \"type\": \"scattermapbox\"}], \"scatterpolar\": [{\"marker\": {\"colorbar\": {\"outlinewidth\": 0, \"ticks\": \"\"}}, \"type\": \"scatterpolar\"}], \"scatterpolargl\": [{\"marker\": {\"colorbar\": {\"outlinewidth\": 0, \"ticks\": \"\"}}, \"type\": \"scatterpolargl\"}], \"scatterternary\": [{\"marker\": {\"colorbar\": {\"outlinewidth\": 0, \"ticks\": \"\"}}, \"type\": \"scatterternary\"}], \"surface\": [{\"colorbar\": {\"outlinewidth\": 0, \"ticks\": \"\"}, \"colorscale\": [[0.0, \"#0d0887\"], [0.1111111111111111, \"#46039f\"], [0.2222222222222222, \"#7201a8\"], [0.3333333333333333, \"#9c179e\"], [0.4444444444444444, \"#bd3786\"], [0.5555555555555556, \"#d8576b\"], [0.6666666666666666, \"#ed7953\"], [0.7777777777777778, \"#fb9f3a\"], [0.8888888888888888, \"#fdca26\"], [1.0, \"#f0f921\"]], \"type\": \"surface\"}], \"table\": [{\"cells\": {\"fill\": {\"color\": \"#EBF0F8\"}, \"line\": {\"color\": \"white\"}}, \"header\": {\"fill\": {\"color\": \"#C8D4E3\"}, \"line\": {\"color\": \"white\"}}, \"type\": \"table\"}]}, \"layout\": {\"annotationdefaults\": {\"arrowcolor\": \"#2a3f5f\", \"arrowhead\": 0, \"arrowwidth\": 1}, \"coloraxis\": {\"colorbar\": {\"outlinewidth\": 0, \"ticks\": \"\"}}, \"colorscale\": {\"diverging\": [[0, \"#8e0152\"], [0.1, \"#c51b7d\"], [0.2, \"#de77ae\"], [0.3, \"#f1b6da\"], [0.4, \"#fde0ef\"], [0.5, \"#f7f7f7\"], [0.6, \"#e6f5d0\"], [0.7, \"#b8e186\"], [0.8, \"#7fbc41\"], [0.9, \"#4d9221\"], [1, \"#276419\"]], \"sequential\": [[0.0, \"#0d0887\"], [0.1111111111111111, \"#46039f\"], [0.2222222222222222, \"#7201a8\"], [0.3333333333333333, \"#9c179e\"], [0.4444444444444444, \"#bd3786\"], [0.5555555555555556, \"#d8576b\"], [0.6666666666666666, \"#ed7953\"], [0.7777777777777778, \"#fb9f3a\"], [0.8888888888888888, \"#fdca26\"], [1.0, \"#f0f921\"]], \"sequentialminus\": [[0.0, \"#0d0887\"], [0.1111111111111111, \"#46039f\"], [0.2222222222222222, \"#7201a8\"], [0.3333333333333333, \"#9c179e\"], [0.4444444444444444, \"#bd3786\"], [0.5555555555555556, \"#d8576b\"], [0.6666666666666666, \"#ed7953\"], [0.7777777777777778, \"#fb9f3a\"], [0.8888888888888888, \"#fdca26\"], [1.0, \"#f0f921\"]]}, \"colorway\": [\"#636efa\", \"#EF553B\", \"#00cc96\", \"#ab63fa\", \"#FFA15A\", \"#19d3f3\", \"#FF6692\", \"#B6E880\", \"#FF97FF\", \"#FECB52\"], \"font\": {\"color\": \"#2a3f5f\"}, \"geo\": {\"bgcolor\": \"white\", \"lakecolor\": \"white\", \"landcolor\": \"#E5ECF6\", \"showlakes\": true, \"showland\": true, \"subunitcolor\": \"white\"}, \"hoverlabel\": {\"align\": \"left\"}, \"hovermode\": \"closest\", \"mapbox\": {\"style\": \"light\"}, \"paper_bgcolor\": \"white\", \"plot_bgcolor\": \"#E5ECF6\", \"polar\": {\"angularaxis\": {\"gridcolor\": \"white\", \"linecolor\": \"white\", \"ticks\": \"\"}, \"bgcolor\": \"#E5ECF6\", \"radialaxis\": {\"gridcolor\": \"white\", \"linecolor\": \"white\", \"ticks\": \"\"}}, \"scene\": {\"xaxis\": {\"backgroundcolor\": \"#E5ECF6\", \"gridcolor\": \"white\", \"gridwidth\": 2, \"linecolor\": \"white\", \"showbackground\": true, \"ticks\": \"\", \"zerolinecolor\": \"white\"}, \"yaxis\": {\"backgroundcolor\": \"#E5ECF6\", \"gridcolor\": \"white\", \"gridwidth\": 2, \"linecolor\": \"white\", \"showbackground\": true, \"ticks\": \"\", \"zerolinecolor\": \"white\"}, \"zaxis\": {\"backgroundcolor\": \"#E5ECF6\", \"gridcolor\": \"white\", \"gridwidth\": 2, \"linecolor\": \"white\", \"showbackground\": true, \"ticks\": \"\", \"zerolinecolor\": \"white\"}}, \"shapedefaults\": {\"line\": {\"color\": \"#2a3f5f\"}}, \"ternary\": {\"aaxis\": {\"gridcolor\": \"white\", \"linecolor\": \"white\", \"ticks\": \"\"}, \"baxis\": {\"gridcolor\": \"white\", \"linecolor\": \"white\", \"ticks\": \"\"}, \"bgcolor\": \"#E5ECF6\", \"caxis\": {\"gridcolor\": \"white\", \"linecolor\": \"white\", \"ticks\": \"\"}}, \"title\": {\"x\": 0.05}, \"xaxis\": {\"automargin\": true, \"gridcolor\": \"white\", \"linecolor\": \"white\", \"ticks\": \"\", \"title\": {\"standoff\": 15}, \"zerolinecolor\": \"white\", \"zerolinewidth\": 2}, \"yaxis\": {\"automargin\": true, \"gridcolor\": \"white\", \"linecolor\": \"white\", \"ticks\": \"\", \"title\": {\"standoff\": 15}, \"zerolinecolor\": \"white\", \"zerolinewidth\": 2}}}, \"title\": {\"text\": \"Value data dependancy\"}, \"xaxis\": {\"anchor\": \"y\", \"domain\": [0.0, 1.0], \"rangeslider\": {\"visible\": true}, \"title\": {\"text\": \"data\"}}, \"yaxis\": {\"anchor\": \"x\", \"domain\": [0.0, 1.0], \"title\": {\"text\": \"_value\"}}},\n",
       "                        {\"responsive\": true}\n",
       "                    ).then(function(){\n",
       "                            \n",
       "var gd = document.getElementById('366d4c34-ab07-4950-bddf-df8724b59fbb');\n",
       "var x = new MutationObserver(function (mutations, observer) {{\n",
       "        var display = window.getComputedStyle(gd).display;\n",
       "        if (!display || display === 'none') {{\n",
       "            console.log([gd, 'removed!']);\n",
       "            Plotly.purge(gd);\n",
       "            observer.disconnect();\n",
       "        }}\n",
       "}});\n",
       "\n",
       "// Listen for the removal of the full notebook cells\n",
       "var notebookContainer = gd.closest('#notebook-container');\n",
       "if (notebookContainer) {{\n",
       "    x.observe(notebookContainer, {childList: true});\n",
       "}}\n",
       "\n",
       "// Listen for the clearing of the current output cell\n",
       "var outputEl = gd.closest('.output');\n",
       "if (outputEl) {{\n",
       "    x.observe(outputEl, {childList: true});\n",
       "}}\n",
       "\n",
       "                        })\n",
       "                };\n",
       "                });\n",
       "            </script>\n",
       "        </div>"
      ]
     },
     "metadata": {},
     "output_type": "display_data"
    }
   ],
   "source": [
    "# Строим временную зависимость данных\n",
    "fig = px.line(data,title=\"Value data dependancy\")\n",
    "fig.update_xaxes(rangeslider_visible=True)\n",
    "fig.show()"
   ]
  },
  {
   "cell_type": "code",
   "execution_count": 20,
   "metadata": {},
   "outputs": [
    {
     "data": {
      "image/png": "[encoded data removed]",
      "text/plain": [
       "<IPython.core.display.Image object>"
      ]
     },
     "execution_count": 20,
     "metadata": {},
     "output_type": "execute_result"
    }
   ],
   "source": [
    "from IPython.display import Image\n",
    "Image(filename='plot1.png') "
   ]
  },
  {
   "cell_type": "markdown",
   "metadata": {},
   "source": [
    "#### Из графика явно видна сезонность"
   ]
  },
  {
   "cell_type": "code",
   "execution_count": 4,
   "metadata": {
    "scrolled": false
   },
   "outputs": [
    {
     "data": {
      "application/vnd.plotly.v1+json": {
       "config": {
        "plotlyServerURL": "https://plot.ly"
       },
       "data": [
        {
         "hovertemplate": "variable=value<br>data=%{x}<br>_value=%{y}<extra></extra>",
         "legendgroup": "value",
         "line": {
          "color": "#636efa",
          "dash": "solid"
         },
         "mode": "lines",
         "name": "value",
         "orientation": "v",
         "showlegend": true,
         "type": "scatter",
         "x": [
          "04.02.2019",
          "05.02.2019",
          "06.02.2019",
          "08.02.2019",
          "10.02.2019",
          "12.02.2019",
          "13.02.2019",
          "15.02.2019",
          "16.02.2019",
          "18.02.2019",
          "19.02.2019",
          "20.02.2019",
          "21.02.2019",
          "22.02.2019",
          "23.02.2019",
          "25.02.2019",
          "26.02.2019",
          "28.02.2019",
          "02.03.2019",
          "03.03.2019",
          "04.03.2019",
          "05.03.2019",
          "06.03.2019",
          "07.03.2019",
          "08.03.2019",
          "10.03.2019",
          "12.03.2019",
          "13.03.2019",
          "14.03.2019",
          "15.03.2019",
          "16.03.2019",
          "17.03.2019",
          "18.03.2019",
          "19.03.2019",
          "20.03.2019",
          "21.03.2019",
          "22.03.2019",
          "23.03.2019",
          "24.03.2019",
          "25.03.2019",
          "26.03.2019",
          "27.03.2019",
          "28.03.2019",
          "29.03.2019",
          "30.03.2019",
          "31.03.2019",
          "01.04.2019",
          "02.04.2019",
          "03.04.2019",
          "04.04.2019",
          "05.04.2019",
          "06.04.2019",
          "07.04.2019",
          "08.04.2019",
          "09.04.2019",
          "10.04.2019",
          "11.04.2019",
          "12.04.2019",
          "13.04.2019",
          "14.04.2019",
          "15.04.2019",
          "16.04.2019",
          "17.04.2019",
          "18.04.2019",
          "19.04.2019",
          "20.04.2019",
          "21.04.2019",
          "22.04.2019",
          "23.04.2019",
          "24.04.2019",
          "25.04.2019",
          "26.04.2019",
          "27.04.2019",
          "28.04.2019",
          "29.04.2019",
          "30.04.2019",
          "01.05.2019",
          "02.05.2019",
          "03.05.2019",
          "04.05.2019",
          "05.05.2019",
          "06.05.2019",
          "07.05.2019",
          "08.05.2019",
          "09.05.2019",
          "10.05.2019",
          "11.05.2019",
          "12.05.2019",
          "13.05.2019",
          "14.05.2019",
          "15.05.2019",
          "16.05.2019",
          "17.05.2019",
          "18.05.2019",
          "19.05.2019",
          "20.05.2019",
          "21.05.2019",
          "22.05.2019",
          "23.05.2019",
          "24.05.2019",
          "25.05.2019",
          "26.05.2019",
          "27.05.2019",
          "28.05.2019",
          "29.05.2019",
          "30.05.2019",
          "31.05.2019",
          "01.06.2019",
          "02.06.2019",
          "03.06.2019"
         ],
         "xaxis": "x",
         "y": [
          13.360333333333328,
          13.303666666666661,
          13.175999999999995,
          13.084333333333328,
          13.054999999999994,
          12.983999999999993,
          12.95866666666666,
          12.93666666666666,
          12.869333333333326,
          12.860333333333328,
          12.855333333333329,
          12.782999999999996,
          12.756999999999998,
          12.730999999999996,
          12.744999999999997,
          13.013666666666664,
          13.249999999999996,
          13.454666666666663,
          13.620666666666661,
          13.78966666666666,
          13.714999999999995,
          13.65466666666666,
          13.623666666666661,
          13.586999999999996,
          13.55133333333333,
          13.507999999999997,
          13.508999999999997,
          13.504666666666663,
          13.505999999999998,
          13.503999999999998,
          13.545666666666666,
          13.534666666666665,
          13.559999999999999,
          13.578,
          13.535666666666666,
          13.438666666666666,
          13.314999999999998,
          13.15633333333333,
          13.05733333333333,
          12.939666666666662,
          12.892666666666662,
          12.90266666666666,
          12.921333333333328,
          12.931999999999993,
          12.92466666666666,
          12.946333333333325,
          12.944666666666658,
          12.967666666666661,
          13.008666666666661,
          13.029333333333328,
          13.329333333333327,
          13.557999999999995,
          13.773999999999994,
          13.926999999999992,
          14.088333333333328,
          14.022333333333329,
          13.915999999999995,
          13.856333333333328,
          13.806666666666661,
          13.765999999999995,
          13.678666666666663,
          13.671666666666662,
          13.638333333333328,
          13.612333333333329,
          13.59966666666666,
          13.653999999999995,
          13.73066666666666,
          13.82066666666666,
          13.879666666666662,
          13.956666666666662,
          13.853666666666664,
          13.788999999999996,
          13.628999999999996,
          13.526999999999996,
          13.441666666666663,
          13.378999999999996,
          13.354999999999997,
          13.351666666666665,
          13.325666666666667,
          13.299666666666667,
          13.279,
          13.26,
          13.237333333333334,
          13.271666666666668,
          13.295,
          13.581333333333333,
          13.822333333333331,
          14.043666666666665,
          14.195666666666664,
          14.347999999999997,
          14.293666666666663,
          14.193666666666664,
          14.139666666666663,
          14.093666666666662,
          14.044333333333329,
          13.996333333333329,
          13.978999999999996,
          13.955999999999996,
          13.946999999999996,
          13.923999999999996,
          13.964999999999996,
          13.97933333333333,
          14.048333333333328,
          14.08433333333333,
          14.104999999999997,
          14.006333333333332,
          13.939999999999998,
          13.78433333333333,
          13.69933333333333,
          13.636666666666663
         ],
         "yaxis": "y"
        }
       ],
       "layout": {
        "legend": {
         "title": {
          "text": "variable"
         },
         "tracegroupgap": 0
        },
        "template": {
         "data": {
          "bar": [
           {
            "error_x": {
             "color": "#2a3f5f"
            },
            "error_y": {
             "color": "#2a3f5f"
            },
            "marker": {
             "line": {
              "color": "#E5ECF6",
              "width": 0.5
             }
            },
            "type": "bar"
           }
          ],
          "barpolar": [
           {
            "marker": {
             "line": {
              "color": "#E5ECF6",
              "width": 0.5
             }
            },
            "type": "barpolar"
           }
          ],
          "carpet": [
           {
            "aaxis": {
             "endlinecolor": "#2a3f5f",
             "gridcolor": "white",
             "linecolor": "white",
             "minorgridcolor": "white",
             "startlinecolor": "#2a3f5f"
            },
            "baxis": {
             "endlinecolor": "#2a3f5f",
             "gridcolor": "white",
             "linecolor": "white",
             "minorgridcolor": "white",
             "startlinecolor": "#2a3f5f"
            },
            "type": "carpet"
           }
          ],
          "choropleth": [
           {
            "colorbar": {
             "outlinewidth": 0,
             "ticks": ""
            },
            "type": "choropleth"
           }
          ],
          "contour": [
           {
            "colorbar": {
             "outlinewidth": 0,
             "ticks": ""
            },
            "colorscale": [
             [
              0,
              "#0d0887"
             ],
             [
              0.1111111111111111,
              "#46039f"
             ],
             [
              0.2222222222222222,
              "#7201a8"
             ],
             [
              0.3333333333333333,
              "#9c179e"
             ],
             [
              0.4444444444444444,
              "#bd3786"
             ],
             [
              0.5555555555555556,
              "#d8576b"
             ],
             [
              0.6666666666666666,
              "#ed7953"
             ],
             [
              0.7777777777777778,
              "#fb9f3a"
             ],
             [
              0.8888888888888888,
              "#fdca26"
             ],
             [
              1,
              "#f0f921"
             ]
            ],
            "type": "contour"
           }
          ],
          "contourcarpet": [
           {
            "colorbar": {
             "outlinewidth": 0,
             "ticks": ""
            },
            "type": "contourcarpet"
           }
          ],
          "heatmap": [
           {
            "colorbar": {
             "outlinewidth": 0,
             "ticks": ""
            },
            "colorscale": [
             [
              0,
              "#0d0887"
             ],
             [
              0.1111111111111111,
              "#46039f"
             ],
             [
              0.2222222222222222,
              "#7201a8"
             ],
             [
              0.3333333333333333,
              "#9c179e"
             ],
             [
              0.4444444444444444,
              "#bd3786"
             ],
             [
              0.5555555555555556,
              "#d8576b"
             ],
             [
              0.6666666666666666,
              "#ed7953"
             ],
             [
              0.7777777777777778,
              "#fb9f3a"
             ],
             [
              0.8888888888888888,
              "#fdca26"
             ],
             [
              1,
              "#f0f921"
             ]
            ],
            "type": "heatmap"
           }
          ],
          "heatmapgl": [
           {
            "colorbar": {
             "outlinewidth": 0,
             "ticks": ""
            },
            "colorscale": [
             [
              0,
              "#0d0887"
             ],
             [
              0.1111111111111111,
              "#46039f"
             ],
             [
              0.2222222222222222,
              "#7201a8"
             ],
             [
              0.3333333333333333,
              "#9c179e"
             ],
             [
              0.4444444444444444,
              "#bd3786"
             ],
             [
              0.5555555555555556,
              "#d8576b"
             ],
             [
              0.6666666666666666,
              "#ed7953"
             ],
             [
              0.7777777777777778,
              "#fb9f3a"
             ],
             [
              0.8888888888888888,
              "#fdca26"
             ],
             [
              1,
              "#f0f921"
             ]
            ],
            "type": "heatmapgl"
           }
          ],
          "histogram": [
           {
            "marker": {
             "colorbar": {
              "outlinewidth": 0,
              "ticks": ""
             }
            },
            "type": "histogram"
           }
          ],
          "histogram2d": [
           {
            "colorbar": {
             "outlinewidth": 0,
             "ticks": ""
            },
            "colorscale": [
             [
              0,
              "#0d0887"
             ],
             [
              0.1111111111111111,
              "#46039f"
             ],
             [
              0.2222222222222222,
              "#7201a8"
             ],
             [
              0.3333333333333333,
              "#9c179e"
             ],
             [
              0.4444444444444444,
              "#bd3786"
             ],
             [
              0.5555555555555556,
              "#d8576b"
             ],
             [
              0.6666666666666666,
              "#ed7953"
             ],
             [
              0.7777777777777778,
              "#fb9f3a"
             ],
             [
              0.8888888888888888,
              "#fdca26"
             ],
             [
              1,
              "#f0f921"
             ]
            ],
            "type": "histogram2d"
           }
          ],
          "histogram2dcontour": [
           {
            "colorbar": {
             "outlinewidth": 0,
             "ticks": ""
            },
            "colorscale": [
             [
              0,
              "#0d0887"
             ],
             [
              0.1111111111111111,
              "#46039f"
             ],
             [
              0.2222222222222222,
              "#7201a8"
             ],
             [
              0.3333333333333333,
              "#9c179e"
             ],
             [
              0.4444444444444444,
              "#bd3786"
             ],
             [
              0.5555555555555556,
              "#d8576b"
             ],
             [
              0.6666666666666666,
              "#ed7953"
             ],
             [
              0.7777777777777778,
              "#fb9f3a"
             ],
             [
              0.8888888888888888,
              "#fdca26"
             ],
             [
              1,
              "#f0f921"
             ]
            ],
            "type": "histogram2dcontour"
           }
          ],
          "mesh3d": [
           {
            "colorbar": {
             "outlinewidth": 0,
             "ticks": ""
            },
            "type": "mesh3d"
           }
          ],
          "parcoords": [
           {
            "line": {
             "colorbar": {
              "outlinewidth": 0,
              "ticks": ""
             }
            },
            "type": "parcoords"
           }
          ],
          "pie": [
           {
            "automargin": true,
            "type": "pie"
           }
          ],
          "scatter": [
           {
            "marker": {
             "colorbar": {
              "outlinewidth": 0,
              "ticks": ""
             }
            },
            "type": "scatter"
           }
          ],
          "scatter3d": [
           {
            "line": {
             "colorbar": {
              "outlinewidth": 0,
              "ticks": ""
             }
            },
            "marker": {
             "colorbar": {
              "outlinewidth": 0,
              "ticks": ""
             }
            },
            "type": "scatter3d"
           }
          ],
          "scattercarpet": [
           {
            "marker": {
             "colorbar": {
              "outlinewidth": 0,
              "ticks": ""
             }
            },
            "type": "scattercarpet"
           }
          ],
          "scattergeo": [
           {
            "marker": {
             "colorbar": {
              "outlinewidth": 0,
              "ticks": ""
             }
            },
            "type": "scattergeo"
           }
          ],
          "scattergl": [
           {
            "marker": {
             "colorbar": {
              "outlinewidth": 0,
              "ticks": ""
             }
            },
            "type": "scattergl"
           }
          ],
          "scattermapbox": [
           {
            "marker": {
             "colorbar": {
              "outlinewidth": 0,
              "ticks": ""
             }
            },
            "type": "scattermapbox"
           }
          ],
          "scatterpolar": [
           {
            "marker": {
             "colorbar": {
              "outlinewidth": 0,
              "ticks": ""
             }
            },
            "type": "scatterpolar"
           }
          ],
          "scatterpolargl": [
           {
            "marker": {
             "colorbar": {
              "outlinewidth": 0,
              "ticks": ""
             }
            },
            "type": "scatterpolargl"
           }
          ],
          "scatterternary": [
           {
            "marker": {
             "colorbar": {
              "outlinewidth": 0,
              "ticks": ""
             }
            },
            "type": "scatterternary"
           }
          ],
          "surface": [
           {
            "colorbar": {
             "outlinewidth": 0,
             "ticks": ""
            },
            "colorscale": [
             [
              0,
              "#0d0887"
             ],
             [
              0.1111111111111111,
              "#46039f"
             ],
             [
              0.2222222222222222,
              "#7201a8"
             ],
             [
              0.3333333333333333,
              "#9c179e"
             ],
             [
              0.4444444444444444,
              "#bd3786"
             ],
             [
              0.5555555555555556,
              "#d8576b"
             ],
             [
              0.6666666666666666,
              "#ed7953"
             ],
             [
              0.7777777777777778,
              "#fb9f3a"
             ],
             [
              0.8888888888888888,
              "#fdca26"
             ],
             [
              1,
              "#f0f921"
             ]
            ],
            "type": "surface"
           }
          ],
          "table": [
           {
            "cells": {
             "fill": {
              "color": "#EBF0F8"
             },
             "line": {
              "color": "white"
             }
            },
            "header": {
             "fill": {
              "color": "#C8D4E3"
             },
             "line": {
              "color": "white"
             }
            },
            "type": "table"
           }
          ]
         },
         "layout": {
          "annotationdefaults": {
           "arrowcolor": "#2a3f5f",
           "arrowhead": 0,
           "arrowwidth": 1
          },
          "coloraxis": {
           "colorbar": {
            "outlinewidth": 0,
            "ticks": ""
           }
          },
          "colorscale": {
           "diverging": [
            [
             0,
             "#8e0152"
            ],
            [
             0.1,
             "#c51b7d"
            ],
            [
             0.2,
             "#de77ae"
            ],
            [
             0.3,
             "#f1b6da"
            ],
            [
             0.4,
             "#fde0ef"
            ],
            [
             0.5,
             "#f7f7f7"
            ],
            [
             0.6,
             "#e6f5d0"
            ],
            [
             0.7,
             "#b8e186"
            ],
            [
             0.8,
             "#7fbc41"
            ],
            [
             0.9,
             "#4d9221"
            ],
            [
             1,
             "#276419"
            ]
           ],
           "sequential": [
            [
             0,
             "#0d0887"
            ],
            [
             0.1111111111111111,
             "#46039f"
            ],
            [
             0.2222222222222222,
             "#7201a8"
            ],
            [
             0.3333333333333333,
             "#9c179e"
            ],
            [
             0.4444444444444444,
             "#bd3786"
            ],
            [
             0.5555555555555556,
             "#d8576b"
            ],
            [
             0.6666666666666666,
             "#ed7953"
            ],
            [
             0.7777777777777778,
             "#fb9f3a"
            ],
            [
             0.8888888888888888,
             "#fdca26"
            ],
            [
             1,
             "#f0f921"
            ]
           ],
           "sequentialminus": [
            [
             0,
             "#0d0887"
            ],
            [
             0.1111111111111111,
             "#46039f"
            ],
            [
             0.2222222222222222,
             "#7201a8"
            ],
            [
             0.3333333333333333,
             "#9c179e"
            ],
            [
             0.4444444444444444,
             "#bd3786"
            ],
            [
             0.5555555555555556,
             "#d8576b"
            ],
            [
             0.6666666666666666,
             "#ed7953"
            ],
            [
             0.7777777777777778,
             "#fb9f3a"
            ],
            [
             0.8888888888888888,
             "#fdca26"
            ],
            [
             1,
             "#f0f921"
            ]
           ]
          },
          "colorway": [
           "#636efa",
           "#EF553B",
           "#00cc96",
           "#ab63fa",
           "#FFA15A",
           "#19d3f3",
           "#FF6692",
           "#B6E880",
           "#FF97FF",
           "#FECB52"
          ],
          "font": {
           "color": "#2a3f5f"
          },
          "geo": {
           "bgcolor": "white",
           "lakecolor": "white",
           "landcolor": "#E5ECF6",
           "showlakes": true,
           "showland": true,
           "subunitcolor": "white"
          },
          "hoverlabel": {
           "align": "left"
          },
          "hovermode": "closest",
          "mapbox": {
           "style": "light"
          },
          "paper_bgcolor": "white",
          "plot_bgcolor": "#E5ECF6",
          "polar": {
           "angularaxis": {
            "gridcolor": "white",
            "linecolor": "white",
            "ticks": ""
           },
           "bgcolor": "#E5ECF6",
           "radialaxis": {
            "gridcolor": "white",
            "linecolor": "white",
            "ticks": ""
           }
          },
          "scene": {
           "xaxis": {
            "backgroundcolor": "#E5ECF6",
            "gridcolor": "white",
            "gridwidth": 2,
            "linecolor": "white",
            "showbackground": true,
            "ticks": "",
            "zerolinecolor": "white"
           },
           "yaxis": {
            "backgroundcolor": "#E5ECF6",
            "gridcolor": "white",
            "gridwidth": 2,
            "linecolor": "white",
            "showbackground": true,
            "ticks": "",
            "zerolinecolor": "white"
           },
           "zaxis": {
            "backgroundcolor": "#E5ECF6",
            "gridcolor": "white",
            "gridwidth": 2,
            "linecolor": "white",
            "showbackground": true,
            "ticks": "",
            "zerolinecolor": "white"
           }
          },
          "shapedefaults": {
           "line": {
            "color": "#2a3f5f"
           }
          },
          "ternary": {
           "aaxis": {
            "gridcolor": "white",
            "linecolor": "white",
            "ticks": ""
           },
           "baxis": {
            "gridcolor": "white",
            "linecolor": "white",
            "ticks": ""
           },
           "bgcolor": "#E5ECF6",
           "caxis": {
            "gridcolor": "white",
            "linecolor": "white",
            "ticks": ""
           }
          },
          "title": {
           "x": 0.05
          },
          "xaxis": {
           "automargin": true,
           "gridcolor": "white",
           "linecolor": "white",
           "ticks": "",
           "title": {
            "standoff": 15
           },
           "zerolinecolor": "white",
           "zerolinewidth": 2
          },
          "yaxis": {
           "automargin": true,
           "gridcolor": "white",
           "linecolor": "white",
           "ticks": "",
           "title": {
            "standoff": 15
           },
           "zerolinecolor": "white",
           "zerolinewidth": 2
          }
         }
        },
        "title": {
         "text": "Rolling mean trend, window = month"
        },
        "xaxis": {
         "anchor": "y",
         "domain": [
          0,
          1
         ],
         "title": {
          "text": "data"
         }
        },
        "yaxis": {
         "anchor": "x",
         "domain": [
          0,
          1
         ],
         "title": {
          "text": "_value"
         }
        }
       }
      },
      "text/html": [
       "<div>\n",
       "        \n",
       "        \n",
       "            <div id=\"0bc38943-f1e3-4d98-8a17-d150239603fd\" class=\"plotly-graph-div\" style=\"height:525px; width:100%;\"></div>\n",
       "            <script type=\"text/javascript\">\n",
       "                require([\"plotly\"], function(Plotly) {\n",
       "                    window.PLOTLYENV=window.PLOTLYENV || {};\n",
       "                    \n",
       "                if (document.getElementById(\"0bc38943-f1e3-4d98-8a17-d150239603fd\")) {\n",
       "                    Plotly.newPlot(\n",
       "                        '0bc38943-f1e3-4d98-8a17-d150239603fd',\n",
       "                        [{\"hovertemplate\": \"variable=value<br>data=%{x}<br>_value=%{y}<extra></extra>\", \"legendgroup\": \"value\", \"line\": {\"color\": \"#636efa\", \"dash\": \"solid\"}, \"mode\": \"lines\", \"name\": \"value\", \"orientation\": \"v\", \"showlegend\": true, \"type\": \"scatter\", \"x\": [\"04.02.2019\", \"05.02.2019\", \"06.02.2019\", \"08.02.2019\", \"10.02.2019\", \"12.02.2019\", \"13.02.2019\", \"15.02.2019\", \"16.02.2019\", \"18.02.2019\", \"19.02.2019\", \"20.02.2019\", \"21.02.2019\", \"22.02.2019\", \"23.02.2019\", \"25.02.2019\", \"26.02.2019\", \"28.02.2019\", \"02.03.2019\", \"03.03.2019\", \"04.03.2019\", \"05.03.2019\", \"06.03.2019\", \"07.03.2019\", \"08.03.2019\", \"10.03.2019\", \"12.03.2019\", \"13.03.2019\", \"14.03.2019\", \"15.03.2019\", \"16.03.2019\", \"17.03.2019\", \"18.03.2019\", \"19.03.2019\", \"20.03.2019\", \"21.03.2019\", \"22.03.2019\", \"23.03.2019\", \"24.03.2019\", \"25.03.2019\", \"26.03.2019\", \"27.03.2019\", \"28.03.2019\", \"29.03.2019\", \"30.03.2019\", \"31.03.2019\", \"01.04.2019\", \"02.04.2019\", \"03.04.2019\", \"04.04.2019\", \"05.04.2019\", \"06.04.2019\", \"07.04.2019\", \"08.04.2019\", \"09.04.2019\", \"10.04.2019\", \"11.04.2019\", \"12.04.2019\", \"13.04.2019\", \"14.04.2019\", \"15.04.2019\", \"16.04.2019\", \"17.04.2019\", \"18.04.2019\", \"19.04.2019\", \"20.04.2019\", \"21.04.2019\", \"22.04.2019\", \"23.04.2019\", \"24.04.2019\", \"25.04.2019\", \"26.04.2019\", \"27.04.2019\", \"28.04.2019\", \"29.04.2019\", \"30.04.2019\", \"01.05.2019\", \"02.05.2019\", \"03.05.2019\", \"04.05.2019\", \"05.05.2019\", \"06.05.2019\", \"07.05.2019\", \"08.05.2019\", \"09.05.2019\", \"10.05.2019\", \"11.05.2019\", \"12.05.2019\", \"13.05.2019\", \"14.05.2019\", \"15.05.2019\", \"16.05.2019\", \"17.05.2019\", \"18.05.2019\", \"19.05.2019\", \"20.05.2019\", \"21.05.2019\", \"22.05.2019\", \"23.05.2019\", \"24.05.2019\", \"25.05.2019\", \"26.05.2019\", \"27.05.2019\", \"28.05.2019\", \"29.05.2019\", \"30.05.2019\", \"31.05.2019\", \"01.06.2019\", \"02.06.2019\", \"03.06.2019\"], \"xaxis\": \"x\", \"y\": [13.360333333333328, 13.303666666666661, 13.175999999999995, 13.084333333333328, 13.054999999999994, 12.983999999999993, 12.95866666666666, 12.93666666666666, 12.869333333333326, 12.860333333333328, 12.855333333333329, 12.782999999999996, 12.756999999999998, 12.730999999999996, 12.744999999999997, 13.013666666666664, 13.249999999999996, 13.454666666666663, 13.620666666666661, 13.78966666666666, 13.714999999999995, 13.65466666666666, 13.623666666666661, 13.586999999999996, 13.55133333333333, 13.507999999999997, 13.508999999999997, 13.504666666666663, 13.505999999999998, 13.503999999999998, 13.545666666666666, 13.534666666666665, 13.559999999999999, 13.578, 13.535666666666666, 13.438666666666666, 13.314999999999998, 13.15633333333333, 13.05733333333333, 12.939666666666662, 12.892666666666662, 12.90266666666666, 12.921333333333328, 12.931999999999993, 12.92466666666666, 12.946333333333325, 12.944666666666658, 12.967666666666661, 13.008666666666661, 13.029333333333328, 13.329333333333327, 13.557999999999995, 13.773999999999994, 13.926999999999992, 14.088333333333328, 14.022333333333329, 13.915999999999995, 13.856333333333328, 13.806666666666661, 13.765999999999995, 13.678666666666663, 13.671666666666662, 13.638333333333328, 13.612333333333329, 13.59966666666666, 13.653999999999995, 13.73066666666666, 13.82066666666666, 13.879666666666662, 13.956666666666662, 13.853666666666664, 13.788999999999996, 13.628999999999996, 13.526999999999996, 13.441666666666663, 13.378999999999996, 13.354999999999997, 13.351666666666665, 13.325666666666667, 13.299666666666667, 13.279, 13.26, 13.237333333333334, 13.271666666666668, 13.295, 13.581333333333333, 13.822333333333331, 14.043666666666665, 14.195666666666664, 14.347999999999997, 14.293666666666663, 14.193666666666664, 14.139666666666663, 14.093666666666662, 14.044333333333329, 13.996333333333329, 13.978999999999996, 13.955999999999996, 13.946999999999996, 13.923999999999996, 13.964999999999996, 13.97933333333333, 14.048333333333328, 14.08433333333333, 14.104999999999997, 14.006333333333332, 13.939999999999998, 13.78433333333333, 13.69933333333333, 13.636666666666663], \"yaxis\": \"y\"}],\n",
       "                        {\"legend\": {\"title\": {\"text\": \"variable\"}, \"tracegroupgap\": 0}, \"template\": {\"data\": {\"bar\": [{\"error_x\": {\"color\": \"#2a3f5f\"}, \"error_y\": {\"color\": \"#2a3f5f\"}, \"marker\": {\"line\": {\"color\": \"#E5ECF6\", \"width\": 0.5}}, \"type\": \"bar\"}], \"barpolar\": [{\"marker\": {\"line\": {\"color\": \"#E5ECF6\", \"width\": 0.5}}, \"type\": \"barpolar\"}], \"carpet\": [{\"aaxis\": {\"endlinecolor\": \"#2a3f5f\", \"gridcolor\": \"white\", \"linecolor\": \"white\", \"minorgridcolor\": \"white\", \"startlinecolor\": \"#2a3f5f\"}, \"baxis\": {\"endlinecolor\": \"#2a3f5f\", \"gridcolor\": \"white\", \"linecolor\": \"white\", \"minorgridcolor\": \"white\", \"startlinecolor\": \"#2a3f5f\"}, \"type\": \"carpet\"}], \"choropleth\": [{\"colorbar\": {\"outlinewidth\": 0, \"ticks\": \"\"}, \"type\": \"choropleth\"}], \"contour\": [{\"colorbar\": {\"outlinewidth\": 0, \"ticks\": \"\"}, \"colorscale\": [[0.0, \"#0d0887\"], [0.1111111111111111, \"#46039f\"], [0.2222222222222222, \"#7201a8\"], [0.3333333333333333, \"#9c179e\"], [0.4444444444444444, \"#bd3786\"], [0.5555555555555556, \"#d8576b\"], [0.6666666666666666, \"#ed7953\"], [0.7777777777777778, \"#fb9f3a\"], [0.8888888888888888, \"#fdca26\"], [1.0, \"#f0f921\"]], \"type\": \"contour\"}], \"contourcarpet\": [{\"colorbar\": {\"outlinewidth\": 0, \"ticks\": \"\"}, \"type\": \"contourcarpet\"}], \"heatmap\": [{\"colorbar\": {\"outlinewidth\": 0, \"ticks\": \"\"}, \"colorscale\": [[0.0, \"#0d0887\"], [0.1111111111111111, \"#46039f\"], [0.2222222222222222, \"#7201a8\"], [0.3333333333333333, \"#9c179e\"], [0.4444444444444444, \"#bd3786\"], [0.5555555555555556, \"#d8576b\"], [0.6666666666666666, \"#ed7953\"], [0.7777777777777778, \"#fb9f3a\"], [0.8888888888888888, \"#fdca26\"], [1.0, \"#f0f921\"]], \"type\": \"heatmap\"}], \"heatmapgl\": [{\"colorbar\": {\"outlinewidth\": 0, \"ticks\": \"\"}, \"colorscale\": [[0.0, \"#0d0887\"], [0.1111111111111111, \"#46039f\"], [0.2222222222222222, \"#7201a8\"], [0.3333333333333333, \"#9c179e\"], [0.4444444444444444, \"#bd3786\"], [0.5555555555555556, \"#d8576b\"], [0.6666666666666666, \"#ed7953\"], [0.7777777777777778, \"#fb9f3a\"], [0.8888888888888888, \"#fdca26\"], [1.0, \"#f0f921\"]], \"type\": \"heatmapgl\"}], \"histogram\": [{\"marker\": {\"colorbar\": {\"outlinewidth\": 0, \"ticks\": \"\"}}, \"type\": \"histogram\"}], \"histogram2d\": [{\"colorbar\": {\"outlinewidth\": 0, \"ticks\": \"\"}, \"colorscale\": [[0.0, \"#0d0887\"], [0.1111111111111111, \"#46039f\"], [0.2222222222222222, \"#7201a8\"], [0.3333333333333333, \"#9c179e\"], [0.4444444444444444, \"#bd3786\"], [0.5555555555555556, \"#d8576b\"], [0.6666666666666666, \"#ed7953\"], [0.7777777777777778, \"#fb9f3a\"], [0.8888888888888888, \"#fdca26\"], [1.0, \"#f0f921\"]], \"type\": \"histogram2d\"}], \"histogram2dcontour\": [{\"colorbar\": {\"outlinewidth\": 0, \"ticks\": \"\"}, \"colorscale\": [[0.0, \"#0d0887\"], [0.1111111111111111, \"#46039f\"], [0.2222222222222222, \"#7201a8\"], [0.3333333333333333, \"#9c179e\"], [0.4444444444444444, \"#bd3786\"], [0.5555555555555556, \"#d8576b\"], [0.6666666666666666, \"#ed7953\"], [0.7777777777777778, \"#fb9f3a\"], [0.8888888888888888, \"#fdca26\"], [1.0, \"#f0f921\"]], \"type\": \"histogram2dcontour\"}], \"mesh3d\": [{\"colorbar\": {\"outlinewidth\": 0, \"ticks\": \"\"}, \"type\": \"mesh3d\"}], \"parcoords\": [{\"line\": {\"colorbar\": {\"outlinewidth\": 0, \"ticks\": \"\"}}, \"type\": \"parcoords\"}], \"pie\": [{\"automargin\": true, \"type\": \"pie\"}], \"scatter\": [{\"marker\": {\"colorbar\": {\"outlinewidth\": 0, \"ticks\": \"\"}}, \"type\": \"scatter\"}], \"scatter3d\": [{\"line\": {\"colorbar\": {\"outlinewidth\": 0, \"ticks\": \"\"}}, \"marker\": {\"colorbar\": {\"outlinewidth\": 0, \"ticks\": \"\"}}, \"type\": \"scatter3d\"}], \"scattercarpet\": [{\"marker\": {\"colorbar\": {\"outlinewidth\": 0, \"ticks\": \"\"}}, \"type\": \"scattercarpet\"}], \"scattergeo\": [{\"marker\": {\"colorbar\": {\"outlinewidth\": 0, \"ticks\": \"\"}}, \"type\": \"scattergeo\"}], \"scattergl\": [{\"marker\": {\"colorbar\": {\"outlinewidth\": 0, \"ticks\": \"\"}}, \"type\": \"scattergl\"}], \"scattermapbox\": [{\"marker\": {\"colorbar\": {\"outlinewidth\": 0, \"ticks\": \"\"}}, \"type\": \"scattermapbox\"}], \"scatterpolar\": [{\"marker\": {\"colorbar\": {\"outlinewidth\": 0, \"ticks\": \"\"}}, \"type\": \"scatterpolar\"}], \"scatterpolargl\": [{\"marker\": {\"colorbar\": {\"outlinewidth\": 0, \"ticks\": \"\"}}, \"type\": \"scatterpolargl\"}], \"scatterternary\": [{\"marker\": {\"colorbar\": {\"outlinewidth\": 0, \"ticks\": \"\"}}, \"type\": \"scatterternary\"}], \"surface\": [{\"colorbar\": {\"outlinewidth\": 0, \"ticks\": \"\"}, \"colorscale\": [[0.0, \"#0d0887\"], [0.1111111111111111, \"#46039f\"], [0.2222222222222222, \"#7201a8\"], [0.3333333333333333, \"#9c179e\"], [0.4444444444444444, \"#bd3786\"], [0.5555555555555556, \"#d8576b\"], [0.6666666666666666, \"#ed7953\"], [0.7777777777777778, \"#fb9f3a\"], [0.8888888888888888, \"#fdca26\"], [1.0, \"#f0f921\"]], \"type\": \"surface\"}], \"table\": [{\"cells\": {\"fill\": {\"color\": \"#EBF0F8\"}, \"line\": {\"color\": \"white\"}}, \"header\": {\"fill\": {\"color\": \"#C8D4E3\"}, \"line\": {\"color\": \"white\"}}, \"type\": \"table\"}]}, \"layout\": {\"annotationdefaults\": {\"arrowcolor\": \"#2a3f5f\", \"arrowhead\": 0, \"arrowwidth\": 1}, \"coloraxis\": {\"colorbar\": {\"outlinewidth\": 0, \"ticks\": \"\"}}, \"colorscale\": {\"diverging\": [[0, \"#8e0152\"], [0.1, \"#c51b7d\"], [0.2, \"#de77ae\"], [0.3, \"#f1b6da\"], [0.4, \"#fde0ef\"], [0.5, \"#f7f7f7\"], [0.6, \"#e6f5d0\"], [0.7, \"#b8e186\"], [0.8, \"#7fbc41\"], [0.9, \"#4d9221\"], [1, \"#276419\"]], \"sequential\": [[0.0, \"#0d0887\"], [0.1111111111111111, \"#46039f\"], [0.2222222222222222, \"#7201a8\"], [0.3333333333333333, \"#9c179e\"], [0.4444444444444444, \"#bd3786\"], [0.5555555555555556, \"#d8576b\"], [0.6666666666666666, \"#ed7953\"], [0.7777777777777778, \"#fb9f3a\"], [0.8888888888888888, \"#fdca26\"], [1.0, \"#f0f921\"]], \"sequentialminus\": [[0.0, \"#0d0887\"], [0.1111111111111111, \"#46039f\"], [0.2222222222222222, \"#7201a8\"], [0.3333333333333333, \"#9c179e\"], [0.4444444444444444, \"#bd3786\"], [0.5555555555555556, \"#d8576b\"], [0.6666666666666666, \"#ed7953\"], [0.7777777777777778, \"#fb9f3a\"], [0.8888888888888888, \"#fdca26\"], [1.0, \"#f0f921\"]]}, \"colorway\": [\"#636efa\", \"#EF553B\", \"#00cc96\", \"#ab63fa\", \"#FFA15A\", \"#19d3f3\", \"#FF6692\", \"#B6E880\", \"#FF97FF\", \"#FECB52\"], \"font\": {\"color\": \"#2a3f5f\"}, \"geo\": {\"bgcolor\": \"white\", \"lakecolor\": \"white\", \"landcolor\": \"#E5ECF6\", \"showlakes\": true, \"showland\": true, \"subunitcolor\": \"white\"}, \"hoverlabel\": {\"align\": \"left\"}, \"hovermode\": \"closest\", \"mapbox\": {\"style\": \"light\"}, \"paper_bgcolor\": \"white\", \"plot_bgcolor\": \"#E5ECF6\", \"polar\": {\"angularaxis\": {\"gridcolor\": \"white\", \"linecolor\": \"white\", \"ticks\": \"\"}, \"bgcolor\": \"#E5ECF6\", \"radialaxis\": {\"gridcolor\": \"white\", \"linecolor\": \"white\", \"ticks\": \"\"}}, \"scene\": {\"xaxis\": {\"backgroundcolor\": \"#E5ECF6\", \"gridcolor\": \"white\", \"gridwidth\": 2, \"linecolor\": \"white\", \"showbackground\": true, \"ticks\": \"\", \"zerolinecolor\": \"white\"}, \"yaxis\": {\"backgroundcolor\": \"#E5ECF6\", \"gridcolor\": \"white\", \"gridwidth\": 2, \"linecolor\": \"white\", \"showbackground\": true, \"ticks\": \"\", \"zerolinecolor\": \"white\"}, \"zaxis\": {\"backgroundcolor\": \"#E5ECF6\", \"gridcolor\": \"white\", \"gridwidth\": 2, \"linecolor\": \"white\", \"showbackground\": true, \"ticks\": \"\", \"zerolinecolor\": \"white\"}}, \"shapedefaults\": {\"line\": {\"color\": \"#2a3f5f\"}}, \"ternary\": {\"aaxis\": {\"gridcolor\": \"white\", \"linecolor\": \"white\", \"ticks\": \"\"}, \"baxis\": {\"gridcolor\": \"white\", \"linecolor\": \"white\", \"ticks\": \"\"}, \"bgcolor\": \"#E5ECF6\", \"caxis\": {\"gridcolor\": \"white\", \"linecolor\": \"white\", \"ticks\": \"\"}}, \"title\": {\"x\": 0.05}, \"xaxis\": {\"automargin\": true, \"gridcolor\": \"white\", \"linecolor\": \"white\", \"ticks\": \"\", \"title\": {\"standoff\": 15}, \"zerolinecolor\": \"white\", \"zerolinewidth\": 2}, \"yaxis\": {\"automargin\": true, \"gridcolor\": \"white\", \"linecolor\": \"white\", \"ticks\": \"\", \"title\": {\"standoff\": 15}, \"zerolinecolor\": \"white\", \"zerolinewidth\": 2}}}, \"title\": {\"text\": \"Rolling mean trend, window = month\"}, \"xaxis\": {\"anchor\": \"y\", \"domain\": [0.0, 1.0], \"title\": {\"text\": \"data\"}}, \"yaxis\": {\"anchor\": \"x\", \"domain\": [0.0, 1.0], \"title\": {\"text\": \"_value\"}}},\n",
       "                        {\"responsive\": true}\n",
       "                    ).then(function(){\n",
       "                            \n",
       "var gd = document.getElementById('0bc38943-f1e3-4d98-8a17-d150239603fd');\n",
       "var x = new MutationObserver(function (mutations, observer) {{\n",
       "        var display = window.getComputedStyle(gd).display;\n",
       "        if (!display || display === 'none') {{\n",
       "            console.log([gd, 'removed!']);\n",
       "            Plotly.purge(gd);\n",
       "            observer.disconnect();\n",
       "        }}\n",
       "}});\n",
       "\n",
       "// Listen for the removal of the full notebook cells\n",
       "var notebookContainer = gd.closest('#notebook-container');\n",
       "if (notebookContainer) {{\n",
       "    x.observe(notebookContainer, {childList: true});\n",
       "}}\n",
       "\n",
       "// Listen for the clearing of the current output cell\n",
       "var outputEl = gd.closest('.output');\n",
       "if (outputEl) {{\n",
       "    x.observe(outputEl, {childList: true});\n",
       "}}\n",
       "\n",
       "                        })\n",
       "                };\n",
       "                });\n",
       "            </script>\n",
       "        </div>"
      ]
     },
     "metadata": {},
     "output_type": "display_data"
    }
   ],
   "source": [
    "px.line(data.rolling(window=30).mean()[30:], title='Rolling mean trend, window = month')"
   ]
  },
  {
   "cell_type": "code",
   "execution_count": 21,
   "metadata": {},
   "outputs": [
    {
     "data": {
      "image/png": "[encoded data removed]",
      "text/plain": [
       "<IPython.core.display.Image object>"
      ]
     },
     "execution_count": 21,
     "metadata": {},
     "output_type": "execute_result"
    }
   ],
   "source": [
    "Image(filename='plot2.png') "
   ]
  },
  {
   "cell_type": "markdown",
   "metadata": {},
   "source": [
    "#### После построения графика скользящей средней по 30 наблюдениям, отчетливо заметно наличие возрастающего тренда"
   ]
  },
  {
   "cell_type": "code",
   "execution_count": 5,
   "metadata": {},
   "outputs": [
    {
     "data": {
      "text/html": [
       "<div>\n",
       "<style scoped>\n",
       "    .dataframe tbody tr th:only-of-type {\n",
       "        vertical-align: middle;\n",
       "    }\n",
       "\n",
       "    .dataframe tbody tr th {\n",
       "        vertical-align: top;\n",
       "    }\n",
       "\n",
       "    .dataframe thead th {\n",
       "        text-align: right;\n",
       "    }\n",
       "</style>\n",
       "<table border=\"1\" class=\"dataframe\">\n",
       "  <thead>\n",
       "    <tr style=\"text-align: right;\">\n",
       "      <th></th>\n",
       "      <th>value</th>\n",
       "    </tr>\n",
       "    <tr>\n",
       "      <th>data</th>\n",
       "      <th></th>\n",
       "    </tr>\n",
       "  </thead>\n",
       "  <tbody>\n",
       "    <tr>\n",
       "      <th>01.01.2019</th>\n",
       "      <td>14.77</td>\n",
       "    </tr>\n",
       "    <tr>\n",
       "      <th>02.01.2019</th>\n",
       "      <td>14.83</td>\n",
       "    </tr>\n",
       "    <tr>\n",
       "      <th>03.01.2019</th>\n",
       "      <td>16.20</td>\n",
       "    </tr>\n",
       "    <tr>\n",
       "      <th>05.01.2019</th>\n",
       "      <td>15.50</td>\n",
       "    </tr>\n",
       "    <tr>\n",
       "      <th>06.01.2019</th>\n",
       "      <td>15.16</td>\n",
       "    </tr>\n",
       "  </tbody>\n",
       "</table>\n",
       "</div>"
      ],
      "text/plain": [
       "            value\n",
       "data             \n",
       "01.01.2019  14.77\n",
       "02.01.2019  14.83\n",
       "03.01.2019  16.20\n",
       "05.01.2019  15.50\n",
       "06.01.2019  15.16"
      ]
     },
     "execution_count": 5,
     "metadata": {},
     "output_type": "execute_result"
    }
   ],
   "source": [
    "data.head()"
   ]
  },
  {
   "cell_type": "code",
   "execution_count": 6,
   "metadata": {},
   "outputs": [],
   "source": [
    "def timeseriesCVscore(x):\n",
    "    errors = []\n",
    "    values = data.value\n",
    "    alpha, beta, gamma = x\n",
    "    \n",
    "    #Применяет экспоненциальное сглаживанеи\n",
    "    model = ExponentialSmoothing(data.value, trend='add', seasonal='add', seasonal_periods=35, damped=True)\n",
    "    #Обучаем модель на переданных параметрах\n",
    "    fitted = model.fit(optimized=True, smoothing_level = alpha, smoothing_slope=beta, smoothing_seasonal=gamma)\n",
    "\n",
    "    #Строим предсказания \n",
    "    predictions = fitted.predict(start=data.value.index[0], end=data.value.index[-1])\n",
    "    actual = values\n",
    "    \n",
    "    #Возвращаем корень из среднеквадратичной ошибки\n",
    "    return mean_squared_error(predictions, actual, squared=False)"
   ]
  },
  {
   "cell_type": "code",
   "execution_count": 7,
   "metadata": {},
   "outputs": [
    {
     "name": "stdout",
     "output_type": "stream",
     "text": [
      "0.5828712085445965 0.013231114285900958 0.0\n",
      "Wall time: 4.23 s\n"
     ]
    }
   ],
   "source": [
    "%%time\n",
    "x = [0, 0, 0] \n",
    "# ищем оптимальные параметры модели\n",
    "opt = minimize(timeseriesCVscore, x0=x, method=\"TNC\", bounds = ((0, 1), (0, 1), (0, 1)))\n",
    "\n",
    "alpha_final, beta_final, gamma_final = opt.x\n",
    "print(alpha_final, beta_final, gamma_final)"
   ]
  },
  {
   "cell_type": "code",
   "execution_count": 8,
   "metadata": {},
   "outputs": [],
   "source": [
    "# Обучаем модель с оптимальными параметрами\n",
    "\n",
    "model = ExponentialSmoothing(data.value, trend='add', seasonal='add', seasonal_periods=35, damped=True)\n",
    "fitted = model.fit(optimized=True, smoothing_level = alpha_final, smoothing_slope=beta_final, smoothing_seasonal=gamma_final)"
   ]
  },
  {
   "cell_type": "code",
   "execution_count": 9,
   "metadata": {},
   "outputs": [],
   "source": [
    "# Восстанавлиаем исходную выборку с помощью обученной модели Хольта-Винтерса\n",
    "\n",
    "data2 = data.copy()\n",
    "data2[\"Holt-Winters\"] = fitted.fittedvalues"
   ]
  },
  {
   "cell_type": "code",
   "execution_count": 10,
   "metadata": {},
   "outputs": [
    {
     "data": {
      "application/vnd.plotly.v1+json": {
       "config": {
        "plotlyServerURL": "https://plot.ly"
       },
       "data": [
        {
         "hovertemplate": "variable=value<br>data=%{x}<br>_value=%{y}<extra></extra>",
         "legendgroup": "value",
         "line": {
          "color": "#636efa",
          "dash": "solid"
         },
         "mode": "lines",
         "name": "value",
         "orientation": "v",
         "showlegend": true,
         "type": "scatter",
         "x": [
          "01.01.2019",
          "02.01.2019",
          "03.01.2019",
          "05.01.2019",
          "06.01.2019",
          "07.01.2019",
          "08.01.2019",
          "09.01.2019",
          "10.01.2019",
          "11.01.2019",
          "12.01.2019",
          "13.01.2019",
          "14.01.2019",
          "17.01.2019",
          "18.01.2019",
          "19.01.2019",
          "20.01.2019",
          "21.01.2019",
          "22.01.2019",
          "23.01.2019",
          "25.01.2019",
          "26.01.2019",
          "27.01.2019",
          "28.01.2019",
          "29.01.2019",
          "30.01.2019",
          "31.01.2019",
          "01.02.2019",
          "02.02.2019",
          "03.02.2019",
          "04.02.2019",
          "05.02.2019",
          "06.02.2019",
          "08.02.2019",
          "10.02.2019",
          "12.02.2019",
          "13.02.2019",
          "15.02.2019",
          "16.02.2019",
          "18.02.2019",
          "19.02.2019",
          "20.02.2019",
          "21.02.2019",
          "22.02.2019",
          "23.02.2019",
          "25.02.2019",
          "26.02.2019",
          "28.02.2019",
          "02.03.2019",
          "03.03.2019",
          "04.03.2019",
          "05.03.2019",
          "06.03.2019",
          "07.03.2019",
          "08.03.2019",
          "10.03.2019",
          "12.03.2019",
          "13.03.2019",
          "14.03.2019",
          "15.03.2019",
          "16.03.2019",
          "17.03.2019",
          "18.03.2019",
          "19.03.2019",
          "20.03.2019",
          "21.03.2019",
          "22.03.2019",
          "23.03.2019",
          "24.03.2019",
          "25.03.2019",
          "26.03.2019",
          "27.03.2019",
          "28.03.2019",
          "29.03.2019",
          "30.03.2019",
          "31.03.2019",
          "01.04.2019",
          "02.04.2019",
          "03.04.2019",
          "04.04.2019",
          "05.04.2019",
          "06.04.2019",
          "07.04.2019",
          "08.04.2019",
          "09.04.2019",
          "10.04.2019",
          "11.04.2019",
          "12.04.2019",
          "13.04.2019",
          "14.04.2019",
          "15.04.2019",
          "16.04.2019",
          "17.04.2019",
          "18.04.2019",
          "19.04.2019",
          "20.04.2019",
          "21.04.2019",
          "22.04.2019",
          "23.04.2019",
          "24.04.2019",
          "25.04.2019",
          "26.04.2019",
          "27.04.2019",
          "28.04.2019",
          "29.04.2019",
          "30.04.2019",
          "01.05.2019",
          "02.05.2019",
          "03.05.2019",
          "04.05.2019",
          "05.05.2019",
          "06.05.2019",
          "07.05.2019",
          "08.05.2019",
          "09.05.2019",
          "10.05.2019",
          "11.05.2019",
          "12.05.2019",
          "13.05.2019",
          "14.05.2019",
          "15.05.2019",
          "16.05.2019",
          "17.05.2019",
          "18.05.2019",
          "19.05.2019",
          "20.05.2019",
          "21.05.2019",
          "22.05.2019",
          "23.05.2019",
          "24.05.2019",
          "25.05.2019",
          "26.05.2019",
          "27.05.2019",
          "28.05.2019",
          "29.05.2019",
          "30.05.2019",
          "31.05.2019",
          "01.06.2019",
          "02.06.2019",
          "03.06.2019"
         ],
         "xaxis": "x",
         "y": [
          14.77,
          14.83,
          16.2,
          15.5,
          15.16,
          16.17,
          15.43,
          16.18,
          16.51,
          15.01,
          16.14,
          16.64,
          16.71,
          15.98,
          15.69,
          8.13,
          8.8,
          9.95,
          9.8,
          10.57,
          10.36,
          11.34,
          11.65,
          12.08,
          12.2,
          11.83,
          12.32,
          12.37,
          12.4,
          13.02,
          11.84,
          13.13,
          12.37,
          12.75,
          14.28,
          14.04,
          14.67,
          15.52,
          14.49,
          14.74,
          15.99,
          14.47,
          15.93,
          15.2,
          16.11,
          16.19,
          15.89,
          16.09,
          14.78,
          15.64,
          8.12,
          9.53,
          10.72,
          10.98,
          11.13,
          10.53,
          12.35,
          12.24,
          12.44,
          12.96,
          13.09,
          12.8,
          13.13,
          13.29,
          13.01,
          11.13,
          10.96,
          10.76,
          11.52,
          11.21,
          14.58,
          14.77,
          16.49,
          15.52,
          15.89,
          16.84,
          15.84,
          16.78,
          16.01,
          16.26,
          17.12,
          16.39,
          17.2,
          15.57,
          15.97,
          8.55,
          9.16,
          10.45,
          10.95,
          11.74,
          10.47,
          12.59,
          12.13,
          12.51,
          12.63,
          12.76,
          13.26,
          13.46,
          13.29,
          13.52,
          11.49,
          12.83,
          11.69,
          12.46,
          13.33,
          14.96,
          15.12,
          16.68,
          15.23,
          15.48,
          16.5,
          15.82,
          16.52,
          16.6,
          16.67,
          17.14,
          16.39,
          17.09,
          15.51,
          16.31,
          8.84,
          9.59,
          10.51,
          11.13,
          11.15,
          11.32,
          12.74,
          12.77,
          13.02,
          12.83,
          12.72,
          13.26,
          13.76,
          13.54,
          13.95,
          12,
          13.13,
          12.01,
          12.68,
          13.6
         ],
         "yaxis": "y"
        },
        {
         "hovertemplate": "variable=Holt-Winters<br>data=%{x}<br>_value=%{y}<extra></extra>",
         "legendgroup": "Holt-Winters",
         "line": {
          "color": "#EF553B",
          "dash": "solid"
         },
         "mode": "lines",
         "name": "Holt-Winters",
         "orientation": "v",
         "showlegend": true,
         "type": "scatter",
         "x": [
          "01.01.2019",
          "02.01.2019",
          "03.01.2019",
          "05.01.2019",
          "06.01.2019",
          "07.01.2019",
          "08.01.2019",
          "09.01.2019",
          "10.01.2019",
          "11.01.2019",
          "12.01.2019",
          "13.01.2019",
          "14.01.2019",
          "17.01.2019",
          "18.01.2019",
          "19.01.2019",
          "20.01.2019",
          "21.01.2019",
          "22.01.2019",
          "23.01.2019",
          "25.01.2019",
          "26.01.2019",
          "27.01.2019",
          "28.01.2019",
          "29.01.2019",
          "30.01.2019",
          "31.01.2019",
          "01.02.2019",
          "02.02.2019",
          "03.02.2019",
          "04.02.2019",
          "05.02.2019",
          "06.02.2019",
          "08.02.2019",
          "10.02.2019",
          "12.02.2019",
          "13.02.2019",
          "15.02.2019",
          "16.02.2019",
          "18.02.2019",
          "19.02.2019",
          "20.02.2019",
          "21.02.2019",
          "22.02.2019",
          "23.02.2019",
          "25.02.2019",
          "26.02.2019",
          "28.02.2019",
          "02.03.2019",
          "03.03.2019",
          "04.03.2019",
          "05.03.2019",
          "06.03.2019",
          "07.03.2019",
          "08.03.2019",
          "10.03.2019",
          "12.03.2019",
          "13.03.2019",
          "14.03.2019",
          "15.03.2019",
          "16.03.2019",
          "17.03.2019",
          "18.03.2019",
          "19.03.2019",
          "20.03.2019",
          "21.03.2019",
          "22.03.2019",
          "23.03.2019",
          "24.03.2019",
          "25.03.2019",
          "26.03.2019",
          "27.03.2019",
          "28.03.2019",
          "29.03.2019",
          "30.03.2019",
          "31.03.2019",
          "01.04.2019",
          "02.04.2019",
          "03.04.2019",
          "04.04.2019",
          "05.04.2019",
          "06.04.2019",
          "07.04.2019",
          "08.04.2019",
          "09.04.2019",
          "10.04.2019",
          "11.04.2019",
          "12.04.2019",
          "13.04.2019",
          "14.04.2019",
          "15.04.2019",
          "16.04.2019",
          "17.04.2019",
          "18.04.2019",
          "19.04.2019",
          "20.04.2019",
          "21.04.2019",
          "22.04.2019",
          "23.04.2019",
          "24.04.2019",
          "25.04.2019",
          "26.04.2019",
          "27.04.2019",
          "28.04.2019",
          "29.04.2019",
          "30.04.2019",
          "01.05.2019",
          "02.05.2019",
          "03.05.2019",
          "04.05.2019",
          "05.05.2019",
          "06.05.2019",
          "07.05.2019",
          "08.05.2019",
          "09.05.2019",
          "10.05.2019",
          "11.05.2019",
          "12.05.2019",
          "13.05.2019",
          "14.05.2019",
          "15.05.2019",
          "16.05.2019",
          "17.05.2019",
          "18.05.2019",
          "19.05.2019",
          "20.05.2019",
          "21.05.2019",
          "22.05.2019",
          "23.05.2019",
          "24.05.2019",
          "25.05.2019",
          "26.05.2019",
          "27.05.2019",
          "28.05.2019",
          "29.05.2019",
          "30.05.2019",
          "31.05.2019",
          "01.06.2019",
          "02.06.2019",
          "03.06.2019"
         ],
         "xaxis": "x",
         "y": [
          14.698446301682642,
          14.997095134907786,
          16.271628588582963,
          15.189316276218065,
          15.499840180922568,
          16.35618740113606,
          15.259598945414492,
          16.318350132798,
          15.962138118940548,
          16.21090440509086,
          16.142864146674697,
          15.81812207880093,
          16.739107490097826,
          15.406574612521446,
          16.180237859577392,
          8.398926448485152,
          9.099107061586214,
          10.05920075296099,
          10.299987720375853,
          10.437990260581408,
          10.034372052117945,
          11.806106883658748,
          11.473859665343495,
          11.888464580165497,
          12.139540662159266,
          12.116712515900941,
          12.256526015070342,
          12.560458633691193,
          12.396371853225599,
          12.640415672652951,
          11.098598151050139,
          12.425169864826572,
          12.027925592436766,
          12.869247498174454,
          13.549173630118027,
          15.561930835221112,
          14.931783412585567,
          16.151125795415687,
          14.742698669926876,
          14.724843197937577,
          15.788107938653216,
          14.917719828240362,
          15.616186149624498,
          15.523527503099725,
          15.264386005792245,
          16.389202400084017,
          15.950020417162023,
          16.35697267816492,
          14.885795030949184,
          15.263560251847988,
          7.987410265391527,
          8.921623101382583,
          10.410663065376085,
          10.895403600575026,
          11.37414339318487,
          10.751276353722993,
          12.204236414029022,
          12.228630875819597,
          12.547195396058036,
          12.624149886363007,
          12.761839094415082,
          13.260044607867897,
          13.25883331160927,
          13.130666157102517,
          13.465466343806405,
          11.436921828312402,
          12.152455853377065,
          10.649338203886106,
          11.355776361115856,
          12.200929657304286,
          13.210124846022374,
          14.265527875187601,
          15.931498549154863,
          15.216470894411676,
          15.522824578162995,
          16.791270837216846,
          15.831608483014016,
          16.795928975421134,
          16.511072729515366,
          16.14844523151568,
          16.84539963776672,
          16.68238364352838,
          16.953898069957795,
          15.781776839701292,
          16.097768315649013,
          8.52772996568692,
          9.39764062464052,
          10.393561332402765,
          10.73089474906103,
          11.28803587851278,
          11.070909867404797,
          12.302592482787082,
          12.409547113963656,
          12.55854493488982,
          12.669685090377605,
          12.588485640214651,
          12.995386392202935,
          13.416557505890713,
          13.388804958466128,
          13.573143470046954,
          11.779101374206258,
          12.505022428892584,
          11.88637303341686,
          12.413849428492735,
          13.190181333202634,
          14.85845716414963,
          15.174585802211855,
          16.514697706608054,
          15.57048558376141,
          15.501461647210977,
          16.5433825481436,
          15.530030929671781,
          16.65847487089452,
          16.302190150791997,
          16.405208306938025,
          17.1914801046113,
          16.838401194580474,
          17.018977482473986,
          15.744807503452893,
          16.047375068586135,
          8.704885702347227,
          9.64057003345096,
          10.745528802783014,
          10.912682787125036,
          11.468781720669494,
          10.802410149062904,
          12.686034047031919,
          12.656922311532563,
          13.034769825556321,
          13.16559651984005,
          12.911918817164159,
          13.10698483407868,
          13.46310842907865,
          13.583084051360025,
          13.799900675406988,
          12.12432295290607,
          12.946288605157706,
          12.245299222795854,
          12.75008666282436,
          13.458667230281502
         ],
         "yaxis": "y"
        }
       ],
       "layout": {
        "legend": {
         "title": {
          "text": "variable"
         },
         "tracegroupgap": 0
        },
        "template": {
         "data": {
          "bar": [
           {
            "error_x": {
             "color": "#2a3f5f"
            },
            "error_y": {
             "color": "#2a3f5f"
            },
            "marker": {
             "line": {
              "color": "#E5ECF6",
              "width": 0.5
             }
            },
            "type": "bar"
           }
          ],
          "barpolar": [
           {
            "marker": {
             "line": {
              "color": "#E5ECF6",
              "width": 0.5
             }
            },
            "type": "barpolar"
           }
          ],
          "carpet": [
           {
            "aaxis": {
             "endlinecolor": "#2a3f5f",
             "gridcolor": "white",
             "linecolor": "white",
             "minorgridcolor": "white",
             "startlinecolor": "#2a3f5f"
            },
            "baxis": {
             "endlinecolor": "#2a3f5f",
             "gridcolor": "white",
             "linecolor": "white",
             "minorgridcolor": "white",
             "startlinecolor": "#2a3f5f"
            },
            "type": "carpet"
           }
          ],
          "choropleth": [
           {
            "colorbar": {
             "outlinewidth": 0,
             "ticks": ""
            },
            "type": "choropleth"
           }
          ],
          "contour": [
           {
            "colorbar": {
             "outlinewidth": 0,
             "ticks": ""
            },
            "colorscale": [
             [
              0,
              "#0d0887"
             ],
             [
              0.1111111111111111,
              "#46039f"
             ],
             [
              0.2222222222222222,
              "#7201a8"
             ],
             [
              0.3333333333333333,
              "#9c179e"
             ],
             [
              0.4444444444444444,
              "#bd3786"
             ],
             [
              0.5555555555555556,
              "#d8576b"
             ],
             [
              0.6666666666666666,
              "#ed7953"
             ],
             [
              0.7777777777777778,
              "#fb9f3a"
             ],
             [
              0.8888888888888888,
              "#fdca26"
             ],
             [
              1,
              "#f0f921"
             ]
            ],
            "type": "contour"
           }
          ],
          "contourcarpet": [
           {
            "colorbar": {
             "outlinewidth": 0,
             "ticks": ""
            },
            "type": "contourcarpet"
           }
          ],
          "heatmap": [
           {
            "colorbar": {
             "outlinewidth": 0,
             "ticks": ""
            },
            "colorscale": [
             [
              0,
              "#0d0887"
             ],
             [
              0.1111111111111111,
              "#46039f"
             ],
             [
              0.2222222222222222,
              "#7201a8"
             ],
             [
              0.3333333333333333,
              "#9c179e"
             ],
             [
              0.4444444444444444,
              "#bd3786"
             ],
             [
              0.5555555555555556,
              "#d8576b"
             ],
             [
              0.6666666666666666,
              "#ed7953"
             ],
             [
              0.7777777777777778,
              "#fb9f3a"
             ],
             [
              0.8888888888888888,
              "#fdca26"
             ],
             [
              1,
              "#f0f921"
             ]
            ],
            "type": "heatmap"
           }
          ],
          "heatmapgl": [
           {
            "colorbar": {
             "outlinewidth": 0,
             "ticks": ""
            },
            "colorscale": [
             [
              0,
              "#0d0887"
             ],
             [
              0.1111111111111111,
              "#46039f"
             ],
             [
              0.2222222222222222,
              "#7201a8"
             ],
             [
              0.3333333333333333,
              "#9c179e"
             ],
             [
              0.4444444444444444,
              "#bd3786"
             ],
             [
              0.5555555555555556,
              "#d8576b"
             ],
             [
              0.6666666666666666,
              "#ed7953"
             ],
             [
              0.7777777777777778,
              "#fb9f3a"
             ],
             [
              0.8888888888888888,
              "#fdca26"
             ],
             [
              1,
              "#f0f921"
             ]
            ],
            "type": "heatmapgl"
           }
          ],
          "histogram": [
           {
            "marker": {
             "colorbar": {
              "outlinewidth": 0,
              "ticks": ""
             }
            },
            "type": "histogram"
           }
          ],
          "histogram2d": [
           {
            "colorbar": {
             "outlinewidth": 0,
             "ticks": ""
            },
            "colorscale": [
             [
              0,
              "#0d0887"
             ],
             [
              0.1111111111111111,
              "#46039f"
             ],
             [
              0.2222222222222222,
              "#7201a8"
             ],
             [
              0.3333333333333333,
              "#9c179e"
             ],
             [
              0.4444444444444444,
              "#bd3786"
             ],
             [
              0.5555555555555556,
              "#d8576b"
             ],
             [
              0.6666666666666666,
              "#ed7953"
             ],
             [
              0.7777777777777778,
              "#fb9f3a"
             ],
             [
              0.8888888888888888,
              "#fdca26"
             ],
             [
              1,
              "#f0f921"
             ]
            ],
            "type": "histogram2d"
           }
          ],
          "histogram2dcontour": [
           {
            "colorbar": {
             "outlinewidth": 0,
             "ticks": ""
            },
            "colorscale": [
             [
              0,
              "#0d0887"
             ],
             [
              0.1111111111111111,
              "#46039f"
             ],
             [
              0.2222222222222222,
              "#7201a8"
             ],
             [
              0.3333333333333333,
              "#9c179e"
             ],
             [
              0.4444444444444444,
              "#bd3786"
             ],
             [
              0.5555555555555556,
              "#d8576b"
             ],
             [
              0.6666666666666666,
              "#ed7953"
             ],
             [
              0.7777777777777778,
              "#fb9f3a"
             ],
             [
              0.8888888888888888,
              "#fdca26"
             ],
             [
              1,
              "#f0f921"
             ]
            ],
            "type": "histogram2dcontour"
           }
          ],
          "mesh3d": [
           {
            "colorbar": {
             "outlinewidth": 0,
             "ticks": ""
            },
            "type": "mesh3d"
           }
          ],
          "parcoords": [
           {
            "line": {
             "colorbar": {
              "outlinewidth": 0,
              "ticks": ""
             }
            },
            "type": "parcoords"
           }
          ],
          "pie": [
           {
            "automargin": true,
            "type": "pie"
           }
          ],
          "scatter": [
           {
            "marker": {
             "colorbar": {
              "outlinewidth": 0,
              "ticks": ""
             }
            },
            "type": "scatter"
           }
          ],
          "scatter3d": [
           {
            "line": {
             "colorbar": {
              "outlinewidth": 0,
              "ticks": ""
             }
            },
            "marker": {
             "colorbar": {
              "outlinewidth": 0,
              "ticks": ""
             }
            },
            "type": "scatter3d"
           }
          ],
          "scattercarpet": [
           {
            "marker": {
             "colorbar": {
              "outlinewidth": 0,
              "ticks": ""
             }
            },
            "type": "scattercarpet"
           }
          ],
          "scattergeo": [
           {
            "marker": {
             "colorbar": {
              "outlinewidth": 0,
              "ticks": ""
             }
            },
            "type": "scattergeo"
           }
          ],
          "scattergl": [
           {
            "marker": {
             "colorbar": {
              "outlinewidth": 0,
              "ticks": ""
             }
            },
            "type": "scattergl"
           }
          ],
          "scattermapbox": [
           {
            "marker": {
             "colorbar": {
              "outlinewidth": 0,
              "ticks": ""
             }
            },
            "type": "scattermapbox"
           }
          ],
          "scatterpolar": [
           {
            "marker": {
             "colorbar": {
              "outlinewidth": 0,
              "ticks": ""
             }
            },
            "type": "scatterpolar"
           }
          ],
          "scatterpolargl": [
           {
            "marker": {
             "colorbar": {
              "outlinewidth": 0,
              "ticks": ""
             }
            },
            "type": "scatterpolargl"
           }
          ],
          "scatterternary": [
           {
            "marker": {
             "colorbar": {
              "outlinewidth": 0,
              "ticks": ""
             }
            },
            "type": "scatterternary"
           }
          ],
          "surface": [
           {
            "colorbar": {
             "outlinewidth": 0,
             "ticks": ""
            },
            "colorscale": [
             [
              0,
              "#0d0887"
             ],
             [
              0.1111111111111111,
              "#46039f"
             ],
             [
              0.2222222222222222,
              "#7201a8"
             ],
             [
              0.3333333333333333,
              "#9c179e"
             ],
             [
              0.4444444444444444,
              "#bd3786"
             ],
             [
              0.5555555555555556,
              "#d8576b"
             ],
             [
              0.6666666666666666,
              "#ed7953"
             ],
             [
              0.7777777777777778,
              "#fb9f3a"
             ],
             [
              0.8888888888888888,
              "#fdca26"
             ],
             [
              1,
              "#f0f921"
             ]
            ],
            "type": "surface"
           }
          ],
          "table": [
           {
            "cells": {
             "fill": {
              "color": "#EBF0F8"
             },
             "line": {
              "color": "white"
             }
            },
            "header": {
             "fill": {
              "color": "#C8D4E3"
             },
             "line": {
              "color": "white"
             }
            },
            "type": "table"
           }
          ]
         },
         "layout": {
          "annotationdefaults": {
           "arrowcolor": "#2a3f5f",
           "arrowhead": 0,
           "arrowwidth": 1
          },
          "coloraxis": {
           "colorbar": {
            "outlinewidth": 0,
            "ticks": ""
           }
          },
          "colorscale": {
           "diverging": [
            [
             0,
             "#8e0152"
            ],
            [
             0.1,
             "#c51b7d"
            ],
            [
             0.2,
             "#de77ae"
            ],
            [
             0.3,
             "#f1b6da"
            ],
            [
             0.4,
             "#fde0ef"
            ],
            [
             0.5,
             "#f7f7f7"
            ],
            [
             0.6,
             "#e6f5d0"
            ],
            [
             0.7,
             "#b8e186"
            ],
            [
             0.8,
             "#7fbc41"
            ],
            [
             0.9,
             "#4d9221"
            ],
            [
             1,
             "#276419"
            ]
           ],
           "sequential": [
            [
             0,
             "#0d0887"
            ],
            [
             0.1111111111111111,
             "#46039f"
            ],
            [
             0.2222222222222222,
             "#7201a8"
            ],
            [
             0.3333333333333333,
             "#9c179e"
            ],
            [
             0.4444444444444444,
             "#bd3786"
            ],
            [
             0.5555555555555556,
             "#d8576b"
            ],
            [
             0.6666666666666666,
             "#ed7953"
            ],
            [
             0.7777777777777778,
             "#fb9f3a"
            ],
            [
             0.8888888888888888,
             "#fdca26"
            ],
            [
             1,
             "#f0f921"
            ]
           ],
           "sequentialminus": [
            [
             0,
             "#0d0887"
            ],
            [
             0.1111111111111111,
             "#46039f"
            ],
            [
             0.2222222222222222,
             "#7201a8"
            ],
            [
             0.3333333333333333,
             "#9c179e"
            ],
            [
             0.4444444444444444,
             "#bd3786"
            ],
            [
             0.5555555555555556,
             "#d8576b"
            ],
            [
             0.6666666666666666,
             "#ed7953"
            ],
            [
             0.7777777777777778,
             "#fb9f3a"
            ],
            [
             0.8888888888888888,
             "#fdca26"
            ],
            [
             1,
             "#f0f921"
            ]
           ]
          },
          "colorway": [
           "#636efa",
           "#EF553B",
           "#00cc96",
           "#ab63fa",
           "#FFA15A",
           "#19d3f3",
           "#FF6692",
           "#B6E880",
           "#FF97FF",
           "#FECB52"
          ],
          "font": {
           "color": "#2a3f5f"
          },
          "geo": {
           "bgcolor": "white",
           "lakecolor": "white",
           "landcolor": "#E5ECF6",
           "showlakes": true,
           "showland": true,
           "subunitcolor": "white"
          },
          "hoverlabel": {
           "align": "left"
          },
          "hovermode": "closest",
          "mapbox": {
           "style": "light"
          },
          "paper_bgcolor": "white",
          "plot_bgcolor": "#E5ECF6",
          "polar": {
           "angularaxis": {
            "gridcolor": "white",
            "linecolor": "white",
            "ticks": ""
           },
           "bgcolor": "#E5ECF6",
           "radialaxis": {
            "gridcolor": "white",
            "linecolor": "white",
            "ticks": ""
           }
          },
          "scene": {
           "xaxis": {
            "backgroundcolor": "#E5ECF6",
            "gridcolor": "white",
            "gridwidth": 2,
            "linecolor": "white",
            "showbackground": true,
            "ticks": "",
            "zerolinecolor": "white"
           },
           "yaxis": {
            "backgroundcolor": "#E5ECF6",
            "gridcolor": "white",
            "gridwidth": 2,
            "linecolor": "white",
            "showbackground": true,
            "ticks": "",
            "zerolinecolor": "white"
           },
           "zaxis": {
            "backgroundcolor": "#E5ECF6",
            "gridcolor": "white",
            "gridwidth": 2,
            "linecolor": "white",
            "showbackground": true,
            "ticks": "",
            "zerolinecolor": "white"
           }
          },
          "shapedefaults": {
           "line": {
            "color": "#2a3f5f"
           }
          },
          "ternary": {
           "aaxis": {
            "gridcolor": "white",
            "linecolor": "white",
            "ticks": ""
           },
           "baxis": {
            "gridcolor": "white",
            "linecolor": "white",
            "ticks": ""
           },
           "bgcolor": "#E5ECF6",
           "caxis": {
            "gridcolor": "white",
            "linecolor": "white",
            "ticks": ""
           }
          },
          "title": {
           "x": 0.05
          },
          "xaxis": {
           "automargin": true,
           "gridcolor": "white",
           "linecolor": "white",
           "ticks": "",
           "title": {
            "standoff": 15
           },
           "zerolinecolor": "white",
           "zerolinewidth": 2
          },
          "yaxis": {
           "automargin": true,
           "gridcolor": "white",
           "linecolor": "white",
           "ticks": "",
           "title": {
            "standoff": 15
           },
           "zerolinecolor": "white",
           "zerolinewidth": 2
          }
         }
        },
        "title": {
         "text": "RMSE = 0.38133161849952724"
        },
        "xaxis": {
         "anchor": "y",
         "domain": [
          0,
          1
         ],
         "rangeslider": {
          "visible": true
         },
         "title": {
          "text": "data"
         }
        },
        "yaxis": {
         "anchor": "x",
         "domain": [
          0,
          1
         ],
         "title": {
          "text": "_value"
         }
        }
       }
      },
      "text/html": [
       "<div>\n",
       "        \n",
       "        \n",
       "            <div id=\"d22ae87a-0635-41f8-903e-b7d1a2e4f633\" class=\"plotly-graph-div\" style=\"height:525px; width:100%;\"></div>\n",
       "            <script type=\"text/javascript\">\n",
       "                require([\"plotly\"], function(Plotly) {\n",
       "                    window.PLOTLYENV=window.PLOTLYENV || {};\n",
       "                    \n",
       "                if (document.getElementById(\"d22ae87a-0635-41f8-903e-b7d1a2e4f633\")) {\n",
       "                    Plotly.newPlot(\n",
       "                        'd22ae87a-0635-41f8-903e-b7d1a2e4f633',\n",
       "                        [{\"hovertemplate\": \"variable=value<br>data=%{x}<br>_value=%{y}<extra></extra>\", \"legendgroup\": \"value\", \"line\": {\"color\": \"#636efa\", \"dash\": \"solid\"}, \"mode\": \"lines\", \"name\": \"value\", \"orientation\": \"v\", \"showlegend\": true, \"type\": \"scatter\", \"x\": [\"01.01.2019\", \"02.01.2019\", \"03.01.2019\", \"05.01.2019\", \"06.01.2019\", \"07.01.2019\", \"08.01.2019\", \"09.01.2019\", \"10.01.2019\", \"11.01.2019\", \"12.01.2019\", \"13.01.2019\", \"14.01.2019\", \"17.01.2019\", \"18.01.2019\", \"19.01.2019\", \"20.01.2019\", \"21.01.2019\", \"22.01.2019\", \"23.01.2019\", \"25.01.2019\", \"26.01.2019\", \"27.01.2019\", \"28.01.2019\", \"29.01.2019\", \"30.01.2019\", \"31.01.2019\", \"01.02.2019\", \"02.02.2019\", \"03.02.2019\", \"04.02.2019\", \"05.02.2019\", \"06.02.2019\", \"08.02.2019\", \"10.02.2019\", \"12.02.2019\", \"13.02.2019\", \"15.02.2019\", \"16.02.2019\", \"18.02.2019\", \"19.02.2019\", \"20.02.2019\", \"21.02.2019\", \"22.02.2019\", \"23.02.2019\", \"25.02.2019\", \"26.02.2019\", \"28.02.2019\", \"02.03.2019\", \"03.03.2019\", \"04.03.2019\", \"05.03.2019\", \"06.03.2019\", \"07.03.2019\", \"08.03.2019\", \"10.03.2019\", \"12.03.2019\", \"13.03.2019\", \"14.03.2019\", \"15.03.2019\", \"16.03.2019\", \"17.03.2019\", \"18.03.2019\", \"19.03.2019\", \"20.03.2019\", \"21.03.2019\", \"22.03.2019\", \"23.03.2019\", \"24.03.2019\", \"25.03.2019\", \"26.03.2019\", \"27.03.2019\", \"28.03.2019\", \"29.03.2019\", \"30.03.2019\", \"31.03.2019\", \"01.04.2019\", \"02.04.2019\", \"03.04.2019\", \"04.04.2019\", \"05.04.2019\", \"06.04.2019\", \"07.04.2019\", \"08.04.2019\", \"09.04.2019\", \"10.04.2019\", \"11.04.2019\", \"12.04.2019\", \"13.04.2019\", \"14.04.2019\", \"15.04.2019\", \"16.04.2019\", \"17.04.2019\", \"18.04.2019\", \"19.04.2019\", \"20.04.2019\", \"21.04.2019\", \"22.04.2019\", \"23.04.2019\", \"24.04.2019\", \"25.04.2019\", \"26.04.2019\", \"27.04.2019\", \"28.04.2019\", \"29.04.2019\", \"30.04.2019\", \"01.05.2019\", \"02.05.2019\", \"03.05.2019\", \"04.05.2019\", \"05.05.2019\", \"06.05.2019\", \"07.05.2019\", \"08.05.2019\", \"09.05.2019\", \"10.05.2019\", \"11.05.2019\", \"12.05.2019\", \"13.05.2019\", \"14.05.2019\", \"15.05.2019\", \"16.05.2019\", \"17.05.2019\", \"18.05.2019\", \"19.05.2019\", \"20.05.2019\", \"21.05.2019\", \"22.05.2019\", \"23.05.2019\", \"24.05.2019\", \"25.05.2019\", \"26.05.2019\", \"27.05.2019\", \"28.05.2019\", \"29.05.2019\", \"30.05.2019\", \"31.05.2019\", \"01.06.2019\", \"02.06.2019\", \"03.06.2019\"], \"xaxis\": \"x\", \"y\": [14.77, 14.83, 16.2, 15.5, 15.16, 16.17, 15.43, 16.18, 16.51, 15.01, 16.14, 16.64, 16.71, 15.98, 15.69, 8.13, 8.8, 9.95, 9.8, 10.57, 10.36, 11.34, 11.65, 12.08, 12.2, 11.83, 12.32, 12.37, 12.4, 13.02, 11.84, 13.13, 12.37, 12.75, 14.28, 14.04, 14.67, 15.52, 14.49, 14.74, 15.99, 14.47, 15.93, 15.2, 16.11, 16.19, 15.89, 16.09, 14.78, 15.64, 8.12, 9.53, 10.72, 10.98, 11.13, 10.53, 12.35, 12.24, 12.44, 12.96, 13.09, 12.8, 13.13, 13.29, 13.01, 11.13, 10.96, 10.76, 11.52, 11.21, 14.58, 14.77, 16.49, 15.52, 15.89, 16.84, 15.84, 16.78, 16.01, 16.26, 17.12, 16.39, 17.2, 15.57, 15.97, 8.55, 9.16, 10.45, 10.95, 11.74, 10.47, 12.59, 12.13, 12.51, 12.63, 12.76, 13.26, 13.46, 13.29, 13.52, 11.49, 12.83, 11.69, 12.46, 13.33, 14.96, 15.12, 16.68, 15.23, 15.48, 16.5, 15.82, 16.52, 16.6, 16.67, 17.14, 16.39, 17.09, 15.51, 16.31, 8.84, 9.59, 10.51, 11.13, 11.15, 11.32, 12.74, 12.77, 13.02, 12.83, 12.72, 13.26, 13.76, 13.54, 13.95, 12.0, 13.13, 12.01, 12.68, 13.6], \"yaxis\": \"y\"}, {\"hovertemplate\": \"variable=Holt-Winters<br>data=%{x}<br>_value=%{y}<extra></extra>\", \"legendgroup\": \"Holt-Winters\", \"line\": {\"color\": \"#EF553B\", \"dash\": \"solid\"}, \"mode\": \"lines\", \"name\": \"Holt-Winters\", \"orientation\": \"v\", \"showlegend\": true, \"type\": \"scatter\", \"x\": [\"01.01.2019\", \"02.01.2019\", \"03.01.2019\", \"05.01.2019\", \"06.01.2019\", \"07.01.2019\", \"08.01.2019\", \"09.01.2019\", \"10.01.2019\", \"11.01.2019\", \"12.01.2019\", \"13.01.2019\", \"14.01.2019\", \"17.01.2019\", \"18.01.2019\", \"19.01.2019\", \"20.01.2019\", \"21.01.2019\", \"22.01.2019\", \"23.01.2019\", \"25.01.2019\", \"26.01.2019\", \"27.01.2019\", \"28.01.2019\", \"29.01.2019\", \"30.01.2019\", \"31.01.2019\", \"01.02.2019\", \"02.02.2019\", \"03.02.2019\", \"04.02.2019\", \"05.02.2019\", \"06.02.2019\", \"08.02.2019\", \"10.02.2019\", \"12.02.2019\", \"13.02.2019\", \"15.02.2019\", \"16.02.2019\", \"18.02.2019\", \"19.02.2019\", \"20.02.2019\", \"21.02.2019\", \"22.02.2019\", \"23.02.2019\", \"25.02.2019\", \"26.02.2019\", \"28.02.2019\", \"02.03.2019\", \"03.03.2019\", \"04.03.2019\", \"05.03.2019\", \"06.03.2019\", \"07.03.2019\", \"08.03.2019\", \"10.03.2019\", \"12.03.2019\", \"13.03.2019\", \"14.03.2019\", \"15.03.2019\", \"16.03.2019\", \"17.03.2019\", \"18.03.2019\", \"19.03.2019\", \"20.03.2019\", \"21.03.2019\", \"22.03.2019\", \"23.03.2019\", \"24.03.2019\", \"25.03.2019\", \"26.03.2019\", \"27.03.2019\", \"28.03.2019\", \"29.03.2019\", \"30.03.2019\", \"31.03.2019\", \"01.04.2019\", \"02.04.2019\", \"03.04.2019\", \"04.04.2019\", \"05.04.2019\", \"06.04.2019\", \"07.04.2019\", \"08.04.2019\", \"09.04.2019\", \"10.04.2019\", \"11.04.2019\", \"12.04.2019\", \"13.04.2019\", \"14.04.2019\", \"15.04.2019\", \"16.04.2019\", \"17.04.2019\", \"18.04.2019\", \"19.04.2019\", \"20.04.2019\", \"21.04.2019\", \"22.04.2019\", \"23.04.2019\", \"24.04.2019\", \"25.04.2019\", \"26.04.2019\", \"27.04.2019\", \"28.04.2019\", \"29.04.2019\", \"30.04.2019\", \"01.05.2019\", \"02.05.2019\", \"03.05.2019\", \"04.05.2019\", \"05.05.2019\", \"06.05.2019\", \"07.05.2019\", \"08.05.2019\", \"09.05.2019\", \"10.05.2019\", \"11.05.2019\", \"12.05.2019\", \"13.05.2019\", \"14.05.2019\", \"15.05.2019\", \"16.05.2019\", \"17.05.2019\", \"18.05.2019\", \"19.05.2019\", \"20.05.2019\", \"21.05.2019\", \"22.05.2019\", \"23.05.2019\", \"24.05.2019\", \"25.05.2019\", \"26.05.2019\", \"27.05.2019\", \"28.05.2019\", \"29.05.2019\", \"30.05.2019\", \"31.05.2019\", \"01.06.2019\", \"02.06.2019\", \"03.06.2019\"], \"xaxis\": \"x\", \"y\": [14.698446301682642, 14.997095134907786, 16.271628588582963, 15.189316276218065, 15.499840180922568, 16.35618740113606, 15.259598945414492, 16.318350132798, 15.962138118940548, 16.21090440509086, 16.142864146674697, 15.81812207880093, 16.739107490097826, 15.406574612521446, 16.180237859577392, 8.398926448485152, 9.099107061586214, 10.05920075296099, 10.299987720375853, 10.437990260581408, 10.034372052117945, 11.806106883658748, 11.473859665343495, 11.888464580165497, 12.139540662159266, 12.116712515900941, 12.256526015070342, 12.560458633691193, 12.396371853225599, 12.640415672652951, 11.098598151050139, 12.425169864826572, 12.027925592436766, 12.869247498174454, 13.549173630118027, 15.561930835221112, 14.931783412585567, 16.151125795415687, 14.742698669926876, 14.724843197937577, 15.788107938653216, 14.917719828240362, 15.616186149624498, 15.523527503099725, 15.264386005792245, 16.389202400084017, 15.950020417162023, 16.35697267816492, 14.885795030949184, 15.263560251847988, 7.987410265391527, 8.921623101382583, 10.410663065376085, 10.895403600575026, 11.37414339318487, 10.751276353722993, 12.204236414029022, 12.228630875819597, 12.547195396058036, 12.624149886363007, 12.761839094415082, 13.260044607867897, 13.25883331160927, 13.130666157102517, 13.465466343806405, 11.436921828312402, 12.152455853377065, 10.649338203886106, 11.355776361115856, 12.200929657304286, 13.210124846022374, 14.265527875187601, 15.931498549154863, 15.216470894411676, 15.522824578162995, 16.791270837216846, 15.831608483014016, 16.795928975421134, 16.511072729515366, 16.14844523151568, 16.84539963776672, 16.68238364352838, 16.953898069957795, 15.781776839701292, 16.097768315649013, 8.52772996568692, 9.39764062464052, 10.393561332402765, 10.73089474906103, 11.28803587851278, 11.070909867404797, 12.302592482787082, 12.409547113963656, 12.55854493488982, 12.669685090377605, 12.588485640214651, 12.995386392202935, 13.416557505890713, 13.388804958466128, 13.573143470046954, 11.779101374206258, 12.505022428892584, 11.88637303341686, 12.413849428492735, 13.190181333202634, 14.85845716414963, 15.174585802211855, 16.514697706608054, 15.57048558376141, 15.501461647210977, 16.5433825481436, 15.530030929671781, 16.65847487089452, 16.302190150791997, 16.405208306938025, 17.1914801046113, 16.838401194580474, 17.018977482473986, 15.744807503452893, 16.047375068586135, 8.704885702347227, 9.64057003345096, 10.745528802783014, 10.912682787125036, 11.468781720669494, 10.802410149062904, 12.686034047031919, 12.656922311532563, 13.034769825556321, 13.16559651984005, 12.911918817164159, 13.10698483407868, 13.46310842907865, 13.583084051360025, 13.799900675406988, 12.12432295290607, 12.946288605157706, 12.245299222795854, 12.75008666282436, 13.458667230281502], \"yaxis\": \"y\"}],\n",
       "                        {\"legend\": {\"title\": {\"text\": \"variable\"}, \"tracegroupgap\": 0}, \"template\": {\"data\": {\"bar\": [{\"error_x\": {\"color\": \"#2a3f5f\"}, \"error_y\": {\"color\": \"#2a3f5f\"}, \"marker\": {\"line\": {\"color\": \"#E5ECF6\", \"width\": 0.5}}, \"type\": \"bar\"}], \"barpolar\": [{\"marker\": {\"line\": {\"color\": \"#E5ECF6\", \"width\": 0.5}}, \"type\": \"barpolar\"}], \"carpet\": [{\"aaxis\": {\"endlinecolor\": \"#2a3f5f\", \"gridcolor\": \"white\", \"linecolor\": \"white\", \"minorgridcolor\": \"white\", \"startlinecolor\": \"#2a3f5f\"}, \"baxis\": {\"endlinecolor\": \"#2a3f5f\", \"gridcolor\": \"white\", \"linecolor\": \"white\", \"minorgridcolor\": \"white\", \"startlinecolor\": \"#2a3f5f\"}, \"type\": \"carpet\"}], \"choropleth\": [{\"colorbar\": {\"outlinewidth\": 0, \"ticks\": \"\"}, \"type\": \"choropleth\"}], \"contour\": [{\"colorbar\": {\"outlinewidth\": 0, \"ticks\": \"\"}, \"colorscale\": [[0.0, \"#0d0887\"], [0.1111111111111111, \"#46039f\"], [0.2222222222222222, \"#7201a8\"], [0.3333333333333333, \"#9c179e\"], [0.4444444444444444, \"#bd3786\"], [0.5555555555555556, \"#d8576b\"], [0.6666666666666666, \"#ed7953\"], [0.7777777777777778, \"#fb9f3a\"], [0.8888888888888888, \"#fdca26\"], [1.0, \"#f0f921\"]], \"type\": \"contour\"}], \"contourcarpet\": [{\"colorbar\": {\"outlinewidth\": 0, \"ticks\": \"\"}, \"type\": \"contourcarpet\"}], \"heatmap\": [{\"colorbar\": {\"outlinewidth\": 0, \"ticks\": \"\"}, \"colorscale\": [[0.0, \"#0d0887\"], [0.1111111111111111, \"#46039f\"], [0.2222222222222222, \"#7201a8\"], [0.3333333333333333, \"#9c179e\"], [0.4444444444444444, \"#bd3786\"], [0.5555555555555556, \"#d8576b\"], [0.6666666666666666, \"#ed7953\"], [0.7777777777777778, \"#fb9f3a\"], [0.8888888888888888, \"#fdca26\"], [1.0, \"#f0f921\"]], \"type\": \"heatmap\"}], \"heatmapgl\": [{\"colorbar\": {\"outlinewidth\": 0, \"ticks\": \"\"}, \"colorscale\": [[0.0, \"#0d0887\"], [0.1111111111111111, \"#46039f\"], [0.2222222222222222, \"#7201a8\"], [0.3333333333333333, \"#9c179e\"], [0.4444444444444444, \"#bd3786\"], [0.5555555555555556, \"#d8576b\"], [0.6666666666666666, \"#ed7953\"], [0.7777777777777778, \"#fb9f3a\"], [0.8888888888888888, \"#fdca26\"], [1.0, \"#f0f921\"]], \"type\": \"heatmapgl\"}], \"histogram\": [{\"marker\": {\"colorbar\": {\"outlinewidth\": 0, \"ticks\": \"\"}}, \"type\": \"histogram\"}], \"histogram2d\": [{\"colorbar\": {\"outlinewidth\": 0, \"ticks\": \"\"}, \"colorscale\": [[0.0, \"#0d0887\"], [0.1111111111111111, \"#46039f\"], [0.2222222222222222, \"#7201a8\"], [0.3333333333333333, \"#9c179e\"], [0.4444444444444444, \"#bd3786\"], [0.5555555555555556, \"#d8576b\"], [0.6666666666666666, \"#ed7953\"], [0.7777777777777778, \"#fb9f3a\"], [0.8888888888888888, \"#fdca26\"], [1.0, \"#f0f921\"]], \"type\": \"histogram2d\"}], \"histogram2dcontour\": [{\"colorbar\": {\"outlinewidth\": 0, \"ticks\": \"\"}, \"colorscale\": [[0.0, \"#0d0887\"], [0.1111111111111111, \"#46039f\"], [0.2222222222222222, \"#7201a8\"], [0.3333333333333333, \"#9c179e\"], [0.4444444444444444, \"#bd3786\"], [0.5555555555555556, \"#d8576b\"], [0.6666666666666666, \"#ed7953\"], [0.7777777777777778, \"#fb9f3a\"], [0.8888888888888888, \"#fdca26\"], [1.0, \"#f0f921\"]], \"type\": \"histogram2dcontour\"}], \"mesh3d\": [{\"colorbar\": {\"outlinewidth\": 0, \"ticks\": \"\"}, \"type\": \"mesh3d\"}], \"parcoords\": [{\"line\": {\"colorbar\": {\"outlinewidth\": 0, \"ticks\": \"\"}}, \"type\": \"parcoords\"}], \"pie\": [{\"automargin\": true, \"type\": \"pie\"}], \"scatter\": [{\"marker\": {\"colorbar\": {\"outlinewidth\": 0, \"ticks\": \"\"}}, \"type\": \"scatter\"}], \"scatter3d\": [{\"line\": {\"colorbar\": {\"outlinewidth\": 0, \"ticks\": \"\"}}, \"marker\": {\"colorbar\": {\"outlinewidth\": 0, \"ticks\": \"\"}}, \"type\": \"scatter3d\"}], \"scattercarpet\": [{\"marker\": {\"colorbar\": {\"outlinewidth\": 0, \"ticks\": \"\"}}, \"type\": \"scattercarpet\"}], \"scattergeo\": [{\"marker\": {\"colorbar\": {\"outlinewidth\": 0, \"ticks\": \"\"}}, \"type\": \"scattergeo\"}], \"scattergl\": [{\"marker\": {\"colorbar\": {\"outlinewidth\": 0, \"ticks\": \"\"}}, \"type\": \"scattergl\"}], \"scattermapbox\": [{\"marker\": {\"colorbar\": {\"outlinewidth\": 0, \"ticks\": \"\"}}, \"type\": \"scattermapbox\"}], \"scatterpolar\": [{\"marker\": {\"colorbar\": {\"outlinewidth\": 0, \"ticks\": \"\"}}, \"type\": \"scatterpolar\"}], \"scatterpolargl\": [{\"marker\": {\"colorbar\": {\"outlinewidth\": 0, \"ticks\": \"\"}}, \"type\": \"scatterpolargl\"}], \"scatterternary\": [{\"marker\": {\"colorbar\": {\"outlinewidth\": 0, \"ticks\": \"\"}}, \"type\": \"scatterternary\"}], \"surface\": [{\"colorbar\": {\"outlinewidth\": 0, \"ticks\": \"\"}, \"colorscale\": [[0.0, \"#0d0887\"], [0.1111111111111111, \"#46039f\"], [0.2222222222222222, \"#7201a8\"], [0.3333333333333333, \"#9c179e\"], [0.4444444444444444, \"#bd3786\"], [0.5555555555555556, \"#d8576b\"], [0.6666666666666666, \"#ed7953\"], [0.7777777777777778, \"#fb9f3a\"], [0.8888888888888888, \"#fdca26\"], [1.0, \"#f0f921\"]], \"type\": \"surface\"}], \"table\": [{\"cells\": {\"fill\": {\"color\": \"#EBF0F8\"}, \"line\": {\"color\": \"white\"}}, \"header\": {\"fill\": {\"color\": \"#C8D4E3\"}, \"line\": {\"color\": \"white\"}}, \"type\": \"table\"}]}, \"layout\": {\"annotationdefaults\": {\"arrowcolor\": \"#2a3f5f\", \"arrowhead\": 0, \"arrowwidth\": 1}, \"coloraxis\": {\"colorbar\": {\"outlinewidth\": 0, \"ticks\": \"\"}}, \"colorscale\": {\"diverging\": [[0, \"#8e0152\"], [0.1, \"#c51b7d\"], [0.2, \"#de77ae\"], [0.3, \"#f1b6da\"], [0.4, \"#fde0ef\"], [0.5, \"#f7f7f7\"], [0.6, \"#e6f5d0\"], [0.7, \"#b8e186\"], [0.8, \"#7fbc41\"], [0.9, \"#4d9221\"], [1, \"#276419\"]], \"sequential\": [[0.0, \"#0d0887\"], [0.1111111111111111, \"#46039f\"], [0.2222222222222222, \"#7201a8\"], [0.3333333333333333, \"#9c179e\"], [0.4444444444444444, \"#bd3786\"], [0.5555555555555556, \"#d8576b\"], [0.6666666666666666, \"#ed7953\"], [0.7777777777777778, \"#fb9f3a\"], [0.8888888888888888, \"#fdca26\"], [1.0, \"#f0f921\"]], \"sequentialminus\": [[0.0, \"#0d0887\"], [0.1111111111111111, \"#46039f\"], [0.2222222222222222, \"#7201a8\"], [0.3333333333333333, \"#9c179e\"], [0.4444444444444444, \"#bd3786\"], [0.5555555555555556, \"#d8576b\"], [0.6666666666666666, \"#ed7953\"], [0.7777777777777778, \"#fb9f3a\"], [0.8888888888888888, \"#fdca26\"], [1.0, \"#f0f921\"]]}, \"colorway\": [\"#636efa\", \"#EF553B\", \"#00cc96\", \"#ab63fa\", \"#FFA15A\", \"#19d3f3\", \"#FF6692\", \"#B6E880\", \"#FF97FF\", \"#FECB52\"], \"font\": {\"color\": \"#2a3f5f\"}, \"geo\": {\"bgcolor\": \"white\", \"lakecolor\": \"white\", \"landcolor\": \"#E5ECF6\", \"showlakes\": true, \"showland\": true, \"subunitcolor\": \"white\"}, \"hoverlabel\": {\"align\": \"left\"}, \"hovermode\": \"closest\", \"mapbox\": {\"style\": \"light\"}, \"paper_bgcolor\": \"white\", \"plot_bgcolor\": \"#E5ECF6\", \"polar\": {\"angularaxis\": {\"gridcolor\": \"white\", \"linecolor\": \"white\", \"ticks\": \"\"}, \"bgcolor\": \"#E5ECF6\", \"radialaxis\": {\"gridcolor\": \"white\", \"linecolor\": \"white\", \"ticks\": \"\"}}, \"scene\": {\"xaxis\": {\"backgroundcolor\": \"#E5ECF6\", \"gridcolor\": \"white\", \"gridwidth\": 2, \"linecolor\": \"white\", \"showbackground\": true, \"ticks\": \"\", \"zerolinecolor\": \"white\"}, \"yaxis\": {\"backgroundcolor\": \"#E5ECF6\", \"gridcolor\": \"white\", \"gridwidth\": 2, \"linecolor\": \"white\", \"showbackground\": true, \"ticks\": \"\", \"zerolinecolor\": \"white\"}, \"zaxis\": {\"backgroundcolor\": \"#E5ECF6\", \"gridcolor\": \"white\", \"gridwidth\": 2, \"linecolor\": \"white\", \"showbackground\": true, \"ticks\": \"\", \"zerolinecolor\": \"white\"}}, \"shapedefaults\": {\"line\": {\"color\": \"#2a3f5f\"}}, \"ternary\": {\"aaxis\": {\"gridcolor\": \"white\", \"linecolor\": \"white\", \"ticks\": \"\"}, \"baxis\": {\"gridcolor\": \"white\", \"linecolor\": \"white\", \"ticks\": \"\"}, \"bgcolor\": \"#E5ECF6\", \"caxis\": {\"gridcolor\": \"white\", \"linecolor\": \"white\", \"ticks\": \"\"}}, \"title\": {\"x\": 0.05}, \"xaxis\": {\"automargin\": true, \"gridcolor\": \"white\", \"linecolor\": \"white\", \"ticks\": \"\", \"title\": {\"standoff\": 15}, \"zerolinecolor\": \"white\", \"zerolinewidth\": 2}, \"yaxis\": {\"automargin\": true, \"gridcolor\": \"white\", \"linecolor\": \"white\", \"ticks\": \"\", \"title\": {\"standoff\": 15}, \"zerolinecolor\": \"white\", \"zerolinewidth\": 2}}}, \"title\": {\"text\": \"RMSE = 0.38133161849952724\"}, \"xaxis\": {\"anchor\": \"y\", \"domain\": [0.0, 1.0], \"rangeslider\": {\"visible\": true}, \"title\": {\"text\": \"data\"}}, \"yaxis\": {\"anchor\": \"x\", \"domain\": [0.0, 1.0], \"title\": {\"text\": \"_value\"}}},\n",
       "                        {\"responsive\": true}\n",
       "                    ).then(function(){\n",
       "                            \n",
       "var gd = document.getElementById('d22ae87a-0635-41f8-903e-b7d1a2e4f633');\n",
       "var x = new MutationObserver(function (mutations, observer) {{\n",
       "        var display = window.getComputedStyle(gd).display;\n",
       "        if (!display || display === 'none') {{\n",
       "            console.log([gd, 'removed!']);\n",
       "            Plotly.purge(gd);\n",
       "            observer.disconnect();\n",
       "        }}\n",
       "}});\n",
       "\n",
       "// Listen for the removal of the full notebook cells\n",
       "var notebookContainer = gd.closest('#notebook-container');\n",
       "if (notebookContainer) {{\n",
       "    x.observe(notebookContainer, {childList: true});\n",
       "}}\n",
       "\n",
       "// Listen for the clearing of the current output cell\n",
       "var outputEl = gd.closest('.output');\n",
       "if (outputEl) {{\n",
       "    x.observe(outputEl, {childList: true});\n",
       "}}\n",
       "\n",
       "                        })\n",
       "                };\n",
       "                });\n",
       "            </script>\n",
       "        </div>"
      ]
     },
     "metadata": {},
     "output_type": "display_data"
    }
   ],
   "source": [
    "fig = px.line(data2, title='RMSE = {}'.format(mean_squared_error(data.value, data2[\"Holt-Winters\"], squared=False)))\n",
    "fig.update_xaxes(rangeslider_visible=True)\n",
    "fig.show()"
   ]
  },
  {
   "cell_type": "code",
   "execution_count": 22,
   "metadata": {},
   "outputs": [
    {
     "data": {
      "image/png": "[encoded data removed]",
      "text/plain": [
       "<IPython.core.display.Image object>"
      ]
     },
     "execution_count": 22,
     "metadata": {},
     "output_type": "execute_result"
    }
   ],
   "source": [
    "Image(filename='plot3.png') "
   ]
  },
  {
   "cell_type": "markdown",
   "metadata": {},
   "source": [
    "#### Полученная модель хорошо восстанавливает исходные данные"
   ]
  },
  {
   "cell_type": "code",
   "execution_count": 11,
   "metadata": {},
   "outputs": [
    {
     "data": {
      "image/png": "[encoded data removed]",
      "text/plain": [
       "<Figure size 1080x504 with 1 Axes>"
      ]
     },
     "metadata": {
      "needs_background": "light"
     },
     "output_type": "display_data"
    }
   ],
   "source": [
    "# строим предсказания с 4.06.2019 до 1.08.2019\n",
    "\n",
    "predictions = fitted.predict(start=data.shape[0], end=data.shape[0] +  59)\n",
    "predictions = data2[\"Holt-Winters\"].append(predictions).values\n",
    "actual = data2.value.values\n",
    "plt.figure(figsize=(15, 7))\n",
    "plt.plot(predictions, color='r', label=\"model\")\n",
    "plt.title(\"Holt-Winters model\")\n",
    "plt.plot(actual, label=\"actual\")\n",
    "plt.legend()\n",
    "plt.axvspan(len(actual), len(predictions), alpha=0.5, color='lightgrey')\n",
    "plt.grid(True)"
   ]
  },
  {
   "cell_type": "code",
   "execution_count": 12,
   "metadata": {},
   "outputs": [
    {
     "data": {
      "text/html": [
       "<div>\n",
       "<style scoped>\n",
       "    .dataframe tbody tr th:only-of-type {\n",
       "        vertical-align: middle;\n",
       "    }\n",
       "\n",
       "    .dataframe tbody tr th {\n",
       "        vertical-align: top;\n",
       "    }\n",
       "\n",
       "    .dataframe thead th {\n",
       "        text-align: right;\n",
       "    }\n",
       "</style>\n",
       "<table border=\"1\" class=\"dataframe\">\n",
       "  <thead>\n",
       "    <tr style=\"text-align: right;\">\n",
       "      <th></th>\n",
       "      <th>prediction</th>\n",
       "    </tr>\n",
       "  </thead>\n",
       "  <tbody>\n",
       "    <tr>\n",
       "      <th>2019-06-03</th>\n",
       "      <td>15.127826</td>\n",
       "    </tr>\n",
       "    <tr>\n",
       "      <th>2019-06-04</th>\n",
       "      <td>15.384768</td>\n",
       "    </tr>\n",
       "    <tr>\n",
       "      <th>2019-06-05</th>\n",
       "      <td>16.756696</td>\n",
       "    </tr>\n",
       "    <tr>\n",
       "      <th>2019-06-06</th>\n",
       "      <td>15.716134</td>\n",
       "    </tr>\n",
       "    <tr>\n",
       "      <th>2019-06-07</th>\n",
       "      <td>15.845569</td>\n",
       "    </tr>\n",
       "    <tr>\n",
       "      <th>2019-06-08</th>\n",
       "      <td>16.900000</td>\n",
       "    </tr>\n",
       "    <tr>\n",
       "      <th>2019-06-09</th>\n",
       "      <td>15.911935</td>\n",
       "    </tr>\n",
       "    <tr>\n",
       "      <th>2019-06-10</th>\n",
       "      <td>16.871364</td>\n",
       "    </tr>\n",
       "    <tr>\n",
       "      <th>2019-06-11</th>\n",
       "      <td>16.595792</td>\n",
       "    </tr>\n",
       "    <tr>\n",
       "      <th>2019-06-12</th>\n",
       "      <td>16.525226</td>\n",
       "    </tr>\n",
       "    <tr>\n",
       "      <th>2019-06-13</th>\n",
       "      <td>17.157158</td>\n",
       "    </tr>\n",
       "    <tr>\n",
       "      <th>2019-06-14</th>\n",
       "      <td>16.834085</td>\n",
       "    </tr>\n",
       "    <tr>\n",
       "      <th>2019-06-15</th>\n",
       "      <td>17.276022</td>\n",
       "    </tr>\n",
       "    <tr>\n",
       "      <th>2019-06-16</th>\n",
       "      <td>15.960455</td>\n",
       "    </tr>\n",
       "    <tr>\n",
       "      <th>2019-06-17</th>\n",
       "      <td>16.399885</td>\n",
       "    </tr>\n",
       "    <tr>\n",
       "      <th>2019-06-18</th>\n",
       "      <td>8.904319</td>\n",
       "    </tr>\n",
       "    <tr>\n",
       "      <th>2019-06-19</th>\n",
       "      <td>9.761249</td>\n",
       "    </tr>\n",
       "    <tr>\n",
       "      <th>2019-06-20</th>\n",
       "      <td>10.895684</td>\n",
       "    </tr>\n",
       "    <tr>\n",
       "      <th>2019-06-21</th>\n",
       "      <td>11.200121</td>\n",
       "    </tr>\n",
       "    <tr>\n",
       "      <th>2019-06-22</th>\n",
       "      <td>11.629552</td>\n",
       "    </tr>\n",
       "    <tr>\n",
       "      <th>2019-06-23</th>\n",
       "      <td>11.148989</td>\n",
       "    </tr>\n",
       "    <tr>\n",
       "      <th>2019-06-24</th>\n",
       "      <td>12.730924</td>\n",
       "    </tr>\n",
       "    <tr>\n",
       "      <th>2019-06-25</th>\n",
       "      <td>12.670357</td>\n",
       "    </tr>\n",
       "    <tr>\n",
       "      <th>2019-06-26</th>\n",
       "      <td>12.982295</td>\n",
       "    </tr>\n",
       "    <tr>\n",
       "      <th>2019-06-27</th>\n",
       "      <td>13.121731</td>\n",
       "    </tr>\n",
       "    <tr>\n",
       "      <th>2019-06-28</th>\n",
       "      <td>13.063663</td>\n",
       "    </tr>\n",
       "    <tr>\n",
       "      <th>2019-06-29</th>\n",
       "      <td>13.370593</td>\n",
       "    </tr>\n",
       "    <tr>\n",
       "      <th>2019-06-30</th>\n",
       "      <td>13.637528</td>\n",
       "    </tr>\n",
       "    <tr>\n",
       "      <th>2019-07-01</th>\n",
       "      <td>13.584454</td>\n",
       "    </tr>\n",
       "    <tr>\n",
       "      <th>2019-07-02</th>\n",
       "      <td>13.826383</td>\n",
       "    </tr>\n",
       "    <tr>\n",
       "      <th>2019-07-03</th>\n",
       "      <td>12.063317</td>\n",
       "    </tr>\n",
       "    <tr>\n",
       "      <th>2019-07-04</th>\n",
       "      <td>12.957747</td>\n",
       "    </tr>\n",
       "    <tr>\n",
       "      <th>2019-07-05</th>\n",
       "      <td>12.149677</td>\n",
       "    </tr>\n",
       "    <tr>\n",
       "      <th>2019-07-06</th>\n",
       "      <td>12.791614</td>\n",
       "    </tr>\n",
       "    <tr>\n",
       "      <th>2019-07-07</th>\n",
       "      <td>13.541046</td>\n",
       "    </tr>\n",
       "    <tr>\n",
       "      <th>2019-07-08</th>\n",
       "      <td>15.127826</td>\n",
       "    </tr>\n",
       "    <tr>\n",
       "      <th>2019-07-09</th>\n",
       "      <td>15.384768</td>\n",
       "    </tr>\n",
       "    <tr>\n",
       "      <th>2019-07-10</th>\n",
       "      <td>16.756696</td>\n",
       "    </tr>\n",
       "    <tr>\n",
       "      <th>2019-07-11</th>\n",
       "      <td>15.716134</td>\n",
       "    </tr>\n",
       "    <tr>\n",
       "      <th>2019-07-12</th>\n",
       "      <td>15.845569</td>\n",
       "    </tr>\n",
       "    <tr>\n",
       "      <th>2019-07-13</th>\n",
       "      <td>16.900000</td>\n",
       "    </tr>\n",
       "    <tr>\n",
       "      <th>2019-07-14</th>\n",
       "      <td>15.911935</td>\n",
       "    </tr>\n",
       "    <tr>\n",
       "      <th>2019-07-15</th>\n",
       "      <td>16.871364</td>\n",
       "    </tr>\n",
       "    <tr>\n",
       "      <th>2019-07-16</th>\n",
       "      <td>16.595792</td>\n",
       "    </tr>\n",
       "    <tr>\n",
       "      <th>2019-07-17</th>\n",
       "      <td>16.525226</td>\n",
       "    </tr>\n",
       "    <tr>\n",
       "      <th>2019-07-18</th>\n",
       "      <td>17.157158</td>\n",
       "    </tr>\n",
       "    <tr>\n",
       "      <th>2019-07-19</th>\n",
       "      <td>16.834085</td>\n",
       "    </tr>\n",
       "    <tr>\n",
       "      <th>2019-07-20</th>\n",
       "      <td>17.276022</td>\n",
       "    </tr>\n",
       "    <tr>\n",
       "      <th>2019-07-21</th>\n",
       "      <td>15.960455</td>\n",
       "    </tr>\n",
       "    <tr>\n",
       "      <th>2019-07-22</th>\n",
       "      <td>16.399885</td>\n",
       "    </tr>\n",
       "    <tr>\n",
       "      <th>2019-07-23</th>\n",
       "      <td>8.904319</td>\n",
       "    </tr>\n",
       "    <tr>\n",
       "      <th>2019-07-24</th>\n",
       "      <td>9.761249</td>\n",
       "    </tr>\n",
       "    <tr>\n",
       "      <th>2019-07-25</th>\n",
       "      <td>10.895684</td>\n",
       "    </tr>\n",
       "    <tr>\n",
       "      <th>2019-07-26</th>\n",
       "      <td>11.200121</td>\n",
       "    </tr>\n",
       "    <tr>\n",
       "      <th>2019-07-27</th>\n",
       "      <td>11.629552</td>\n",
       "    </tr>\n",
       "    <tr>\n",
       "      <th>2019-07-28</th>\n",
       "      <td>11.148989</td>\n",
       "    </tr>\n",
       "    <tr>\n",
       "      <th>2019-07-29</th>\n",
       "      <td>12.730924</td>\n",
       "    </tr>\n",
       "    <tr>\n",
       "      <th>2019-07-30</th>\n",
       "      <td>12.670357</td>\n",
       "    </tr>\n",
       "    <tr>\n",
       "      <th>2019-07-31</th>\n",
       "      <td>12.982295</td>\n",
       "    </tr>\n",
       "    <tr>\n",
       "      <th>2019-08-01</th>\n",
       "      <td>13.121731</td>\n",
       "    </tr>\n",
       "  </tbody>\n",
       "</table>\n",
       "</div>"
      ],
      "text/plain": [
       "            prediction\n",
       "2019-06-03   15.127826\n",
       "2019-06-04   15.384768\n",
       "2019-06-05   16.756696\n",
       "2019-06-06   15.716134\n",
       "2019-06-07   15.845569\n",
       "2019-06-08   16.900000\n",
       "2019-06-09   15.911935\n",
       "2019-06-10   16.871364\n",
       "2019-06-11   16.595792\n",
       "2019-06-12   16.525226\n",
       "2019-06-13   17.157158\n",
       "2019-06-14   16.834085\n",
       "2019-06-15   17.276022\n",
       "2019-06-16   15.960455\n",
       "2019-06-17   16.399885\n",
       "2019-06-18    8.904319\n",
       "2019-06-19    9.761249\n",
       "2019-06-20   10.895684\n",
       "2019-06-21   11.200121\n",
       "2019-06-22   11.629552\n",
       "2019-06-23   11.148989\n",
       "2019-06-24   12.730924\n",
       "2019-06-25   12.670357\n",
       "2019-06-26   12.982295\n",
       "2019-06-27   13.121731\n",
       "2019-06-28   13.063663\n",
       "2019-06-29   13.370593\n",
       "2019-06-30   13.637528\n",
       "2019-07-01   13.584454\n",
       "2019-07-02   13.826383\n",
       "2019-07-03   12.063317\n",
       "2019-07-04   12.957747\n",
       "2019-07-05   12.149677\n",
       "2019-07-06   12.791614\n",
       "2019-07-07   13.541046\n",
       "2019-07-08   15.127826\n",
       "2019-07-09   15.384768\n",
       "2019-07-10   16.756696\n",
       "2019-07-11   15.716134\n",
       "2019-07-12   15.845569\n",
       "2019-07-13   16.900000\n",
       "2019-07-14   15.911935\n",
       "2019-07-15   16.871364\n",
       "2019-07-16   16.595792\n",
       "2019-07-17   16.525226\n",
       "2019-07-18   17.157158\n",
       "2019-07-19   16.834085\n",
       "2019-07-20   17.276022\n",
       "2019-07-21   15.960455\n",
       "2019-07-22   16.399885\n",
       "2019-07-23    8.904319\n",
       "2019-07-24    9.761249\n",
       "2019-07-25   10.895684\n",
       "2019-07-26   11.200121\n",
       "2019-07-27   11.629552\n",
       "2019-07-28   11.148989\n",
       "2019-07-29   12.730924\n",
       "2019-07-30   12.670357\n",
       "2019-07-31   12.982295\n",
       "2019-08-01   13.121731"
      ]
     },
     "execution_count": 12,
     "metadata": {},
     "output_type": "execute_result"
    }
   ],
   "source": [
    "result = pd.DataFrame(fitted.predict(start=data.shape[0], end=data.shape[0] + 59))\n",
    "result.columns = ['prediction']\n",
    "\n",
    "base = datetime.datetime(2019, 8, 1)\n",
    "date_list = np.array([base - datetime.timedelta(days=x) for x in range(60)])[::-1]\n",
    "\n",
    "result.set_index(date_list)"
   ]
  },
  {
   "cell_type": "code",
   "execution_count": null,
   "metadata": {},
   "outputs": [],
   "source": []
  },
  {
   "cell_type": "code",
   "execution_count": null,
   "metadata": {},
   "outputs": [],
   "source": []
  }
 ],
 "metadata": {
  "kernelspec": {
   "display_name": "Python 3",
   "language": "python",
   "name": "python3"
  },
  "language_info": {
   "codemirror_mode": {
    "name": "ipython",
    "version": 3
   },
   "file_extension": ".py",
   "mimetype": "text/x-python",
   "name": "python",
   "nbconvert_exporter": "python",
   "pygments_lexer": "ipython3",
   "version": "3.8.3"
  }
 },
 "nbformat": 4,
 "nbformat_minor": 4
}
